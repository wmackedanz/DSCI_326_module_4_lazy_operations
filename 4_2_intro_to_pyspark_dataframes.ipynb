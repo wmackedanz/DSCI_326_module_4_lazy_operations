{
 "cells": [
  {
   "cell_type": "markdown",
   "metadata": {
    "id": "HmGoJGPARy2q"
   },
   "source": [
    "# Introduction to `pyspark.sql.DataFrame`s\n",
    "\n",
    "Adapted from [Databrick's tutorial](https://docs.databricks.com/spark/latest/dataframes-datasets/introduction-to-dataframes-python.html)"
   ]
  },
  {
   "cell_type": "markdown",
   "metadata": {},
   "source": [
    "## Installing a `pyspark` Anaconda virtual environment\n",
    "\n",
    "Use Anaconda Navigator to create a virtual environment with the following packages installed"
   ]
  },
  {
   "cell_type": "markdown",
   "metadata": {},
   "source": [
    "#### `pyspark` Stuff\n",
    "1. `openjdk` to install Java,\n",
    "2. `pyspark` to install `spark` and `pyspark`, and\n",
    "3. `findspark` to (possibly) deal with any issues finding `spark`."
   ]
  },
  {
   "cell_type": "markdown",
   "metadata": {},
   "source": [
    "#### The usual suspects - data management\n",
    "\n",
    "1. `pandas`\n",
    "2. `polars`\n",
    "3. `pyarrow[all]`"
   ]
  },
  {
   "cell_type": "markdown",
   "metadata": {},
   "source": [
    "#### The usual suspects - visualization and ML\n",
    "\n",
    "1. `scikit-learn`\n",
    "2. `seaborn`\n",
    "3. `plotnine`\n",
    "4. `altair`"
   ]
  },
  {
   "cell_type": "code",
   "execution_count": 4,
   "metadata": {
    "id": "L5K2nZoKRy2u"
   },
   "outputs": [],
   "source": [
    "# import pyspark class Row from module sql\n",
    "from pyspark.sql import SparkSession"
   ]
  },
  {
   "cell_type": "markdown",
   "metadata": {
    "id": "D24uSpsiRy2v"
   },
   "source": [
    "## What is spark?\n",
    "\n",
    "* Build for the Hadoop platform\n",
    "* Replacement of MapReduce\n",
    "* Second-generation optimization\n",
    "    * Lazy\n",
    "    * Optimized\n",
    "    * Persistent data structures\n",
    "* Written in scala"
   ]
  },
  {
   "cell_type": "markdown",
   "metadata": {
    "id": "Uw5GmuzoRy2v"
   },
   "source": [
    "## Ok ... so what's Hadoop?\n",
    "\n",
    "* Distributed computing platform\n",
    "* [Used by lots of companies](https://wiki.apache.org/hadoop/PoweredBy)\n",
    "* Becoming an industry standard\n"
   ]
  },
  {
   "cell_type": "markdown",
   "metadata": {
    "id": "9qkETupURy2w"
   },
   "source": [
    "## What is `pyspark`?\n",
    "\n",
    "* Python interface to spark\n",
    "* Needs a spark session\n",
    "    * `session` $\\leftrightarrow$ spark\n"
   ]
  },
  {
   "cell_type": "markdown",
   "metadata": {
    "id": "8v26KFc3Ry2w"
   },
   "source": [
    "## Step 0 - Create a spark session\n",
    "\n",
    "`pyspark` (Python) communicates with `spark` (JVM via Scala) through a session"
   ]
  },
  {
   "cell_type": "code",
   "execution_count": 5,
   "metadata": {
    "id": "inmnI_3_Ry2x"
   },
   "outputs": [],
   "source": [
    "spark = SparkSession.builder.appName('Ops').getOrCreate()"
   ]
  },
  {
   "cell_type": "markdown",
   "metadata": {
    "id": "bZct8N4PRy2y"
   },
   "source": [
    "## Overview -  `pyspark.DataFrame`\n",
    "\n",
    "* A `DataFrame` is a collection of `Row`s\n",
    "* `Row`s can be distributed over many machines\n",
    "* `spark`\n",
    "    * Hides the messy details\n",
    "    * Optimizes operations"
   ]
  },
  {
   "cell_type": "markdown",
   "metadata": {
    "id": "jKVuBwbtRy26"
   },
   "source": [
    "## How to think about a `pyspark.DataFrame`\n",
    "\n",
    "<img src=\"https://github.com/wsu-stat489/module5_intro_to_pyspark/blob/main/img/pyspark_df.png?raw=1\" width=600>"
   ]
  },
  {
   "cell_type": "markdown",
   "metadata": {
    "id": "BKrVK7sARy28"
   },
   "source": [
    "## Reading a `csv` file with `spark.read.csv`"
   ]
  },
  {
   "cell_type": "markdown",
   "metadata": {},
   "source": [
    "#### `read.csv` is lazy"
   ]
  },
  {
   "cell_type": "code",
   "execution_count": 6,
   "metadata": {
    "colab": {
     "base_uri": "https://localhost:8080/"
    },
    "id": "DhbWSRcWRy29",
    "outputId": "41f5ee1c-bc8e-42ce-ea48-a79ce1788c2c"
   },
   "outputs": [
    {
     "data": {
      "text/plain": [
       "DataFrame[ID: string, name: string, Gender: string, Eye color: string, Race: string, Hair color: string, Height: string, Publisher: string, Skin color: string, Alignment: string, Weight: string]"
      ]
     },
     "execution_count": 6,
     "metadata": {},
     "output_type": "execute_result"
    }
   ],
   "source": [
    "(heroes := \n",
    " spark.read.csv('./data/heroes_information.csv', header=True)\n",
    ")"
   ]
  },
  {
   "cell_type": "markdown",
   "metadata": {
    "id": "BLf4rjDrRy26"
   },
   "source": [
    "## Example - `filter` and `collect`"
   ]
  },
  {
   "cell_type": "markdown",
   "metadata": {},
   "source": [
    "#### `filter` is lazy"
   ]
  },
  {
   "cell_type": "code",
   "execution_count": 60,
   "metadata": {},
   "outputs": [
    {
     "data": {
      "text/plain": [
       "DataFrame[ID: string, name: string, Gender: string, Eye color: string, Race: string, Hair color: string, Height: string, Publisher: string, Skin color: string, Alignment: string, Weight: string]"
      ]
     },
     "execution_count": 60,
     "metadata": {},
     "output_type": "execute_result"
    }
   ],
   "source": [
    "from pyspark.sql.functions import col\n",
    "\n",
    "(heroes\n",
    " .filter(col('Eye color') == 'yellow')\n",
    ")"
   ]
  },
  {
   "cell_type": "markdown",
   "metadata": {},
   "source": [
    "#### `limit` is lazy"
   ]
  },
  {
   "cell_type": "code",
   "execution_count": 61,
   "metadata": {},
   "outputs": [
    {
     "data": {
      "text/plain": [
       "DataFrame[ID: string, name: string, Gender: string, Eye color: string, Race: string, Hair color: string, Height: string, Publisher: string, Skin color: string, Alignment: string, Weight: string]"
      ]
     },
     "execution_count": 61,
     "metadata": {},
     "output_type": "execute_result"
    }
   ],
   "source": [
    "from pyspark.sql.functions import col\n",
    "\n",
    "(heroes\n",
    " .filter(col('Eye color') == 'yellow')\n",
    " .limit(5)\n",
    ")"
   ]
  },
  {
   "cell_type": "markdown",
   "metadata": {},
   "source": [
    "#### `take` is eager"
   ]
  },
  {
   "cell_type": "code",
   "execution_count": 62,
   "metadata": {},
   "outputs": [
    {
     "data": {
      "text/plain": [
       "[Row(ID='0', name='A-Bomb', Gender='Male', Eye color='yellow', Race='Human', Hair color='No Hair', Height='203', Publisher='Marvel Comics', Skin color='-', Alignment='good', Weight='441'),\n",
       " Row(ID='24', name='Angel Dust', Gender='Female', Eye color='yellow', Race='Mutant', Hair color='Black', Height='165', Publisher='Marvel Comics', Skin color='-', Alignment='good', Weight='57'),\n",
       " Row(ID='31', name='Anti-Monitor', Gender='Male', Eye color='yellow', Race='God / Eternal', Hair color='No Hair', Height='61', Publisher='DC Comics', Skin color='-', Alignment='bad', Weight='-99'),\n",
       " Row(ID='56', name='Azazel', Gender='Male', Eye color='yellow', Race='Neyaphem', Hair color='Black', Height='183', Publisher='Marvel Comics', Skin color='red', Alignment='bad', Weight='67'),\n",
       " Row(ID='207', name='Darth Vader', Gender='Male', Eye color='yellow', Race='Cyborg', Hair color='No Hair', Height='198', Publisher='George Lucas', Skin color='-', Alignment='bad', Weight='135')]"
      ]
     },
     "execution_count": 62,
     "metadata": {},
     "output_type": "execute_result"
    }
   ],
   "source": [
    "from pyspark.sql.functions import col\n",
    "\n",
    "(heroes\n",
    " .filter(col('Eye color') == 'yellow')\n",
    " .take(5)\n",
    ")"
   ]
  },
  {
   "cell_type": "markdown",
   "metadata": {},
   "source": [
    "#### `collect` is eager"
   ]
  },
  {
   "cell_type": "code",
   "execution_count": 65,
   "metadata": {},
   "outputs": [
    {
     "data": {
      "text/plain": [
       "[Row(ID='0', name='A-Bomb', Gender='Male', Eye color='yellow', Race='Human', Hair color='No Hair', Height='203', Publisher='Marvel Comics', Skin color='-', Alignment='good', Weight='441'),\n",
       " Row(ID='24', name='Angel Dust', Gender='Female', Eye color='yellow', Race='Mutant', Hair color='Black', Height='165', Publisher='Marvel Comics', Skin color='-', Alignment='good', Weight='57'),\n",
       " Row(ID='31', name='Anti-Monitor', Gender='Male', Eye color='yellow', Race='God / Eternal', Hair color='No Hair', Height='61', Publisher='DC Comics', Skin color='-', Alignment='bad', Weight='-99'),\n",
       " Row(ID='56', name='Azazel', Gender='Male', Eye color='yellow', Race='Neyaphem', Hair color='Black', Height='183', Publisher='Marvel Comics', Skin color='red', Alignment='bad', Weight='67'),\n",
       " Row(ID='207', name='Darth Vader', Gender='Male', Eye color='yellow', Race='Cyborg', Hair color='No Hair', Height='198', Publisher='George Lucas', Skin color='-', Alignment='bad', Weight='135'),\n",
       " Row(ID='209', name='Data', Gender='Male', Eye color='yellow', Race='Android', Hair color='Brown', Height='-99', Publisher='Star Trek', Skin color='-', Alignment='good', Weight='-99'),\n",
       " Row(ID='231', name='Dormammu', Gender='Male', Eye color='yellow', Race='-', Hair color='No Hair', Height='185', Publisher='Marvel Comics', Skin color='-', Alignment='bad', Weight='-99'),\n",
       " Row(ID='266', name='Flash IV', Gender='Male', Eye color='yellow', Race='Human', Hair color='Auburn', Height='157', Publisher='DC Comics', Skin color='-', Alignment='good', Weight='52'),\n",
       " Row(ID='274', name='Gamora', Gender='Female', Eye color='yellow', Race='Zen-Whoberian', Hair color='Black', Height='183', Publisher='Marvel Comics', Skin color='green', Alignment='good', Weight='77'),\n",
       " Row(ID='293', name='Gorilla Grodd', Gender='Male', Eye color='yellow', Race='Gorilla', Hair color='Black', Height='198', Publisher='DC Comics', Skin color='-', Alignment='bad', Weight='270'),\n",
       " Row(ID='302', name='Groot', Gender='Male', Eye color='yellow', Race='Flora Colossus', Hair color='-', Height='701', Publisher='Marvel Comics', Skin color='-', Alignment='good', Weight='4'),\n",
       " Row(ID='339', name='Impulse', Gender='Male', Eye color='yellow', Race='Human', Hair color='Auburn', Height='170', Publisher='DC Comics', Skin color='-', Alignment='good', Weight='65'),\n",
       " Row(ID='353', name='Jar Jar Binks', Gender='Male', Eye color='yellow', Race='Gungan', Hair color='-', Height='193', Publisher='George Lucas', Skin color='orange / white', Alignment='good', Weight='-99'),\n",
       " Row(ID='389', name='King Kong', Gender='Male', Eye color='yellow', Race='Animal', Hair color='Black', Height='30.5', Publisher=None, Skin color='-', Alignment='good', Weight=None),\n",
       " Row(ID='409', name='Living Brain', Gender='-', Eye color='yellow', Race='-', Hair color='-', Height='198', Publisher='Marvel Comics', Skin color='-', Alignment='bad', Weight='360'),\n",
       " Row(ID='490', name='Nightcrawler', Gender='Male', Eye color='yellow', Race='-', Hair color='Indigo', Height='175', Publisher='Marvel Comics', Skin color='-', Alignment='good', Weight='88'),\n",
       " Row(ID='549', name='Red Hulk', Gender='Male', Eye color='yellow', Race='Human / Radiation', Hair color='Black', Height='213', Publisher='Marvel Comics', Skin color='red', Alignment='neutral', Weight='630'),\n",
       " Row(ID='648', name='Swarm', Gender='Male', Eye color='yellow', Race='Mutant', Hair color='No Hair', Height='196', Publisher='Marvel Comics', Skin color='yellow', Alignment='bad', Weight='47'),\n",
       " Row(ID='677', name='Trigon', Gender='Male', Eye color='yellow', Race='God / Eternal', Hair color='Black', Height='-99', Publisher='DC Comics', Skin color='red', Alignment='bad', Weight='-99')]"
      ]
     },
     "execution_count": 65,
     "metadata": {},
     "output_type": "execute_result"
    }
   ],
   "source": [
    "from pyspark.sql.functions import col\n",
    "\n",
    "(heroes\n",
    " .filter(col('Eye color') == 'yellow')\n",
    "#  .limit(5)\n",
    " .collect()\n",
    ")"
   ]
  },
  {
   "cell_type": "markdown",
   "metadata": {
    "id": "q9SJPtXWRy27"
   },
   "source": [
    "### Why is `pyspark` so slow?\n",
    "\n",
    "* Optimized for \n",
    "    * Distributed computation\n",
    "    * Big data \n",
    "* Not great for\n",
    "    * Local work on\n",
    "    * Small data"
   ]
  },
  {
   "cell_type": "markdown",
   "metadata": {},
   "source": [
    "### Why is `pyspark` so fast?\n",
    "\n",
    "* Distributed nature $\\longrightarrow$ leverage multi-core CPU,\n",
    "* Data model can optimize data access via predicate/projection/slice pushdown,\n",
    "* Lazy evaluation allow optimized memory usages (e.g., for a grouped aggregation), and\n",
    "* Arrow allows FAST implementation of `pandas` user defined functions (UDF).\n",
    "\n",
    "See [this article](https://www.databricks.com/blog/2018/05/03/benchmarking-apache-spark-on-a-single-node-machine.html) for details."
   ]
  },
  {
   "cell_type": "markdown",
   "metadata": {
    "id": "ZeGQ8V3WRy28"
   },
   "source": [
    "## `filter` and `collect` illustrated\n",
    "\n",
    "<img src=\"https://github.com/wsu-stat489/module5_intro_to_pyspark/blob/main/img/pyspark_filter_collect.gif?raw=1\" width=600>"
   ]
  },
  {
   "cell_type": "markdown",
   "metadata": {
    "id": "qeWlqKJhRy29"
   },
   "source": [
    "## Inspecting the column types"
   ]
  },
  {
   "cell_type": "code",
   "execution_count": 66,
   "metadata": {
    "colab": {
     "base_uri": "https://localhost:8080/"
    },
    "id": "UxukDxMURy2-",
    "outputId": "f7d5d16d-06c5-45bd-9eca-85769a9a4196"
   },
   "outputs": [
    {
     "name": "stdout",
     "output_type": "stream",
     "text": [
      "root\n",
      " |-- Id: integer (nullable = true)\n",
      " |-- name: string (nullable = true)\n",
      " |-- Gender: string (nullable = true)\n",
      " |-- Eye color: string (nullable = true)\n",
      " |-- Race: string (nullable = true)\n",
      " |-- Hair color: string (nullable = true)\n",
      " |-- Height: double (nullable = true)\n",
      " |-- Publisher: string (nullable = true)\n",
      " |-- Skin color: string (nullable = true)\n",
      " |-- Alignment: string (nullable = true)\n",
      " |-- Weight: double (nullable = true)\n",
      "\n"
     ]
    }
   ],
   "source": [
    "heros.printSchema()"
   ]
  },
  {
   "cell_type": "markdown",
   "metadata": {
    "id": "m_fo_qJRRy2-"
   },
   "source": [
    "## Gathering results in `pyspark.sql`\n",
    "\n",
    "* **Important fact** All `pyspark` queries end in a collection method\n",
    "* **Why?** Data is (possibly) spread across many machines\n",
    "* <font color = \"red\"> **Warning** This might be is *expensive*! Know how much data your are requesting! </font>"
   ]
  },
  {
   "cell_type": "markdown",
   "metadata": {
    "id": "w0RzEUbPRy2_"
   },
   "source": [
    "## Gathering methods\n",
    "\n",
    "Here are the default methods for gathering the results.\n",
    "\n",
    "* `collect` returns all values\n",
    "* `take(n)` returns the first `n` values \n",
    "* `sample(n)` returns `n` randomly selected values\n",
    "\n",
    "**Note.** These are combersome, as they return a list of `Row`s :("
   ]
  },
  {
   "cell_type": "markdown",
   "metadata": {
    "id": "6ps4FCptRy2_"
   },
   "source": [
    "### Inspecting the content - `take`"
   ]
  },
  {
   "cell_type": "code",
   "execution_count": 67,
   "metadata": {
    "colab": {
     "base_uri": "https://localhost:8080/"
    },
    "id": "ChQBZx0DRy3A",
    "outputId": "b67a92a6-24f9-48ae-d7d9-9e0bc7311e7a"
   },
   "outputs": [
    {
     "data": {
      "text/plain": [
       "[Row(Id=0, name='A-Bomb', Gender='Male', Eye color='yellow', Race='Human', Hair color='No Hair', Height=203.0, Publisher='Marvel Comics', Skin color=None, Alignment='good', Weight=441.0),\n",
       " Row(Id=1, name='Abe Sapien', Gender='Male', Eye color='blue', Race='Icthyo Sapien', Hair color='No Hair', Height=191.0, Publisher='Dark Horse Comics', Skin color='blue', Alignment='good', Weight=65.0),\n",
       " Row(Id=2, name='Abin Sur', Gender='Male', Eye color='blue', Race='Ungaran', Hair color='No Hair', Height=185.0, Publisher='DC Comics', Skin color='red', Alignment='good', Weight=90.0),\n",
       " Row(Id=3, name='Abomination', Gender='Male', Eye color='green', Race='Human / Radiation', Hair color='No Hair', Height=203.0, Publisher='Marvel Comics', Skin color=None, Alignment='bad', Weight=441.0),\n",
       " Row(Id=4, name='Abraxas', Gender='Male', Eye color='blue', Race='Cosmic Entity', Hair color='Black', Height=-99.0, Publisher='Marvel Comics', Skin color=None, Alignment='bad', Weight=-99.0)]"
      ]
     },
     "execution_count": 67,
     "metadata": {},
     "output_type": "execute_result"
    }
   ],
   "source": [
    "heros.take(5) # BAD!!!"
   ]
  },
  {
   "cell_type": "markdown",
   "metadata": {
    "id": "kVUEEQsoRy3B"
   },
   "source": [
    "## Inspecting the whole table - `collect`"
   ]
  },
  {
   "cell_type": "code",
   "execution_count": 68,
   "metadata": {
    "colab": {
     "base_uri": "https://localhost:8080/"
    },
    "id": "Ukr-YV_dRy3C",
    "outputId": "88a8a533-7471-48fd-921a-7376d3f1baba",
    "scrolled": true
   },
   "outputs": [
    {
     "data": {
      "text/plain": [
       "[Row(Id=0, name='A-Bomb', Gender='Male', Eye color='yellow', Race='Human', Hair color='No Hair', Height=203.0, Publisher='Marvel Comics', Skin color=None, Alignment='good', Weight=441.0),\n",
       " Row(Id=1, name='Abe Sapien', Gender='Male', Eye color='blue', Race='Icthyo Sapien', Hair color='No Hair', Height=191.0, Publisher='Dark Horse Comics', Skin color='blue', Alignment='good', Weight=65.0),\n",
       " Row(Id=2, name='Abin Sur', Gender='Male', Eye color='blue', Race='Ungaran', Hair color='No Hair', Height=185.0, Publisher='DC Comics', Skin color='red', Alignment='good', Weight=90.0),\n",
       " Row(Id=3, name='Abomination', Gender='Male', Eye color='green', Race='Human / Radiation', Hair color='No Hair', Height=203.0, Publisher='Marvel Comics', Skin color=None, Alignment='bad', Weight=441.0),\n",
       " Row(Id=4, name='Abraxas', Gender='Male', Eye color='blue', Race='Cosmic Entity', Hair color='Black', Height=-99.0, Publisher='Marvel Comics', Skin color=None, Alignment='bad', Weight=-99.0),\n",
       " Row(Id=5, name='Absorbing Man', Gender='Male', Eye color='blue', Race='Human', Hair color='No Hair', Height=193.0, Publisher='Marvel Comics', Skin color=None, Alignment='bad', Weight=122.0),\n",
       " Row(Id=6, name='Adam Monroe', Gender='Male', Eye color='blue', Race=None, Hair color='Blond', Height=-99.0, Publisher='NBC - Heroes', Skin color=None, Alignment='good', Weight=-99.0),\n",
       " Row(Id=7, name='Adam Strange', Gender='Male', Eye color='blue', Race='Human', Hair color='Blond', Height=185.0, Publisher='DC Comics', Skin color=None, Alignment='good', Weight=88.0),\n",
       " Row(Id=8, name='Agent 13', Gender='Female', Eye color='blue', Race=None, Hair color='Blond', Height=173.0, Publisher='Marvel Comics', Skin color=None, Alignment='good', Weight=61.0),\n",
       " Row(Id=9, name='Agent Bob', Gender='Male', Eye color='brown', Race='Human', Hair color='Brown', Height=178.0, Publisher='Marvel Comics', Skin color=None, Alignment='good', Weight=81.0),\n",
       " Row(Id=10, name='Agent Zero', Gender='Male', Eye color=None, Race=None, Hair color=None, Height=191.0, Publisher='Marvel Comics', Skin color=None, Alignment='good', Weight=104.0),\n",
       " Row(Id=11, name='Air-Walker', Gender='Male', Eye color='blue', Race=None, Hair color='White', Height=188.0, Publisher='Marvel Comics', Skin color=None, Alignment='bad', Weight=108.0),\n",
       " Row(Id=12, name='Ajax', Gender='Male', Eye color='brown', Race='Cyborg', Hair color='Black', Height=193.0, Publisher='Marvel Comics', Skin color=None, Alignment='bad', Weight=90.0),\n",
       " Row(Id=13, name='Alan Scott', Gender='Male', Eye color='blue', Race=None, Hair color='Blond', Height=180.0, Publisher='DC Comics', Skin color=None, Alignment='good', Weight=90.0),\n",
       " Row(Id=14, name='Alex Mercer', Gender='Male', Eye color=None, Race='Human', Hair color=None, Height=-99.0, Publisher='Wildstorm', Skin color=None, Alignment='bad', Weight=-99.0),\n",
       " Row(Id=15, name='Alex Woolsly', Gender='Male', Eye color=None, Race=None, Hair color=None, Height=-99.0, Publisher='NBC - Heroes', Skin color=None, Alignment='good', Weight=-99.0),\n",
       " Row(Id=16, name='Alfred Pennyworth', Gender='Male', Eye color='blue', Race='Human', Hair color='Black', Height=178.0, Publisher='DC Comics', Skin color=None, Alignment='good', Weight=72.0),\n",
       " Row(Id=17, name='Alien', Gender='Male', Eye color=None, Race='Xenomorph XX121', Hair color='No Hair', Height=244.0, Publisher='Dark Horse Comics', Skin color='black', Alignment='bad', Weight=169.0),\n",
       " Row(Id=18, name='Allan Quatermain', Gender='Male', Eye color=None, Race=None, Hair color=None, Height=-99.0, Publisher='Wildstorm', Skin color=None, Alignment='good', Weight=-99.0),\n",
       " Row(Id=19, name='Amazo', Gender='Male', Eye color='red', Race='Android', Hair color=None, Height=257.0, Publisher='DC Comics', Skin color=None, Alignment='bad', Weight=173.0),\n",
       " Row(Id=20, name='Ammo', Gender='Male', Eye color='brown', Race='Human', Hair color='Black', Height=188.0, Publisher='Marvel Comics', Skin color=None, Alignment='bad', Weight=101.0),\n",
       " Row(Id=21, name='Ando Masahashi', Gender='Male', Eye color=None, Race=None, Hair color=None, Height=-99.0, Publisher='NBC - Heroes', Skin color=None, Alignment='good', Weight=-99.0),\n",
       " Row(Id=22, name='Angel', Gender='Male', Eye color='blue', Race=None, Hair color='Blond', Height=183.0, Publisher='Marvel Comics', Skin color=None, Alignment='good', Weight=68.0),\n",
       " Row(Id=23, name='Angel', Gender='Male', Eye color=None, Race='Vampire', Hair color=None, Height=-99.0, Publisher='Dark Horse Comics', Skin color=None, Alignment='good', Weight=-99.0),\n",
       " Row(Id=24, name='Angel Dust', Gender='Female', Eye color='yellow', Race='Mutant', Hair color='Black', Height=165.0, Publisher='Marvel Comics', Skin color=None, Alignment='good', Weight=57.0),\n",
       " Row(Id=25, name='Angel Salvadore', Gender='Female', Eye color='brown', Race=None, Hair color='Black', Height=163.0, Publisher='Marvel Comics', Skin color=None, Alignment='good', Weight=54.0),\n",
       " Row(Id=26, name='Angela', Gender='Female', Eye color=None, Race=None, Hair color=None, Height=-99.0, Publisher='Image Comics', Skin color=None, Alignment='bad', Weight=-99.0),\n",
       " Row(Id=27, name='Animal Man', Gender='Male', Eye color='blue', Race='Human', Hair color='Blond', Height=183.0, Publisher='DC Comics', Skin color=None, Alignment='good', Weight=83.0),\n",
       " Row(Id=28, name='Annihilus', Gender='Male', Eye color='green', Race=None, Hair color='No Hair', Height=180.0, Publisher='Marvel Comics', Skin color=None, Alignment='bad', Weight=90.0),\n",
       " Row(Id=29, name='Ant-Man', Gender='Male', Eye color='blue', Race='Human', Hair color='Blond', Height=211.0, Publisher='Marvel Comics', Skin color=None, Alignment='good', Weight=122.0),\n",
       " Row(Id=30, name='Ant-Man II', Gender='Male', Eye color='blue', Race='Human', Hair color='Blond', Height=183.0, Publisher='Marvel Comics', Skin color=None, Alignment='good', Weight=86.0),\n",
       " Row(Id=31, name='Anti-Monitor', Gender='Male', Eye color='yellow', Race='God / Eternal', Hair color='No Hair', Height=61.0, Publisher='DC Comics', Skin color=None, Alignment='bad', Weight=-99.0),\n",
       " Row(Id=32, name='Anti-Spawn', Gender='Male', Eye color=None, Race=None, Hair color=None, Height=-99.0, Publisher='Image Comics', Skin color=None, Alignment='bad', Weight=-99.0),\n",
       " Row(Id=33, name='Anti-Venom', Gender='Male', Eye color='blue', Race='Symbiote', Hair color='Blond', Height=229.0, Publisher='Marvel Comics', Skin color=None, Alignment=None, Weight=358.0),\n",
       " Row(Id=34, name='Apocalypse', Gender='Male', Eye color='red', Race='Mutant', Hair color='Black', Height=213.0, Publisher='Marvel Comics', Skin color='grey', Alignment='bad', Weight=135.0),\n",
       " Row(Id=35, name='Aquababy', Gender='Male', Eye color='blue', Race=None, Hair color='Blond', Height=-99.0, Publisher='DC Comics', Skin color=None, Alignment='good', Weight=-99.0),\n",
       " Row(Id=36, name='Aqualad', Gender='Male', Eye color='blue', Race='Atlantean', Hair color='Black', Height=178.0, Publisher='DC Comics', Skin color=None, Alignment='good', Weight=106.0),\n",
       " Row(Id=37, name='Aquaman', Gender='Male', Eye color='blue', Race='Atlantean', Hair color='Blond', Height=185.0, Publisher='DC Comics', Skin color=None, Alignment='good', Weight=146.0),\n",
       " Row(Id=38, name='Arachne', Gender='Female', Eye color='blue', Race='Human', Hair color='Blond', Height=175.0, Publisher='Marvel Comics', Skin color=None, Alignment='good', Weight=63.0),\n",
       " Row(Id=39, name='Archangel', Gender='Male', Eye color='blue', Race='Mutant', Hair color='Blond', Height=183.0, Publisher='Marvel Comics', Skin color='blue', Alignment='good', Weight=68.0),\n",
       " Row(Id=40, name='Arclight', Gender='Female', Eye color='violet', Race=None, Hair color='Purple', Height=173.0, Publisher='Marvel Comics', Skin color=None, Alignment='bad', Weight=57.0),\n",
       " Row(Id=41, name='Ardina', Gender='Female', Eye color='white', Race='Alien', Hair color='Orange', Height=193.0, Publisher='Marvel Comics', Skin color='gold', Alignment='good', Weight=98.0),\n",
       " Row(Id=42, name='Ares', Gender='Male', Eye color='brown', Race=None, Hair color='Brown', Height=185.0, Publisher='Marvel Comics', Skin color=None, Alignment='good', Weight=270.0),\n",
       " Row(Id=43, name='Ariel', Gender='Female', Eye color='purple', Race=None, Hair color='Pink', Height=165.0, Publisher='Marvel Comics', Skin color=None, Alignment='good', Weight=59.0),\n",
       " Row(Id=44, name='Armor', Gender='Female', Eye color='black', Race=None, Hair color='Black', Height=163.0, Publisher='Marvel Comics', Skin color=None, Alignment='good', Weight=50.0),\n",
       " Row(Id=45, name='Arsenal', Gender='Male', Eye color=None, Race='Human', Hair color=None, Height=-99.0, Publisher='DC Comics', Skin color=None, Alignment='good', Weight=-99.0),\n",
       " Row(Id=46, name='Astro Boy', Gender='Male', Eye color='brown', Race=None, Hair color='Black', Height=-99.0, Publisher=None, Skin color=None, Alignment='good', Weight=-99.0),\n",
       " Row(Id=47, name='Atlas', Gender='Male', Eye color='brown', Race='Mutant', Hair color='Red', Height=183.0, Publisher='Marvel Comics', Skin color=None, Alignment='good', Weight=101.0),\n",
       " Row(Id=48, name='Atlas', Gender='Male', Eye color='blue', Race='God / Eternal', Hair color='Brown', Height=198.0, Publisher='DC Comics', Skin color=None, Alignment='bad', Weight=126.0),\n",
       " Row(Id=49, name='Atom', Gender='Male', Eye color='blue', Race=None, Hair color='Red', Height=178.0, Publisher='DC Comics', Skin color=None, Alignment='good', Weight=68.0),\n",
       " Row(Id=50, name='Atom', Gender='Male', Eye color=None, Race=None, Hair color=None, Height=-99.0, Publisher='DC Comics', Skin color=None, Alignment='good', Weight=-99.0),\n",
       " Row(Id=51, name='Atom Girl', Gender='Female', Eye color='black', Race=None, Hair color='Black', Height=168.0, Publisher='DC Comics', Skin color=None, Alignment='good', Weight=54.0),\n",
       " Row(Id=52, name='Atom II', Gender='Male', Eye color='brown', Race='Human', Hair color='Auburn', Height=183.0, Publisher='DC Comics', Skin color=None, Alignment='good', Weight=81.0),\n",
       " Row(Id=53, name='Atom III', Gender='Male', Eye color=None, Race=None, Hair color='Red', Height=-99.0, Publisher='DC Comics', Skin color=None, Alignment='good', Weight=-99.0),\n",
       " Row(Id=54, name='Atom IV', Gender='Male', Eye color='brown', Race=None, Hair color='Black', Height=-99.0, Publisher='DC Comics', Skin color=None, Alignment='good', Weight=72.0),\n",
       " Row(Id=55, name='Aurora', Gender='Female', Eye color='blue', Race='Mutant', Hair color='Black', Height=180.0, Publisher='Marvel Comics', Skin color=None, Alignment='good', Weight=63.0),\n",
       " Row(Id=56, name='Azazel', Gender='Male', Eye color='yellow', Race='Neyaphem', Hair color='Black', Height=183.0, Publisher='Marvel Comics', Skin color='red', Alignment='bad', Weight=67.0),\n",
       " Row(Id=57, name='Azrael', Gender='Male', Eye color='brown', Race='Human', Hair color='Black', Height=-99.0, Publisher='DC Comics', Skin color=None, Alignment='good', Weight=-99.0),\n",
       " Row(Id=58, name='Aztar', Gender='Male', Eye color=None, Race=None, Hair color=None, Height=-99.0, Publisher='DC Comics', Skin color=None, Alignment='good', Weight=-99.0),\n",
       " Row(Id=59, name='Bane', Gender='Male', Eye color=None, Race='Human', Hair color=None, Height=203.0, Publisher='DC Comics', Skin color=None, Alignment='bad', Weight=180.0),\n",
       " Row(Id=60, name='Banshee', Gender='Male', Eye color='green', Race='Human', Hair color='Strawberry Blond', Height=183.0, Publisher='Marvel Comics', Skin color=None, Alignment='good', Weight=77.0),\n",
       " Row(Id=61, name='Bantam', Gender='Male', Eye color='brown', Race=None, Hair color='Black', Height=165.0, Publisher='Marvel Comics', Skin color=None, Alignment='good', Weight=54.0),\n",
       " Row(Id=62, name='Batgirl', Gender='Female', Eye color=None, Race=None, Hair color=None, Height=-99.0, Publisher='DC Comics', Skin color=None, Alignment='good', Weight=-99.0),\n",
       " Row(Id=63, name='Batgirl', Gender='Female', Eye color='green', Race='Human', Hair color='Red', Height=170.0, Publisher='DC Comics', Skin color=None, Alignment='good', Weight=57.0),\n",
       " Row(Id=64, name='Batgirl III', Gender='Female', Eye color=None, Race=None, Hair color=None, Height=-99.0, Publisher='DC Comics', Skin color=None, Alignment='good', Weight=-99.0),\n",
       " Row(Id=65, name='Batgirl IV', Gender='Female', Eye color='green', Race='Human', Hair color='Black', Height=165.0, Publisher='DC Comics', Skin color=None, Alignment='good', Weight=52.0),\n",
       " Row(Id=66, name='Batgirl V', Gender='Female', Eye color=None, Race=None, Hair color=None, Height=-99.0, Publisher='DC Comics', Skin color=None, Alignment='good', Weight=-99.0),\n",
       " Row(Id=67, name='Batgirl VI', Gender='Female', Eye color='blue', Race=None, Hair color='Blond', Height=168.0, Publisher='DC Comics', Skin color=None, Alignment='good', Weight=61.0),\n",
       " Row(Id=68, name='Batman', Gender='Male', Eye color='blue', Race='Human', Hair color='black', Height=188.0, Publisher='DC Comics', Skin color=None, Alignment='good', Weight=95.0),\n",
       " Row(Id=69, name='Batman', Gender='Male', Eye color='blue', Race='Human', Hair color='Black', Height=178.0, Publisher='DC Comics', Skin color=None, Alignment='good', Weight=77.0),\n",
       " Row(Id=70, name='Batman II', Gender='Male', Eye color='blue', Race='Human', Hair color='Black', Height=178.0, Publisher='DC Comics', Skin color=None, Alignment='good', Weight=79.0),\n",
       " Row(Id=71, name='Battlestar', Gender='Male', Eye color='brown', Race=None, Hair color='Black', Height=198.0, Publisher='Marvel Comics', Skin color=None, Alignment='good', Weight=133.0),\n",
       " Row(Id=72, name='Batwoman V', Gender='Female', Eye color='green', Race='Human', Hair color='Red', Height=178.0, Publisher='DC Comics', Skin color=None, Alignment='good', Weight=-99.0),\n",
       " Row(Id=73, name='Beak', Gender='Male', Eye color='black', Race=None, Hair color='White', Height=175.0, Publisher='Marvel Comics', Skin color=None, Alignment='good', Weight=63.0),\n",
       " Row(Id=74, name='Beast', Gender='Male', Eye color='blue', Race='Mutant', Hair color='Blue', Height=180.0, Publisher='Marvel Comics', Skin color='blue', Alignment='good', Weight=181.0),\n",
       " Row(Id=75, name='Beast Boy', Gender='Male', Eye color='green', Race='Human', Hair color='Green', Height=173.0, Publisher='DC Comics', Skin color='green', Alignment='good', Weight=68.0),\n",
       " Row(Id=76, name='Beetle', Gender='Male', Eye color=None, Race=None, Hair color=None, Height=-99.0, Publisher='Marvel Comics', Skin color=None, Alignment='bad', Weight=-99.0),\n",
       " Row(Id=77, name='Ben 10', Gender='Male', Eye color=None, Race=None, Hair color=None, Height=-99.0, Publisher='DC Comics', Skin color=None, Alignment='good', Weight=-99.0),\n",
       " Row(Id=78, name='Beta Ray Bill', Gender='Male', Eye color=None, Race=None, Hair color='No Hair', Height=201.0, Publisher='Marvel Comics', Skin color=None, Alignment='good', Weight=216.0),\n",
       " Row(Id=79, name='Beyonder', Gender='Male', Eye color=None, Race='God / Eternal', Hair color=None, Height=-99.0, Publisher='Marvel Comics', Skin color=None, Alignment='good', Weight=-99.0),\n",
       " Row(Id=80, name='Big Barda', Gender='Female', Eye color='blue', Race='New God', Hair color='Black', Height=188.0, Publisher='DC Comics', Skin color=None, Alignment='bad', Weight=135.0),\n",
       " Row(Id=81, name='Big Daddy', Gender='Male', Eye color=None, Race=None, Hair color=None, Height=-99.0, Publisher='Icon Comics', Skin color=None, Alignment='good', Weight=-99.0),\n",
       " Row(Id=82, name='Big Man', Gender='Male', Eye color='blue', Race=None, Hair color='Brown', Height=165.0, Publisher='Marvel Comics', Skin color=None, Alignment='bad', Weight=71.0),\n",
       " Row(Id=83, name='Bill Harken', Gender='Male', Eye color=None, Race='Alpha', Hair color=None, Height=-99.0, Publisher='SyFy', Skin color=None, Alignment='good', Weight=-99.0),\n",
       " Row(Id=84, name='Billy Kincaid', Gender='Male', Eye color=None, Race=None, Hair color=None, Height=-99.0, Publisher='Image Comics', Skin color=None, Alignment='bad', Weight=-99.0),\n",
       " Row(Id=85, name='Binary', Gender='Female', Eye color='blue', Race=None, Hair color='Blond', Height=180.0, Publisher='Marvel Comics', Skin color=None, Alignment='good', Weight=54.0),\n",
       " Row(Id=86, name='Bionic Woman', Gender='Female', Eye color='blue', Race='Cyborg', Hair color='Black', Height=-99.0, Publisher=None, Skin color=None, Alignment='good', Weight=-99.0),\n",
       " Row(Id=87, name='Bird-Brain', Gender=None, Eye color=None, Race=None, Hair color=None, Height=-99.0, Publisher='Marvel Comics', Skin color=None, Alignment='good', Weight=-99.0),\n",
       " Row(Id=88, name='Bird-Man', Gender='Male', Eye color=None, Race='Human', Hair color=None, Height=-99.0, Publisher='Marvel Comics', Skin color=None, Alignment='bad', Weight=-99.0),\n",
       " Row(Id=89, name='Bird-Man II', Gender='Male', Eye color=None, Race='Human', Hair color=None, Height=-99.0, Publisher='Marvel Comics', Skin color=None, Alignment='bad', Weight=-99.0),\n",
       " Row(Id=90, name='Birdman', Gender='Male', Eye color=None, Race='God / Eternal', Hair color=None, Height=-99.0, Publisher='Hanna-Barbera', Skin color=None, Alignment='good', Weight=-99.0),\n",
       " Row(Id=91, name='Bishop', Gender='Male', Eye color='brown', Race='Mutant', Hair color='No Hair', Height=198.0, Publisher='Marvel Comics', Skin color=None, Alignment='good', Weight=124.0),\n",
       " Row(Id=92, name='Bizarro', Gender='Male', Eye color='black', Race='Bizarro', Hair color='Black', Height=191.0, Publisher='DC Comics', Skin color='white', Alignment='neutral', Weight=155.0),\n",
       " Row(Id=93, name='Black Abbott', Gender='Male', Eye color='red', Race=None, Hair color='Black', Height=-99.0, Publisher='Marvel Comics', Skin color=None, Alignment='bad', Weight=-99.0),\n",
       " Row(Id=94, name='Black Adam', Gender='Male', Eye color='brown', Race=None, Hair color='Black', Height=191.0, Publisher='DC Comics', Skin color=None, Alignment='bad', Weight=113.0),\n",
       " Row(Id=95, name='Black Bolt', Gender='Male', Eye color='blue', Race='Inhuman', Hair color='Black', Height=188.0, Publisher='Marvel Comics', Skin color=None, Alignment='good', Weight=95.0),\n",
       " Row(Id=96, name='Black Canary', Gender='Female', Eye color='blue', Race='Human', Hair color='Blond', Height=165.0, Publisher='DC Comics', Skin color=None, Alignment='good', Weight=58.0),\n",
       " Row(Id=97, name='Black Canary', Gender='Female', Eye color='blue', Race='Metahuman', Hair color='Blond', Height=170.0, Publisher='DC Comics', Skin color=None, Alignment='good', Weight=59.0),\n",
       " Row(Id=98, name='Black Cat', Gender='Female', Eye color='green', Race='Human', Hair color='Blond', Height=178.0, Publisher='Marvel Comics', Skin color=None, Alignment='good', Weight=54.0),\n",
       " Row(Id=99, name='Black Flash', Gender='Male', Eye color=None, Race='God / Eternal', Hair color=None, Height=-99.0, Publisher='DC Comics', Skin color=None, Alignment='neutral', Weight=-99.0),\n",
       " Row(Id=100, name='Black Goliath', Gender='Male', Eye color=None, Race=None, Hair color=None, Height=-99.0, Publisher='Marvel Comics', Skin color=None, Alignment='good', Weight=-99.0),\n",
       " Row(Id=101, name='Black Knight III', Gender='Male', Eye color='brown', Race='Human', Hair color='Brown', Height=183.0, Publisher='Marvel Comics', Skin color=None, Alignment='good', Weight=86.0),\n",
       " Row(Id=102, name='Black Lightning', Gender='Male', Eye color='brown', Race=None, Hair color='No Hair', Height=185.0, Publisher='DC Comics', Skin color=None, Alignment='good', Weight=90.0),\n",
       " Row(Id=103, name='Black Mamba', Gender='Female', Eye color='green', Race=None, Hair color='Black', Height=170.0, Publisher='Marvel Comics', Skin color=None, Alignment='bad', Weight=52.0),\n",
       " Row(Id=104, name='Black Manta', Gender='Male', Eye color='black', Race='Human', Hair color='No Hair', Height=188.0, Publisher='DC Comics', Skin color=None, Alignment='bad', Weight=92.0),\n",
       " Row(Id=105, name='Black Panther', Gender='Male', Eye color='brown', Race='Human', Hair color='Black', Height=183.0, Publisher='Marvel Comics', Skin color=None, Alignment='good', Weight=90.0),\n",
       " Row(Id=106, name='Black Widow', Gender='Female', Eye color='green', Race='Human', Hair color='Auburn', Height=170.0, Publisher='Marvel Comics', Skin color=None, Alignment='good', Weight=59.0),\n",
       " Row(Id=107, name='Black Widow II', Gender='Female', Eye color='blue', Race=None, Hair color='Blond', Height=170.0, Publisher='Marvel Comics', Skin color=None, Alignment='good', Weight=61.0),\n",
       " Row(Id=108, name='Blackout', Gender='Male', Eye color='red', Race='Demon', Hair color='White', Height=191.0, Publisher='Marvel Comics', Skin color='white', Alignment='bad', Weight=104.0),\n",
       " Row(Id=109, name='Blackwing', Gender='Male', Eye color='blue', Race=None, Hair color='Black', Height=185.0, Publisher='Marvel Comics', Skin color=None, Alignment='bad', Weight=86.0),\n",
       " Row(Id=110, name='Blackwulf', Gender='Male', Eye color='red', Race='Alien', Hair color='White', Height=188.0, Publisher='Marvel Comics', Skin color=None, Alignment=None, Weight=88.0),\n",
       " Row(Id=111, name='Blade', Gender='Male', Eye color='brown', Race='Vampire', Hair color='Black', Height=188.0, Publisher='Marvel Comics', Skin color=None, Alignment='good', Weight=97.0),\n",
       " Row(Id=112, name='Blaquesmith', Gender=None, Eye color='black', Race=None, Hair color='No Hair', Height=-99.0, Publisher='Marvel Comics', Skin color=None, Alignment='good', Weight=-99.0),\n",
       " Row(Id=113, name='Bling!', Gender='Female', Eye color=None, Race=None, Hair color=None, Height=168.0, Publisher='Marvel Comics', Skin color=None, Alignment='good', Weight=68.0),\n",
       " Row(Id=114, name='Blink', Gender='Female', Eye color='green', Race='Mutant', Hair color='Magenta', Height=165.0, Publisher='Marvel Comics', Skin color='pink', Alignment='good', Weight=56.0),\n",
       " Row(Id=115, name='Blizzard', Gender='Male', Eye color=None, Race=None, Hair color=None, Height=-99.0, Publisher='Marvel Comics', Skin color=None, Alignment='bad', Weight=-99.0),\n",
       " Row(Id=116, name='Blizzard', Gender='Male', Eye color=None, Race=None, Hair color='Brown', Height=-99.0, Publisher='Marvel Comics', Skin color=None, Alignment='bad', Weight=-99.0),\n",
       " Row(Id=117, name='Blizzard II', Gender='Male', Eye color='brown', Race=None, Hair color='Brown', Height=175.0, Publisher='Marvel Comics', Skin color=None, Alignment='bad', Weight=77.0),\n",
       " Row(Id=118, name='Blob', Gender='Male', Eye color='brown', Race=None, Hair color='Brown', Height=178.0, Publisher='Marvel Comics', Skin color=None, Alignment='bad', Weight=230.0),\n",
       " Row(Id=119, name='Bloodaxe', Gender='Female', Eye color='blue', Race='Human', Hair color='Brown', Height=218.0, Publisher='Marvel Comics', Skin color=None, Alignment='bad', Weight=495.0),\n",
       " Row(Id=120, name='Bloodhawk', Gender='Male', Eye color='black', Race='Mutant', Hair color='No Hair', Height=-99.0, Publisher='Marvel Comics', Skin color=None, Alignment='good', Weight=-99.0),\n",
       " Row(Id=121, name='Bloodwraith', Gender='Male', Eye color='white', Race=None, Hair color='No Hair', Height=30.5, Publisher='Marvel Comics', Skin color=None, Alignment='bad', Weight=-99.0),\n",
       " Row(Id=122, name='Blue Beetle', Gender='Male', Eye color='blue', Race=None, Hair color='Brown', Height=-99.0, Publisher='DC Comics', Skin color=None, Alignment='good', Weight=-99.0),\n",
       " Row(Id=123, name='Blue Beetle', Gender='Male', Eye color=None, Race=None, Hair color=None, Height=-99.0, Publisher='DC Comics', Skin color=None, Alignment='good', Weight=-99.0),\n",
       " Row(Id=124, name='Blue Beetle II', Gender='Male', Eye color='blue', Race=None, Hair color='Brown', Height=183.0, Publisher='DC Comics', Skin color=None, Alignment='good', Weight=86.0),\n",
       " Row(Id=125, name='Blue Beetle III', Gender='Male', Eye color='brown', Race='Human', Hair color='Black', Height=-99.0, Publisher='DC Comics', Skin color=None, Alignment='good', Weight=-99.0),\n",
       " Row(Id=126, name='Boba Fett', Gender='Male', Eye color='brown', Race='Human / Clone', Hair color='Black', Height=183.0, Publisher='George Lucas', Skin color=None, Alignment='bad', Weight=-99.0),\n",
       " Row(Id=127, name='Bolt', Gender='Male', Eye color=None, Race=None, Hair color=None, Height=-99.0, Publisher='Marvel Comics', Skin color=None, Alignment='good', Weight=-99.0),\n",
       " Row(Id=128, name='Bomb Queen', Gender='Female', Eye color=None, Race=None, Hair color=None, Height=-99.0, Publisher='Image Comics', Skin color=None, Alignment='bad', Weight=-99.0),\n",
       " Row(Id=129, name='Boom-Boom', Gender='Female', Eye color='blue', Race='Mutant', Hair color='Blond', Height=165.0, Publisher='Marvel Comics', Skin color=None, Alignment='good', Weight=55.0),\n",
       " Row(Id=130, name='Boomer', Gender='Female', Eye color=None, Race=None, Hair color=None, Height=-99.0, Publisher='Marvel Comics', Skin color=None, Alignment='good', Weight=-99.0),\n",
       " Row(Id=131, name='Booster Gold', Gender='Male', Eye color='blue', Race='Human', Hair color='Blond', Height=196.0, Publisher='DC Comics', Skin color=None, Alignment='good', Weight=97.0),\n",
       " Row(Id=132, name='Box', Gender='Male', Eye color=None, Race=None, Hair color=None, Height=-99.0, Publisher='Marvel Comics', Skin color=None, Alignment='good', Weight=-99.0),\n",
       " Row(Id=133, name='Box III', Gender=None, Eye color='blue', Race=None, Hair color='Blond', Height=193.0, Publisher='Marvel Comics', Skin color=None, Alignment='good', Weight=110.0),\n",
       " Row(Id=134, name='Box IV', Gender=None, Eye color='brown', Race=None, Hair color='Brown / Black', Height=-99.0, Publisher='Marvel Comics', Skin color=None, Alignment='good', Weight=-99.0),\n",
       " Row(Id=135, name='Brainiac', Gender='Male', Eye color='green', Race='Android', Hair color='No Hair', Height=198.0, Publisher='DC Comics', Skin color='green', Alignment='bad', Weight=135.0),\n",
       " Row(Id=136, name='Brainiac 5', Gender='Male', Eye color='green', Race=None, Hair color='Blond', Height=170.0, Publisher='DC Comics', Skin color=None, Alignment='good', Weight=61.0),\n",
       " Row(Id=137, name='Brother Voodoo', Gender='Male', Eye color='brown', Race='Human', Hair color='Brown / White', Height=183.0, Publisher='Marvel Comics', Skin color=None, Alignment='good', Weight=99.0),\n",
       " Row(Id=138, name='Brundlefly', Gender='Male', Eye color=None, Race='Mutant', Hair color=None, Height=193.0, Publisher=None, Skin color=None, Alignment=None, Weight=-99.0),\n",
       " Row(Id=139, name='Buffy', Gender='Female', Eye color='green', Race='Human', Hair color='Blond', Height=157.0, Publisher='Dark Horse Comics', Skin color=None, Alignment='good', Weight=52.0),\n",
       " Row(Id=140, name='Bullseye', Gender='Male', Eye color='blue', Race='Human', Hair color='blond', Height=183.0, Publisher='Marvel Comics', Skin color=None, Alignment='bad', Weight=90.0),\n",
       " Row(Id=141, name='Bumblebee', Gender='Female', Eye color='brown', Race='Human', Hair color='Black', Height=170.0, Publisher='DC Comics', Skin color=None, Alignment='good', Weight=59.0),\n",
       " Row(Id=142, name='Bumbleboy', Gender='Male', Eye color=None, Race=None, Hair color=None, Height=-99.0, Publisher='Marvel Comics', Skin color=None, Alignment='good', Weight=-99.0),\n",
       " Row(Id=143, name='Bushido', Gender='Male', Eye color=None, Race='Human', Hair color=None, Height=-99.0, Publisher='DC Comics', Skin color=None, Alignment='good', Weight=-99.0),\n",
       " Row(Id=144, name='Cable', Gender='Male', Eye color='blue', Race='Mutant', Hair color='White', Height=203.0, Publisher='Marvel Comics', Skin color=None, Alignment='good', Weight=158.0),\n",
       " Row(Id=145, name='Callisto', Gender='Female', Eye color='blue', Race=None, Hair color='Black', Height=175.0, Publisher='Marvel Comics', Skin color=None, Alignment='bad', Weight=74.0),\n",
       " Row(Id=146, name='Cameron Hicks', Gender='Male', Eye color=None, Race='Alpha', Hair color=None, Height=-99.0, Publisher='SyFy', Skin color=None, Alignment='good', Weight=-99.0),\n",
       " Row(Id=147, name='Cannonball', Gender='Male', Eye color='blue', Race=None, Hair color='Blond', Height=183.0, Publisher='Marvel Comics', Skin color=None, Alignment='good', Weight=81.0),\n",
       " Row(Id=148, name='Captain America', Gender='Male', Eye color='blue', Race='Human', Hair color='blond', Height=188.0, Publisher='Marvel Comics', Skin color=None, Alignment='good', Weight=108.0),\n",
       " Row(Id=149, name='Captain Atom', Gender='Male', Eye color='blue', Race='Human / Radiation', Hair color='Silver', Height=193.0, Publisher='DC Comics', Skin color='silver', Alignment='good', Weight=90.0),\n",
       " Row(Id=150, name='Captain Britain', Gender='Male', Eye color='blue', Race='Human', Hair color='Blond', Height=198.0, Publisher='Marvel Comics', Skin color=None, Alignment='good', Weight=116.0),\n",
       " Row(Id=151, name='Captain Cold', Gender='Male', Eye color='brown', Race='Human', Hair color='Brown', Height=-99.0, Publisher='DC Comics', Skin color=None, Alignment='neutral', Weight=-99.0),\n",
       " Row(Id=152, name='Captain Epic', Gender='Male', Eye color='blue', Race=None, Hair color='Brown', Height=188.0, Publisher='Team Epic TV', Skin color=None, Alignment='good', Weight=-99.0),\n",
       " Row(Id=153, name='Captain Hindsight', Gender='Male', Eye color=None, Race='Human', Hair color='Black', Height=-99.0, Publisher='South Park', Skin color=None, Alignment='good', Weight=-99.0),\n",
       " Row(Id=154, name='Captain Mar-vell', Gender='Male', Eye color='blue', Race=None, Hair color='Blond', Height=188.0, Publisher='Marvel Comics', Skin color=None, Alignment='good', Weight=108.0),\n",
       " Row(Id=155, name='Captain Marvel', Gender='Female', Eye color='blue', Race='Human-Kree', Hair color='Blond', Height=180.0, Publisher='Marvel Comics', Skin color=None, Alignment='good', Weight=74.0),\n",
       " Row(Id=156, name='Captain Marvel', Gender='Male', Eye color='blue', Race='Human', Hair color='Black', Height=193.0, Publisher='DC Comics', Skin color=None, Alignment='good', Weight=101.0),\n",
       " Row(Id=157, name='Captain Marvel II', Gender='Male', Eye color='blue', Race='Human', Hair color='Black', Height=175.0, Publisher='DC Comics', Skin color=None, Alignment='good', Weight=74.0),\n",
       " Row(Id=158, name='Captain Midnight', Gender='Male', Eye color=None, Race='Human', Hair color=None, Height=-99.0, Publisher='Dark Horse Comics', Skin color=None, Alignment='good', Weight=-99.0),\n",
       " Row(Id=159, name='Captain Planet', Gender='Male', Eye color='red', Race='God / Eternal', Hair color='Green', Height=-99.0, Publisher='Marvel Comics', Skin color=None, Alignment='good', Weight=-99.0),\n",
       " Row(Id=160, name='Captain Universe', Gender=None, Eye color=None, Race='God / Eternal', Hair color=None, Height=-99.0, Publisher='Marvel Comics', Skin color=None, Alignment='good', Weight=-99.0),\n",
       " Row(Id=161, name='Carnage', Gender='Male', Eye color='green', Race='Symbiote', Hair color='Red', Height=185.0, Publisher='Marvel Comics', Skin color=None, Alignment='bad', Weight=86.0),\n",
       " Row(Id=162, name='Cat', Gender='Female', Eye color='blue', Race=None, Hair color='Blond', Height=173.0, Publisher='Marvel Comics', Skin color=None, Alignment='good', Weight=61.0),\n",
       " Row(Id=163, name='Cat II', Gender='Female', Eye color=None, Race=None, Hair color=None, Height=-99.0, Publisher='Marvel Comics', Skin color=None, Alignment='good', Weight=-99.0),\n",
       " Row(Id=164, name='Catwoman', Gender='Female', Eye color='green', Race='Human', Hair color='Black', Height=175.0, Publisher='DC Comics', Skin color=None, Alignment='good', Weight=61.0),\n",
       " Row(Id=165, name='Cecilia Reyes', Gender=None, Eye color='brown', Race=None, Hair color='Brown', Height=170.0, Publisher='Marvel Comics', Skin color=None, Alignment='good', Weight=62.0),\n",
       " Row(Id=166, name='Century', Gender='Male', Eye color='white', Race='Alien', Hair color='White', Height=201.0, Publisher='Marvel Comics', Skin color='grey', Alignment='good', Weight=97.0),\n",
       " Row(Id=167, name='Cerebra', Gender='Female', Eye color=None, Race='Mutant', Hair color=None, Height=-99.0, Publisher='Marvel Comics', Skin color=None, Alignment='good', Weight=-99.0),\n",
       " Row(Id=168, name='Chamber', Gender='Male', Eye color='brown', Race='Mutant', Hair color='Brown', Height=175.0, Publisher='Marvel Comics', Skin color=None, Alignment='good', Weight=63.0),\n",
       " Row(Id=169, name='Chameleon', Gender='Male', Eye color=None, Race=None, Hair color=None, Height=-99.0, Publisher='DC Comics', Skin color=None, Alignment='bad', Weight=-99.0),\n",
       " Row(Id=170, name='Changeling', Gender='Male', Eye color='brown', Race=None, Hair color='Black', Height=180.0, Publisher='Marvel Comics', Skin color=None, Alignment='bad', Weight=81.0),\n",
       " Row(Id=171, name='Cheetah', Gender='Female', Eye color='green', Race='Human', Hair color='Blond', Height=163.0, Publisher='DC Comics', Skin color=None, Alignment='bad', Weight=50.0),\n",
       " Row(Id=172, name='Cheetah II', Gender='Female', Eye color='green', Race='Human', Hair color='Brown', Height=170.0, Publisher='DC Comics', Skin color=None, Alignment='bad', Weight=55.0),\n",
       " Row(Id=173, name='Cheetah III', Gender='Female', Eye color='brown', Race='Human', Hair color='Brown', Height=175.0, Publisher='DC Comics', Skin color=None, Alignment='bad', Weight=54.0),\n",
       " Row(Id=174, name='Chromos', Gender='Male', Eye color='brown', Race=None, Hair color='Red / Grey', Height=185.0, Publisher='Team Epic TV', Skin color=None, Alignment='bad', Weight=86.0),\n",
       " Row(Id=175, name='Chuck Norris', Gender='Male', Eye color=None, Race=None, Hair color=None, Height=178.0, Publisher=None, Skin color=None, Alignment='good', Weight=-99.0),\n",
       " Row(Id=176, name='Citizen Steel', Gender='Male', Eye color='green', Race='Human', Hair color='Red', Height=183.0, Publisher='DC Comics', Skin color=None, Alignment='good', Weight=170.0),\n",
       " Row(Id=177, name='Claire Bennet', Gender='Female', Eye color='blue', Race=None, Hair color='Blond', Height=-99.0, Publisher='NBC - Heroes', Skin color=None, Alignment='good', Weight=-99.0),\n",
       " Row(Id=178, name='Clea', Gender=None, Eye color=None, Race=None, Hair color='White', Height=-99.0, Publisher='Marvel Comics', Skin color=None, Alignment='good', Weight=-99.0),\n",
       " Row(Id=179, name='Cloak', Gender='Male', Eye color='brown', Race=None, Hair color='black', Height=226.0, Publisher='Marvel Comics', Skin color=None, Alignment='good', Weight=70.0),\n",
       " Row(Id=180, name='Clock King', Gender='Male', Eye color='blue', Race='Human', Hair color='Black', Height=178.0, Publisher='DC Comics', Skin color=None, Alignment='bad', Weight=78.0),\n",
       " Row(Id=181, name='Cogliostro', Gender='Male', Eye color=None, Race=None, Hair color=None, Height=-99.0, Publisher='Image Comics', Skin color=None, Alignment='bad', Weight=-99.0),\n",
       " Row(Id=182, name='Colin Wagner', Gender='Male', Eye color='grey', Race=None, Hair color='Brown', Height=-99.0, Publisher='HarperCollins', Skin color=None, Alignment='good', Weight=-99.0),\n",
       " Row(Id=183, name='Colossal Boy', Gender='Male', Eye color=None, Race=None, Hair color=None, Height=-99.0, Publisher='DC Comics', Skin color=None, Alignment='good', Weight=-99.0),\n",
       " Row(Id=184, name='Colossus', Gender='Male', Eye color='silver', Race='Mutant', Hair color='Black', Height=226.0, Publisher='Marvel Comics', Skin color=None, Alignment='good', Weight=225.0),\n",
       " Row(Id=185, name='Copycat', Gender='Female', Eye color='red', Race='Mutant', Hair color='White', Height=183.0, Publisher='Marvel Comics', Skin color='blue', Alignment='neutral', Weight=67.0),\n",
       " Row(Id=186, name='Corsair', Gender='Male', Eye color='brown', Race=None, Hair color='Brown', Height=191.0, Publisher='Marvel Comics', Skin color=None, Alignment='good', Weight=79.0),\n",
       " Row(Id=187, name='Cottonmouth', Gender='Male', Eye color='brown', Race='Human', Hair color='Black', Height=183.0, Publisher='Marvel Comics', Skin color=None, Alignment='bad', Weight=99.0),\n",
       " Row(Id=188, name='Crimson Crusader', Gender='Male', Eye color='blue', Race=None, Hair color='Strawberry Blond', Height=-99.0, Publisher='Marvel Comics', Skin color=None, Alignment='good', Weight=-99.0),\n",
       " Row(Id=189, name='Crimson Dynamo', Gender='Male', Eye color='brown', Race=None, Hair color='No Hair', Height=180.0, Publisher='Marvel Comics', Skin color=None, Alignment='good', Weight=104.0),\n",
       " Row(Id=190, name='Crystal', Gender='Female', Eye color='green', Race='Inhuman', Hair color='Red', Height=168.0, Publisher='Marvel Comics', Skin color=None, Alignment='good', Weight=50.0),\n",
       " Row(Id=191, name='Curse', Gender='Male', Eye color=None, Race=None, Hair color=None, Height=-99.0, Publisher='Image Comics', Skin color=None, Alignment='bad', Weight=-99.0),\n",
       " Row(Id=192, name='Cy-Gor', Gender='Male', Eye color=None, Race=None, Hair color=None, Height=-99.0, Publisher='Image Comics', Skin color=None, Alignment='bad', Weight=-99.0),\n",
       " Row(Id=193, name='Cyborg', Gender='Male', Eye color='brown', Race='Cyborg', Hair color='Black', Height=198.0, Publisher='DC Comics', Skin color=None, Alignment='good', Weight=173.0),\n",
       " Row(Id=194, name='Cyborg Superman', Gender='Male', Eye color='blue', Race='Cyborg', Hair color='Black', Height=-99.0, Publisher='DC Comics', Skin color=None, Alignment='bad', Weight=-99.0),\n",
       " Row(Id=195, name='Cyclops', Gender='Male', Eye color='brown', Race='Mutant', Hair color='Brown', Height=191.0, Publisher='Marvel Comics', Skin color=None, Alignment='good', Weight=88.0),\n",
       " Row(Id=196, name='Cypher', Gender=None, Eye color='blue', Race=None, Hair color='Blond', Height=175.0, Publisher='Marvel Comics', Skin color=None, Alignment='good', Weight=68.0),\n",
       " Row(Id=197, name='Dagger', Gender='Female', Eye color='blue', Race=None, Hair color='Blond', Height=165.0, Publisher='Marvel Comics', Skin color=None, Alignment='good', Weight=52.0),\n",
       " Row(Id=198, name='Danny Cooper', Gender='Male', Eye color='brown', Race=None, Hair color='Blond', Height=-99.0, Publisher='HarperCollins', Skin color=None, Alignment='good', Weight=-99.0),\n",
       " Row(Id=199, name='Daphne Powell', Gender='Female', Eye color=None, Race=None, Hair color=None, Height=-99.0, Publisher='ABC Studios', Skin color=None, Alignment='good', Weight=-99.0),\n",
       " Row(Id=200, name='Daredevil', Gender='Male', Eye color='blue', Race='Human', Hair color='Red', Height=183.0, Publisher='Marvel Comics', Skin color=None, Alignment='good', Weight=90.0),\n",
       " Row(Id=201, name='Darkhawk', Gender='Male', Eye color='brown', Race='Human', Hair color='Brown', Height=185.0, Publisher='Marvel Comics', Skin color=None, Alignment='good', Weight=81.0),\n",
       " Row(Id=202, name='Darkman', Gender='Male', Eye color=None, Race=None, Hair color=None, Height=-99.0, Publisher='Universal Studios', Skin color=None, Alignment='good', Weight=-99.0),\n",
       " Row(Id=203, name='Darkseid', Gender='Male', Eye color='red', Race='New God', Hair color='No Hair', Height=267.0, Publisher='DC Comics', Skin color='grey', Alignment='bad', Weight=817.0),\n",
       " Row(Id=204, name='Darkside', Gender=None, Eye color=None, Race=None, Hair color=None, Height=-99.0, Publisher=None, Skin color=None, Alignment='bad', Weight=-99.0),\n",
       " Row(Id=205, name='Darkstar', Gender='Female', Eye color='brown', Race='Mutant', Hair color='Blond', Height=168.0, Publisher='Marvel Comics', Skin color=None, Alignment='good', Weight=56.0),\n",
       " Row(Id=206, name='Darth Maul', Gender='Male', Eye color='yellow / red', Race='Dathomirian Zabrak', Hair color=None, Height=170.0, Publisher='George Lucas', Skin color='red / black', Alignment='bad', Weight=-99.0),\n",
       " Row(Id=207, name='Darth Vader', Gender='Male', Eye color='yellow', Race='Cyborg', Hair color='No Hair', Height=198.0, Publisher='George Lucas', Skin color=None, Alignment='bad', Weight=135.0),\n",
       " Row(Id=208, name='Dash', Gender='Male', Eye color='blue', Race='Human', Hair color='Blond', Height=122.0, Publisher='Dark Horse Comics', Skin color=None, Alignment='good', Weight=27.0),\n",
       " Row(Id=209, name='Data', Gender='Male', Eye color='yellow', Race='Android', Hair color='Brown', Height=-99.0, Publisher='Star Trek', Skin color=None, Alignment='good', Weight=-99.0),\n",
       " Row(Id=210, name='Dazzler', Gender='Female', Eye color='blue', Race='Mutant', Hair color='Blond', Height=173.0, Publisher='Marvel Comics', Skin color=None, Alignment='good', Weight=52.0),\n",
       " Row(Id=211, name='Deadman', Gender='Male', Eye color='blue', Race='Human', Hair color='Black', Height=183.0, Publisher='DC Comics', Skin color=None, Alignment='good', Weight=90.0),\n",
       " Row(Id=212, name='Deadpool', Gender='Male', Eye color='brown', Race='Mutant', Hair color='No Hair', Height=188.0, Publisher='Marvel Comics', Skin color=None, Alignment='neutral', Weight=95.0),\n",
       " Row(Id=213, name='Deadshot', Gender='Male', Eye color='brown', Race='Human', Hair color='Brown', Height=185.0, Publisher='DC Comics', Skin color=None, Alignment='bad', Weight=91.0),\n",
       " Row(Id=214, name='Deathlok', Gender='Male', Eye color='brown', Race='Cyborg', Hair color='Grey', Height=193.0, Publisher='Marvel Comics', Skin color=None, Alignment='good', Weight=178.0),\n",
       " Row(Id=215, name='Deathstroke', Gender='Male', Eye color='blue', Race='Human', Hair color='White', Height=193.0, Publisher='DC Comics', Skin color=None, Alignment='neutral', Weight=101.0),\n",
       " Row(Id=216, name='Demogoblin', Gender='Male', Eye color='red', Race='Demon', Hair color='No Hair', Height=185.0, Publisher='Marvel Comics', Skin color=None, Alignment='bad', Weight=95.0),\n",
       " Row(Id=217, name='Destroyer', Gender='Male', Eye color=None, Race=None, Hair color=None, Height=188.0, Publisher='Marvel Comics', Skin color=None, Alignment='bad', Weight=383.0),\n",
       " Row(Id=218, name='Diamondback', Gender='Male', Eye color='brown', Race='Human', Hair color='Black', Height=193.0, Publisher='Marvel Comics', Skin color=None, Alignment='bad', Weight=90.0),\n",
       " Row(Id=219, name='DL Hawkins', Gender='Male', Eye color=None, Race=None, Hair color=None, Height=-99.0, Publisher='NBC - Heroes', Skin color=None, Alignment='good', Weight=-99.0),\n",
       " Row(Id=220, name='Doc Samson', Gender='Male', Eye color='blue', Race='Human / Radiation', Hair color='Green', Height=198.0, Publisher='Marvel Comics', Skin color=None, Alignment='good', Weight=171.0),\n",
       " Row(Id=221, name='Doctor Doom', Gender='Male', Eye color='brown', Race='Human', Hair color='Brown', Height=201.0, Publisher='Marvel Comics', Skin color=None, Alignment='bad', Weight=187.0),\n",
       " Row(Id=222, name='Doctor Doom II', Gender='Male', Eye color='brown', Race=None, Hair color='Brown', Height=201.0, Publisher='Marvel Comics', Skin color=None, Alignment='bad', Weight=132.0),\n",
       " Row(Id=223, name='Doctor Fate', Gender='Male', Eye color='blue', Race='Human', Hair color='Blond', Height=188.0, Publisher='DC Comics', Skin color=None, Alignment='good', Weight=89.0),\n",
       " Row(Id=224, name='Doctor Octopus', Gender='Male', Eye color='brown', Race='Human', Hair color='Brown', Height=175.0, Publisher='Marvel Comics', Skin color=None, Alignment='bad', Weight=110.0),\n",
       " Row(Id=225, name='Doctor Strange', Gender='Male', Eye color='grey', Race='Human', Hair color='Black', Height=188.0, Publisher='Marvel Comics', Skin color=None, Alignment='good', Weight=81.0),\n",
       " Row(Id=226, name='Domino', Gender='Female', Eye color='blue', Race='Human', Hair color='Black', Height=173.0, Publisher='Marvel Comics', Skin color='white', Alignment='good', Weight=54.0),\n",
       " Row(Id=227, name='Donatello', Gender='Male', Eye color='green', Race='Mutant', Hair color='No Hair', Height=-99.0, Publisher='IDW Publishing', Skin color='green', Alignment='good', Weight=-99.0),\n",
       " Row(Id=228, name='Donna Troy', Gender='Female', Eye color='blue', Race='Amazon', Hair color='Black', Height=175.0, Publisher='DC Comics', Skin color=None, Alignment='good', Weight=63.0),\n",
       " Row(Id=229, name='Doomsday', Gender='Male', Eye color='red', Race='Alien', Hair color='White', Height=244.0, Publisher='DC Comics', Skin color=None, Alignment='bad', Weight=412.0),\n",
       " Row(Id=230, name='Doppelganger', Gender='Male', Eye color='white', Race=None, Hair color='No Hair', Height=196.0, Publisher='Marvel Comics', Skin color=None, Alignment='bad', Weight=104.0),\n",
       " Row(Id=231, name='Dormammu', Gender='Male', Eye color='yellow', Race=None, Hair color='No Hair', Height=185.0, Publisher='Marvel Comics', Skin color=None, Alignment='bad', Weight=-99.0),\n",
       " Row(Id=232, name='Dr Manhattan', Gender='Male', Eye color='white', Race='Human / Cosmic', Hair color='No Hair', Height=-99.0, Publisher='DC Comics', Skin color='blue', Alignment='good', Weight=-99.0),\n",
       " Row(Id=233, name='Drax the Destroyer', Gender='Male', Eye color='red', Race='Human / Altered', Hair color='No Hair', Height=193.0, Publisher='Marvel Comics', Skin color='green', Alignment='good', Weight=306.0),\n",
       " Row(Id=234, name='Ego', Gender=None, Eye color=None, Race=None, Hair color=None, Height=-99.0, Publisher='Marvel Comics', Skin color=None, Alignment='bad', Weight=-99.0),\n",
       " Row(Id=235, name='Elastigirl', Gender='Female', Eye color='brown', Race='Human', Hair color='Brown', Height=168.0, Publisher='Dark Horse Comics', Skin color=None, Alignment='good', Weight=56.0),\n",
       " Row(Id=236, name='Electro', Gender='Male', Eye color='blue', Race='Human', Hair color='Auburn', Height=180.0, Publisher='Marvel Comics', Skin color=None, Alignment='bad', Weight=74.0),\n",
       " Row(Id=237, name='Elektra', Gender='Female', Eye color='blue', Race='Human', Hair color='Black', Height=175.0, Publisher='Marvel Comics', Skin color=None, Alignment='good', Weight=59.0),\n",
       " Row(Id=238, name='Elle Bishop', Gender='Female', Eye color='blue', Race=None, Hair color='Blond', Height=-99.0, Publisher='NBC - Heroes', Skin color=None, Alignment='bad', Weight=-99.0),\n",
       " Row(Id=239, name='Elongated Man', Gender='Male', Eye color='blue', Race=None, Hair color='Red', Height=185.0, Publisher='DC Comics', Skin color=None, Alignment='good', Weight=80.0),\n",
       " Row(Id=240, name='Emma Frost', Gender='Female', Eye color='blue', Race=None, Hair color='Blond', Height=178.0, Publisher='Marvel Comics', Skin color=None, Alignment='good', Weight=65.0),\n",
       " Row(Id=241, name='Enchantress', Gender='Female', Eye color='blue', Race='Human', Hair color='Blond', Height=168.0, Publisher='DC Comics', Skin color=None, Alignment='good', Weight=57.0),\n",
       " Row(Id=242, name='Energy', Gender='Female', Eye color=None, Race=None, Hair color=None, Height=-99.0, Publisher='HarperCollins', Skin color=None, Alignment='good', Weight=-99.0),\n",
       " Row(Id=243, name='ERG-1', Gender='Male', Eye color=None, Race=None, Hair color=None, Height=-99.0, Publisher='DC Comics', Skin color=None, Alignment='good', Weight=-99.0),\n",
       " Row(Id=244, name='Ethan Hunt', Gender='Male', Eye color='brown', Race='Human', Hair color='Brown', Height=168.0, Publisher=None, Skin color=None, Alignment='good', Weight=-99.0),\n",
       " Row(Id=245, name='Etrigan', Gender='Male', Eye color='red', Race='Demon', Hair color='No Hair', Height=193.0, Publisher='DC Comics', Skin color='yellow', Alignment='neutral', Weight=203.0),\n",
       " Row(Id=246, name='Evil Deadpool', Gender='Male', Eye color='white', Race='Mutant', Hair color='Red', Height=188.0, Publisher='Marvel Comics', Skin color=None, Alignment='bad', Weight=95.0),\n",
       " Row(Id=247, name='Evilhawk', Gender='Male', Eye color='red', Race='Alien', Hair color='Black', Height=191.0, Publisher='Marvel Comics', Skin color='green', Alignment='bad', Weight=106.0),\n",
       " Row(Id=248, name='Exodus', Gender='Male', Eye color='blue', Race='Mutant', Hair color='Black', Height=183.0, Publisher='Marvel Comics', Skin color='red', Alignment='bad', Weight=88.0),\n",
       " Row(Id=249, name='Fabian Cortez', Gender=None, Eye color='blue', Race=None, Hair color='Brown', Height=196.0, Publisher='Marvel Comics', Skin color=None, Alignment='bad', Weight=96.0),\n",
       " Row(Id=250, name='Falcon', Gender='Male', Eye color='brown', Race='Human', Hair color='Black', Height=188.0, Publisher='Marvel Comics', Skin color=None, Alignment='good', Weight=108.0),\n",
       " Row(Id=251, name='Fallen One II', Gender='Male', Eye color='black', Race=None, Hair color='Blue', Height=-99.0, Publisher='Marvel Comics', Skin color=None, Alignment='bad', Weight=-99.0),\n",
       " Row(Id=252, name='Faora', Gender='Female', Eye color=None, Race='Kryptonian', Hair color=None, Height=-99.0, Publisher='DC Comics', Skin color=None, Alignment='bad', Weight=-99.0),\n",
       " Row(Id=253, name='Feral', Gender=None, Eye color='yellow (without irises)', Race=None, Hair color='Orange / White', Height=175.0, Publisher='Marvel Comics', Skin color=None, Alignment='good', Weight=50.0),\n",
       " Row(Id=254, name='Fighting Spirit', Gender='Female', Eye color=None, Race=None, Hair color='Red', Height=-99.0, Publisher='DC Comics', Skin color=None, Alignment='good', Weight=-99.0),\n",
       " Row(Id=255, name='Fin Fang Foom', Gender='Male', Eye color='red', Race='Kakarantharaian', Hair color='No Hair', Height=975.0, Publisher='Marvel Comics', Skin color='green', Alignment='good', Weight=18.0),\n",
       " Row(Id=256, name='Firebird', Gender='Female', Eye color='brown', Race=None, Hair color='Black', Height=165.0, Publisher='Marvel Comics', Skin color=None, Alignment='good', Weight=56.0),\n",
       " Row(Id=257, name='Firelord', Gender=None, Eye color='white', Race=None, Hair color='Yellow', Height=193.0, Publisher='Marvel Comics', Skin color=None, Alignment='good', Weight=99.0),\n",
       " Row(Id=258, name='Firestar', Gender='Female', Eye color='green', Race='Mutant', Hair color='Red', Height=173.0, Publisher='Marvel Comics', Skin color=None, Alignment='good', Weight=56.0),\n",
       " Row(Id=259, name='Firestorm', Gender='Male', Eye color='brown', Race=None, Hair color='Black', Height=-99.0, Publisher='DC Comics', Skin color=None, Alignment='good', Weight=-99.0),\n",
       " Row(Id=260, name='Firestorm', Gender='Male', Eye color='blue', Race='Human', Hair color='Auburn', Height=188.0, Publisher='DC Comics', Skin color=None, Alignment='good', Weight=91.0),\n",
       " Row(Id=261, name='Fixer', Gender=None, Eye color='red', Race=None, Hair color='No Hair', Height=-99.0, Publisher='Marvel Comics', Skin color=None, Alignment='bad', Weight=-99.0),\n",
       " Row(Id=262, name='Flash', Gender='Male', Eye color='blue', Race='Human', Hair color='Brown / White', Height=180.0, Publisher='DC Comics', Skin color=None, Alignment='good', Weight=81.0),\n",
       " Row(Id=263, name='Flash Gordon', Gender='Male', Eye color=None, Race=None, Hair color=None, Height=-99.0, Publisher=None, Skin color=None, Alignment='good', Weight=-99.0),\n",
       " Row(Id=264, name='Flash II', Gender='Male', Eye color='blue', Race='Human', Hair color='Blond', Height=183.0, Publisher='DC Comics', Skin color=None, Alignment='good', Weight=88.0),\n",
       " Row(Id=265, name='Flash III', Gender='Male', Eye color=None, Race='Human', Hair color=None, Height=183.0, Publisher='DC Comics', Skin color=None, Alignment='good', Weight=86.0),\n",
       " Row(Id=266, name='Flash IV', Gender='Male', Eye color='yellow', Race='Human', Hair color='Auburn', Height=157.0, Publisher='DC Comics', Skin color=None, Alignment='good', Weight=52.0),\n",
       " Row(Id=267, name='Forge', Gender=None, Eye color='brown', Race=None, Hair color='Black', Height=183.0, Publisher='Marvel Comics', Skin color=None, Alignment='good', Weight=81.0),\n",
       " Row(Id=268, name='Franklin Richards', Gender='Male', Eye color='blue', Race='Mutant', Hair color='Blond', Height=142.0, Publisher='Marvel Comics', Skin color=None, Alignment='good', Weight=45.0),\n",
       " Row(Id=269, name='Franklin Storm', Gender=None, Eye color='blue', Race=None, Hair color='Grey', Height=188.0, Publisher='Marvel Comics', Skin color=None, Alignment='good', Weight=92.0),\n",
       " Row(Id=270, name='Frenzy', Gender='Female', Eye color='brown', Race=None, Hair color='Black', Height=211.0, Publisher='Marvel Comics', Skin color=None, Alignment='bad', Weight=104.0),\n",
       " Row(Id=271, name='Frigga', Gender='Female', Eye color='blue', Race=None, Hair color='White', Height=180.0, Publisher='Marvel Comics', Skin color=None, Alignment='good', Weight=167.0),\n",
       " Row(Id=272, name='Galactus', Gender='Male', Eye color='black', Race='Cosmic Entity', Hair color='Black', Height=876.0, Publisher='Marvel Comics', Skin color=None, Alignment='neutral', Weight=16.0),\n",
       " Row(Id=273, name='Gambit', Gender='Male', Eye color='red', Race='Mutant', Hair color='Brown', Height=185.0, Publisher='Marvel Comics', Skin color=None, Alignment='good', Weight=81.0),\n",
       " Row(Id=274, name='Gamora', Gender='Female', Eye color='yellow', Race='Zen-Whoberian', Hair color='Black', Height=183.0, Publisher='Marvel Comics', Skin color='green', Alignment='good', Weight=77.0),\n",
       " Row(Id=275, name='Garbage Man', Gender='Male', Eye color=None, Race='Mutant', Hair color=None, Height=-99.0, Publisher='DC Comics', Skin color=None, Alignment='good', Weight=-99.0),\n",
       " Row(Id=276, name='Gary Bell', Gender='Male', Eye color=None, Race='Alpha', Hair color=None, Height=-99.0, Publisher='SyFy', Skin color=None, Alignment='good', Weight=-99.0),\n",
       " Row(Id=277, name='General Zod', Gender='Male', Eye color='black', Race='Kryptonian', Hair color='Black', Height=-99.0, Publisher='DC Comics', Skin color=None, Alignment='bad', Weight=-99.0),\n",
       " Row(Id=278, name='Genesis', Gender='Male', Eye color='blue', Race=None, Hair color='Blond', Height=185.0, Publisher='Marvel Comics', Skin color=None, Alignment='good', Weight=86.0),\n",
       " Row(Id=279, name='Ghost Rider', Gender='Male', Eye color='red', Race='Demon', Hair color='No Hair', Height=188.0, Publisher='Marvel Comics', Skin color=None, Alignment='good', Weight=99.0),\n",
       " Row(Id=280, name='Ghost Rider II', Gender=None, Eye color=None, Race=None, Hair color=None, Height=-99.0, Publisher='Marvel Comics', Skin color=None, Alignment='good', Weight=-99.0),\n",
       " Row(Id=281, name='Giant-Man', Gender='Male', Eye color=None, Race='Human', Hair color=None, Height=-99.0, Publisher='Marvel Comics', Skin color=None, Alignment='good', Weight=-99.0),\n",
       " Row(Id=282, name='Giant-Man II', Gender='Male', Eye color=None, Race=None, Hair color=None, Height=-99.0, Publisher='Marvel Comics', Skin color=None, Alignment='good', Weight=-99.0),\n",
       " Row(Id=283, name='Giganta', Gender='Female', Eye color='green', Race=None, Hair color='Red', Height=62.5, Publisher='DC Comics', Skin color=None, Alignment='bad', Weight=630.0),\n",
       " Row(Id=284, name='Gladiator', Gender='Male', Eye color='blue', Race='Strontian', Hair color='Blue', Height=198.0, Publisher='Marvel Comics', Skin color='purple', Alignment='neutral', Weight=268.0),\n",
       " Row(Id=285, name='Goblin Queen', Gender='Female', Eye color='green', Race=None, Hair color='Red', Height=168.0, Publisher='Marvel Comics', Skin color=None, Alignment='bad', Weight=50.0),\n",
       " Row(Id=286, name='Godzilla', Gender=None, Eye color=None, Race='Kaiju', Hair color=None, Height=108.0, Publisher=None, Skin color='grey', Alignment='bad', Weight=None),\n",
       " Row(Id=287, name='Gog', Gender='Male', Eye color=None, Race=None, Hair color=None, Height=-99.0, Publisher='DC Comics', Skin color=None, Alignment='bad', Weight=-99.0),\n",
       " Row(Id=288, name='Goku', Gender='Male', Eye color=None, Race='Saiyan', Hair color=None, Height=175.0, Publisher='Shueisha', Skin color=None, Alignment='good', Weight=62.0),\n",
       " Row(Id=289, name='Goliath', Gender='Male', Eye color=None, Race=None, Hair color=None, Height=-99.0, Publisher='Marvel Comics', Skin color=None, Alignment='good', Weight=-99.0),\n",
       " Row(Id=290, name='Goliath', Gender='Male', Eye color=None, Race='Human', Hair color=None, Height=-99.0, Publisher='Marvel Comics', Skin color=None, Alignment='good', Weight=-99.0),\n",
       " Row(Id=291, name='Goliath', Gender='Male', Eye color=None, Race='Human', Hair color=None, Height=-99.0, Publisher='Marvel Comics', Skin color=None, Alignment='good', Weight=-99.0),\n",
       " Row(Id=292, name='Goliath IV', Gender='Male', Eye color='brown', Race=None, Hair color='Black', Height=183.0, Publisher='Marvel Comics', Skin color=None, Alignment='good', Weight=90.0),\n",
       " Row(Id=293, name='Gorilla Grodd', Gender='Male', Eye color='yellow', Race='Gorilla', Hair color='Black', Height=198.0, Publisher='DC Comics', Skin color=None, Alignment='bad', Weight=270.0),\n",
       " Row(Id=294, name='Granny Goodness', Gender='Female', Eye color='blue', Race=None, Hair color='White', Height=178.0, Publisher='DC Comics', Skin color=None, Alignment='bad', Weight=115.0),\n",
       " Row(Id=295, name='Gravity', Gender='Male', Eye color='blue', Race='Human', Hair color='Brown', Height=178.0, Publisher='Marvel Comics', Skin color=None, Alignment='good', Weight=79.0),\n",
       " Row(Id=296, name='Greedo', Gender='Male', Eye color='purple', Race='Rodian', Hair color=None, Height=170.0, Publisher='George Lucas', Skin color='green', Alignment='bad', Weight=-99.0),\n",
       " Row(Id=297, name='Green Arrow', Gender='Male', Eye color='green', Race='Human', Hair color='Blond', Height=188.0, Publisher='DC Comics', Skin color=None, Alignment='good', Weight=88.0),\n",
       " Row(Id=298, name='Green Goblin', Gender='Male', Eye color='blue', Race='Human', Hair color='Auburn', Height=180.0, Publisher='Marvel Comics', Skin color=None, Alignment='bad', Weight=83.0),\n",
       " Row(Id=299, name='Green Goblin II', Gender='Male', Eye color='blue', Race=None, Hair color='Auburn', Height=178.0, Publisher='Marvel Comics', Skin color=None, Alignment='bad', Weight=77.0),\n",
       " Row(Id=300, name='Green Goblin III', Gender='Male', Eye color=None, Race=None, Hair color=None, Height=183.0, Publisher='Marvel Comics', Skin color=None, Alignment='good', Weight=88.0),\n",
       " Row(Id=301, name='Green Goblin IV', Gender='Male', Eye color='green', Race=None, Hair color='Brown', Height=178.0, Publisher='Marvel Comics', Skin color=None, Alignment='good', Weight=79.0),\n",
       " Row(Id=302, name='Groot', Gender='Male', Eye color='yellow', Race='Flora Colossus', Hair color=None, Height=701.0, Publisher='Marvel Comics', Skin color=None, Alignment='good', Weight=4.0),\n",
       " Row(Id=303, name='Guardian', Gender='Male', Eye color='brown', Race='Human', Hair color='Black', Height=-99.0, Publisher='Marvel Comics', Skin color=None, Alignment='good', Weight=-99.0),\n",
       " Row(Id=304, name='Guy Gardner', Gender='Male', Eye color='blue', Race='Human-Vuldarian', Hair color='Red', Height=188.0, Publisher='DC Comics', Skin color=None, Alignment='good', Weight=95.0),\n",
       " Row(Id=305, name='Hal Jordan', Gender='Male', Eye color='brown', Race='Human', Hair color='Brown', Height=188.0, Publisher='DC Comics', Skin color=None, Alignment='good', Weight=90.0),\n",
       " Row(Id=306, name='Han Solo', Gender='Male', Eye color='brown', Race='Human', Hair color='Brown', Height=183.0, Publisher='George Lucas', Skin color=None, Alignment='good', Weight=79.0),\n",
       " Row(Id=307, name='Hancock', Gender='Male', Eye color='brown', Race='Human', Hair color='Black', Height=188.0, Publisher='Sony Pictures', Skin color=None, Alignment='good', Weight=-99.0),\n",
       " Row(Id=308, name='Harley Quinn', Gender='Female', Eye color='blue', Race='Human', Hair color='Blond', Height=170.0, Publisher='DC Comics', Skin color=None, Alignment='bad', Weight=63.0),\n",
       " Row(Id=309, name='Harry Potter', Gender='Male', Eye color='green', Race='Human', Hair color='Black', Height=-99.0, Publisher='J. K. Rowling', Skin color=None, Alignment='good', Weight=-99.0),\n",
       " Row(Id=310, name='Havok', Gender='Male', Eye color='blue', Race='Mutant', Hair color='Blond', Height=183.0, Publisher='Marvel Comics', Skin color=None, Alignment='good', Weight=79.0),\n",
       " Row(Id=311, name='Hawk', Gender='Male', Eye color='red', Race=None, Hair color='Brown', Height=185.0, Publisher='DC Comics', Skin color=None, Alignment='good', Weight=89.0),\n",
       " Row(Id=312, name='Hawkeye', Gender='Male', Eye color='blue', Race='Human', Hair color='Blond', Height=191.0, Publisher='Marvel Comics', Skin color=None, Alignment='good', Weight=104.0),\n",
       " Row(Id=313, name='Hawkeye II', Gender='Female', Eye color='blue', Race='Human', Hair color='Black', Height=165.0, Publisher='Marvel Comics', Skin color=None, Alignment='good', Weight=57.0),\n",
       " Row(Id=314, name='Hawkgirl', Gender='Female', Eye color='green', Race=None, Hair color='Red', Height=175.0, Publisher='DC Comics', Skin color=None, Alignment='good', Weight=61.0),\n",
       " Row(Id=315, name='Hawkman', Gender='Male', Eye color='blue', Race=None, Hair color='Brown', Height=185.0, Publisher='DC Comics', Skin color=None, Alignment='good', Weight=88.0),\n",
       " Row(Id=316, name='Hawkwoman', Gender='Female', Eye color='green', Race=None, Hair color='Red', Height=175.0, Publisher='DC Comics', Skin color=None, Alignment='good', Weight=54.0),\n",
       " Row(Id=317, name='Hawkwoman II', Gender='Female', Eye color=None, Race=None, Hair color=None, Height=-99.0, Publisher='DC Comics', Skin color=None, Alignment='good', Weight=-99.0),\n",
       " Row(Id=318, name='Hawkwoman III', Gender='Female', Eye color='blue', Race=None, Hair color='Red', Height=170.0, Publisher='DC Comics', Skin color=None, Alignment='good', Weight=65.0),\n",
       " Row(Id=319, name='Heat Wave', Gender='Male', Eye color='blue', Race='Human', Hair color='No Hair', Height=180.0, Publisher='DC Comics', Skin color=None, Alignment='bad', Weight=81.0),\n",
       " Row(Id=320, name='Hela', Gender='Female', Eye color='green', Race='Asgardian', Hair color='Black', Height=213.0, Publisher='Marvel Comics', Skin color=None, Alignment='bad', Weight=225.0),\n",
       " Row(Id=321, name='Hellboy', Gender='Male', Eye color='gold', Race='Demon', Hair color='Black', Height=259.0, Publisher='Dark Horse Comics', Skin color=None, Alignment='good', Weight=158.0),\n",
       " Row(Id=322, name='Hellcat', Gender='Female', Eye color='blue', Race='Human', Hair color='Red', Height=173.0, Publisher='Marvel Comics', Skin color=None, Alignment='good', Weight=61.0),\n",
       " Row(Id=323, name='Hellstorm', Gender='Male', Eye color='red', Race=None, Hair color='Red', Height=185.0, Publisher='Marvel Comics', Skin color=None, Alignment='good', Weight=81.0),\n",
       " Row(Id=324, name='Hercules', Gender='Male', Eye color='blue', Race='Demi-God', Hair color='Brown', Height=196.0, Publisher='Marvel Comics', Skin color=None, Alignment='good', Weight=146.0),\n",
       " Row(Id=325, name='Hiro Nakamura', Gender='Male', Eye color=None, Race=None, Hair color=None, Height=-99.0, Publisher='NBC - Heroes', Skin color=None, Alignment='good', Weight=-99.0),\n",
       " Row(Id=326, name='Hit-Girl', Gender='Female', Eye color=None, Race='Human', Hair color=None, Height=-99.0, Publisher='Icon Comics', Skin color=None, Alignment='good', Weight=-99.0),\n",
       " Row(Id=327, name='Hobgoblin', Gender='Male', Eye color='blue', Race=None, Hair color='Grey', Height=180.0, Publisher='Marvel Comics', Skin color=None, Alignment='bad', Weight=83.0),\n",
       " Row(Id=328, name='Hollow', Gender='Female', Eye color='blue', Race=None, Hair color='Red', Height=170.0, Publisher='Marvel Comics', Skin color=None, Alignment='good', Weight=-99.0),\n",
       " Row(Id=329, name='Hope Summers', Gender='Female', Eye color='green', Race=None, Hair color='Red', Height=168.0, Publisher='Marvel Comics', Skin color=None, Alignment='good', Weight=48.0),\n",
       " Row(Id=330, name='Howard the Duck', Gender='Male', Eye color='brown', Race=None, Hair color='Yellow', Height=79.0, Publisher='Marvel Comics', Skin color=None, Alignment='good', Weight=18.0),\n",
       " Row(Id=331, name='Hulk', Gender='Male', Eye color='green', Race='Human / Radiation', Hair color='Green', Height=244.0, Publisher='Marvel Comics', Skin color='green', Alignment='good', Weight=630.0),\n",
       " Row(Id=332, name='Human Torch', Gender='Male', Eye color='blue', Race='Human / Radiation', Hair color='Blond', Height=178.0, Publisher='Marvel Comics', Skin color=None, Alignment='good', Weight=77.0),\n",
       " Row(Id=333, name='Huntress', Gender='Female', Eye color='blue', Race=None, Hair color='Black', Height=180.0, Publisher='DC Comics', Skin color=None, Alignment='good', Weight=59.0),\n",
       " Row(Id=334, name='Husk', Gender='Female', Eye color='blue', Race='Mutant', Hair color='Blond', Height=170.0, Publisher='Marvel Comics', Skin color=None, Alignment='good', Weight=58.0),\n",
       " Row(Id=335, name='Hybrid', Gender='Male', Eye color='brown', Race='Symbiote', Hair color='Black', Height=175.0, Publisher='Marvel Comics', Skin color=None, Alignment='good', Weight=77.0),\n",
       " Row(Id=336, name='Hydro-Man', Gender='Male', Eye color='brown', Race=None, Hair color='Brown', Height=188.0, Publisher='Marvel Comics', Skin color=None, Alignment='bad', Weight=119.0),\n",
       " Row(Id=337, name='Hyperion', Gender='Male', Eye color='blue', Race='Eternal', Hair color='Red', Height=183.0, Publisher='Marvel Comics', Skin color=None, Alignment='good', Weight=207.0),\n",
       " Row(Id=338, name='Iceman', Gender='Male', Eye color='brown', Race='Mutant', Hair color='Brown', Height=173.0, Publisher='Marvel Comics', Skin color=None, Alignment='good', Weight=65.0),\n",
       " Row(Id=339, name='Impulse', Gender='Male', Eye color='yellow', Race='Human', Hair color='Auburn', Height=170.0, Publisher='DC Comics', Skin color=None, Alignment='good', Weight=65.0),\n",
       " Row(Id=340, name='Indiana Jones', Gender='Male', Eye color=None, Race='Human', Hair color=None, Height=183.0, Publisher='George Lucas', Skin color=None, Alignment='good', Weight=79.0),\n",
       " Row(Id=341, name='Indigo', Gender='Female', Eye color=None, Race='Alien', Hair color='Purple', Height=-99.0, Publisher='DC Comics', Skin color=None, Alignment='neutral', Weight=-99.0),\n",
       " Row(Id=342, name='Ink', Gender='Male', Eye color='blue', Race='Mutant', Hair color='No Hair', Height=180.0, Publisher='Marvel Comics', Skin color=None, Alignment='good', Weight=81.0),\n",
       " Row(Id=343, name='Invisible Woman', Gender='Female', Eye color='blue', Race='Human / Radiation', Hair color='Blond', Height=168.0, Publisher='Marvel Comics', Skin color=None, Alignment='good', Weight=54.0),\n",
       " Row(Id=344, name='Iron Fist', Gender='Male', Eye color='blue', Race='Human', Hair color='Blond', Height=180.0, Publisher='Marvel Comics', Skin color=None, Alignment='good', Weight=79.0),\n",
       " Row(Id=345, name='Iron Man', Gender='Male', Eye color='blue', Race='Human', Hair color='Black', Height=198.0, Publisher='Marvel Comics', Skin color=None, Alignment='good', Weight=191.0),\n",
       " Row(Id=346, name='Iron Monger', Gender='Male', Eye color='blue', Race=None, Hair color='No Hair', Height=-99.0, Publisher='Marvel Comics', Skin color=None, Alignment='bad', Weight=2.0),\n",
       " Row(Id=347, name='Isis', Gender='Female', Eye color=None, Race=None, Hair color=None, Height=-99.0, Publisher='DC Comics', Skin color=None, Alignment='good', Weight=-99.0),\n",
       " Row(Id=348, name='Jack Bauer', Gender='Male', Eye color=None, Race=None, Hair color=None, Height=-99.0, Publisher=None, Skin color=None, Alignment='good', Weight=-99.0),\n",
       " Row(Id=349, name='Jack of Hearts', Gender='Male', Eye color='blue / white', Race='Human', Hair color='Brown', Height=155.0, Publisher='Marvel Comics', Skin color=None, Alignment='good', Weight=79.0),\n",
       " Row(Id=350, name='Jack-Jack', Gender='Male', Eye color='blue', Race='Human', Hair color='Brown', Height=71.0, Publisher='Dark Horse Comics', Skin color=None, Alignment='good', Weight=14.0),\n",
       " Row(Id=351, name='James Bond', Gender='Male', Eye color='blue', Race='Human', Hair color='Blond', Height=183.0, Publisher='Titan Books', Skin color=None, Alignment='good', Weight=-99.0),\n",
       " Row(Id=352, name='James T. Kirk', Gender='Male', Eye color='hazel', Race='Human', Hair color='Brown', Height=178.0, Publisher='Star Trek', Skin color=None, Alignment='good', Weight=77.0),\n",
       " Row(Id=353, name='Jar Jar Binks', Gender='Male', Eye color='yellow', Race='Gungan', Hair color=None, Height=193.0, Publisher='George Lucas', Skin color='orange / white', Alignment='good', Weight=-99.0),\n",
       " Row(Id=354, name='Jason Bourne', Gender='Male', Eye color=None, Race='Human', Hair color=None, Height=-99.0, Publisher=None, Skin color=None, Alignment='good', Weight=-99.0),\n",
       " Row(Id=355, name='Jean Grey', Gender='Female', Eye color='green', Race='Mutant', Hair color='Red', Height=168.0, Publisher='Marvel Comics', Skin color=None, Alignment='good', Weight=52.0),\n",
       " Row(Id=356, name='Jean-Luc Picard', Gender='Male', Eye color=None, Race='Human', Hair color=None, Height=-99.0, Publisher='Star Trek', Skin color=None, Alignment='good', Weight=-99.0),\n",
       " Row(Id=357, name='Jennifer Kale', Gender='Female', Eye color='blue', Race=None, Hair color='Blond', Height=168.0, Publisher='Marvel Comics', Skin color=None, Alignment='good', Weight=55.0),\n",
       " Row(Id=358, name='Jesse Quick', Gender='Female', Eye color=None, Race='Human', Hair color=None, Height=-99.0, Publisher='DC Comics', Skin color=None, Alignment='good', Weight=-99.0),\n",
       " Row(Id=359, name='Jessica Cruz', Gender='Female', Eye color='green', Race='Human', Hair color='Brown', Height=-99.0, Publisher='DC Comics', Skin color=None, Alignment='good', Weight=-99.0),\n",
       " Row(Id=360, name='Jessica Jones', Gender='Female', Eye color='brown', Race='Human', Hair color='Brown', Height=170.0, Publisher='Marvel Comics', Skin color=None, Alignment='good', Weight=56.0),\n",
       " Row(Id=361, name='Jessica Sanders', Gender='Female', Eye color=None, Race=None, Hair color=None, Height=-99.0, Publisher='NBC - Heroes', Skin color=None, Alignment='good', Weight=-99.0),\n",
       " Row(Id=362, name='Jigsaw', Gender='Male', Eye color='blue', Race=None, Hair color='Black', Height=188.0, Publisher='Marvel Comics', Skin color=None, Alignment='bad', Weight=113.0),\n",
       " Row(Id=363, name='Jim Powell', Gender='Male', Eye color=None, Race=None, Hair color=None, Height=-99.0, Publisher='ABC Studios', Skin color=None, Alignment='good', Weight=-99.0),\n",
       " Row(Id=364, name='JJ Powell', Gender='Male', Eye color=None, Race=None, Hair color=None, Height=-99.0, Publisher='ABC Studios', Skin color=None, Alignment='good', Weight=-99.0),\n",
       " Row(Id=365, name='Johann Krauss', Gender='Male', Eye color=None, Race=None, Hair color=None, Height=-99.0, Publisher='Dark Horse Comics', Skin color=None, Alignment='good', Weight=-99.0),\n",
       " Row(Id=366, name='John Constantine', Gender='Male', Eye color='blue', Race='Human', Hair color='Blond', Height=183.0, Publisher='DC Comics', Skin color=None, Alignment='good', Weight=-99.0),\n",
       " Row(Id=367, name='John Stewart', Gender='Male', Eye color='green', Race='Human', Hair color='Black', Height=185.0, Publisher='DC Comics', Skin color=None, Alignment='good', Weight=90.0),\n",
       " Row(Id=368, name='John Wraith', Gender='Male', Eye color='brown', Race=None, Hair color='Black', Height=183.0, Publisher='Marvel Comics', Skin color=None, Alignment='good', Weight=88.0),\n",
       " Row(Id=369, name='Joker', Gender='Male', Eye color='green', Race='Human', Hair color='Green', Height=196.0, Publisher='DC Comics', Skin color='white', Alignment='bad', Weight=86.0),\n",
       " Row(Id=370, name='Jolt', Gender='Female', Eye color='blue', Race=None, Hair color='Black', Height=165.0, Publisher='Marvel Comics', Skin color=None, Alignment='good', Weight=49.0),\n",
       " Row(Id=371, name='Jubilee', Gender='Female', Eye color='red', Race='Mutant', Hair color='Black', Height=165.0, Publisher='Marvel Comics', Skin color=None, Alignment='good', Weight=52.0),\n",
       " Row(Id=372, name='Judge Dredd', Gender='Male', Eye color=None, Race='Human', Hair color=None, Height=188.0, Publisher='Rebellion', Skin color=None, Alignment='good', Weight=-99.0),\n",
       " Row(Id=373, name='Juggernaut', Gender='Male', Eye color='blue', Race='Human', Hair color='Red', Height=287.0, Publisher='Marvel Comics', Skin color=None, Alignment='neutral', Weight=855.0),\n",
       " Row(Id=374, name='Junkpile', Gender='Male', Eye color=None, Race='Mutant', Hair color=None, Height=-99.0, Publisher='Marvel Comics', Skin color=None, Alignment='bad', Weight=-99.0),\n",
       " Row(Id=375, name='Justice', Gender='Male', Eye color='hazel', Race='Human', Hair color='Brown', Height=178.0, Publisher='Marvel Comics', Skin color=None, Alignment='good', Weight=81.0),\n",
       " Row(Id=376, name='Jyn Erso', Gender='Female', Eye color='green', Race='Human', Hair color='Brown', Height=-99.0, Publisher='George Lucas', Skin color=None, Alignment='good', Weight=-99.0),\n",
       " Row(Id=377, name='K-2SO', Gender='Male', Eye color='white', Race='Android', Hair color='No Hair', Height=213.0, Publisher='George Lucas', Skin color='gray', Alignment='good', Weight=-99.0),\n",
       " Row(Id=378, name='Kang', Gender='Male', Eye color='brown', Race=None, Hair color='Brown', Height=191.0, Publisher='Marvel Comics', Skin color=None, Alignment='bad', Weight=104.0),\n",
       " Row(Id=379, name='Karate Kid', Gender='Male', Eye color='brown', Race='Human', Hair color='Brown', Height=173.0, Publisher='DC Comics', Skin color=None, Alignment='good', Weight=72.0),\n",
       " Row(Id=380, name='Kathryn Janeway', Gender='Female', Eye color=None, Race='Human', Hair color=None, Height=-99.0, Publisher='Star Trek', Skin color=None, Alignment='good', Weight=-99.0),\n",
       " Row(Id=381, name='Katniss Everdeen', Gender='Female', Eye color=None, Race='Human', Hair color=None, Height=-99.0, Publisher=None, Skin color=None, Alignment='good', Weight=-99.0),\n",
       " Row(Id=382, name='Kevin 11', Gender='Male', Eye color=None, Race='Human', Hair color='Black', Height=-99.0, Publisher='DC Comics', Skin color=None, Alignment='good', Weight=-99.0),\n",
       " Row(Id=383, name='Kick-Ass', Gender='Male', Eye color='blue', Race='Human', Hair color='Blond', Height=-99.0, Publisher='Icon Comics', Skin color=None, Alignment='good', Weight=-99.0),\n",
       " Row(Id=384, name='Kid Flash', Gender='Male', Eye color='green', Race='Human', Hair color='Red', Height=-99.0, Publisher='DC Comics', Skin color=None, Alignment='good', Weight=-99.0),\n",
       " Row(Id=385, name='Kid Flash II', Gender='Male', Eye color=None, Race=None, Hair color=None, Height=-99.0, Publisher='DC Comics', Skin color=None, Alignment='good', Weight=-99.0),\n",
       " Row(Id=386, name='Killer Croc', Gender='Male', Eye color='red', Race='Metahuman', Hair color='No Hair', Height=244.0, Publisher='DC Comics', Skin color='green', Alignment='bad', Weight=356.0),\n",
       " Row(Id=387, name='Killer Frost', Gender='Female', Eye color='blue', Race='Human', Hair color='Blond', Height=-99.0, Publisher='DC Comics', Skin color='blue', Alignment='bad', Weight=-99.0),\n",
       " Row(Id=388, name='Kilowog', Gender='Male', Eye color='red', Race='Bolovaxian', Hair color='No Hair', Height=234.0, Publisher='DC Comics', Skin color='pink', Alignment='good', Weight=324.0),\n",
       " Row(Id=389, name='King Kong', Gender='Male', Eye color='yellow', Race='Animal', Hair color='Black', Height=30.5, Publisher=None, Skin color=None, Alignment='good', Weight=None),\n",
       " Row(Id=390, name='King Shark', Gender='Male', Eye color='black', Race='Animal', Hair color='No Hair', Height=-99.0, Publisher='DC Comics', Skin color=None, Alignment='bad', Weight=-99.0),\n",
       " Row(Id=391, name='Kingpin', Gender='Male', Eye color='blue', Race='Human', Hair color='No Hair', Height=201.0, Publisher='Marvel Comics', Skin color=None, Alignment='bad', Weight=203.0),\n",
       " Row(Id=392, name='Klaw', Gender='Male', Eye color='red', Race='Human', Hair color='No Hair', Height=188.0, Publisher='Marvel Comics', Skin color='red', Alignment='bad', Weight=97.0),\n",
       " Row(Id=393, name='Kool-Aid Man', Gender='Male', Eye color='black', Race=None, Hair color='No Hair', Height=-99.0, Publisher=None, Skin color='red', Alignment='good', Weight=-99.0),\n",
       " Row(Id=394, name='Kraven II', Gender='Male', Eye color='brown', Race='Human', Hair color='Black', Height=191.0, Publisher='Marvel Comics', Skin color=None, Alignment='bad', Weight=99.0),\n",
       " Row(Id=395, name='Kraven the Hunter', Gender='Male', Eye color='brown', Race='Human', Hair color='Black', Height=183.0, Publisher='Marvel Comics', Skin color=None, Alignment='bad', Weight=106.0),\n",
       " Row(Id=396, name='Krypto', Gender='Male', Eye color='blue', Race='Kryptonian', Hair color='White', Height=64.0, Publisher='DC Comics', Skin color=None, Alignment='good', Weight=18.0),\n",
       " Row(Id=397, name='Kyle Rayner', Gender='Male', Eye color='green', Race='Human', Hair color='Black', Height=180.0, Publisher='DC Comics', Skin color=None, Alignment='good', Weight=79.0),\n",
       " Row(Id=398, name='Kylo Ren', Gender='Male', Eye color=None, Race='Human', Hair color=None, Height=-99.0, Publisher='George Lucas', Skin color=None, Alignment='bad', Weight=-99.0),\n",
       " Row(Id=399, name='Lady Bullseye', Gender='Female', Eye color=None, Race=None, Hair color='Black', Height=-99.0, Publisher='Marvel Comics', Skin color=None, Alignment='bad', Weight=-99.0),\n",
       " Row(Id=400, name='Lady Deathstrike', Gender='Female', Eye color='brown', Race='Cyborg', Hair color='Black', Height=175.0, Publisher='Marvel Comics', Skin color=None, Alignment='bad', Weight=58.0),\n",
       " Row(Id=401, name='Leader', Gender='Male', Eye color='green', Race=None, Hair color='No Hair', Height=178.0, Publisher='Marvel Comics', Skin color=None, Alignment='bad', Weight=63.0),\n",
       " Row(Id=402, name='Leech', Gender='Male', Eye color=None, Race=None, Hair color=None, Height=-99.0, Publisher='Marvel Comics', Skin color=None, Alignment='good', Weight=-99.0),\n",
       " Row(Id=403, name='Legion', Gender='Male', Eye color='green / blue', Race='Mutant', Hair color='Black', Height=175.0, Publisher='Marvel Comics', Skin color=None, Alignment='good', Weight=59.0),\n",
       " Row(Id=404, name='Leonardo', Gender='Male', Eye color='blue', Race='Mutant', Hair color='No Hair', Height=-99.0, Publisher='IDW Publishing', Skin color='green', Alignment='good', Weight=-99.0),\n",
       " Row(Id=405, name='Lex Luthor', Gender='Male', Eye color='green', Race='Human', Hair color='No Hair', Height=188.0, Publisher='DC Comics', Skin color=None, Alignment='bad', Weight=95.0),\n",
       " Row(Id=406, name='Light Lass', Gender='Female', Eye color='blue', Race=None, Hair color='Red', Height=165.0, Publisher='DC Comics', Skin color=None, Alignment='good', Weight=54.0),\n",
       " Row(Id=407, name='Lightning Lad', Gender='Male', Eye color='blue', Race=None, Hair color='Red', Height=155.0, Publisher='DC Comics', Skin color=None, Alignment='good', Weight=65.0),\n",
       " Row(Id=408, name='Lightning Lord', Gender='Male', Eye color='blue', Race=None, Hair color='Red', Height=191.0, Publisher='DC Comics', Skin color=None, Alignment='bad', Weight=95.0),\n",
       " Row(Id=409, name='Living Brain', Gender=None, Eye color='yellow', Race=None, Hair color=None, Height=198.0, Publisher='Marvel Comics', Skin color=None, Alignment='bad', Weight=360.0),\n",
       " Row(Id=410, name='Living Tribunal', Gender=None, Eye color='blue', Race='Cosmic Entity', Hair color='No Hair', Height=-99.0, Publisher='Marvel Comics', Skin color='gold', Alignment='neutral', Weight=-99.0),\n",
       " Row(Id=411, name='Liz Sherman', Gender='Female', Eye color=None, Race=None, Hair color=None, Height=-99.0, Publisher='Dark Horse Comics', Skin color=None, Alignment='good', Weight=-99.0),\n",
       " Row(Id=412, name='Lizard', Gender='Male', Eye color='red', Race='Human', Hair color='No Hair', Height=203.0, Publisher='Marvel Comics', Skin color=None, Alignment='bad', Weight=230.0),\n",
       " Row(Id=413, name='Lobo', Gender='Male', Eye color='red', Race='Czarnian', Hair color='Black', Height=229.0, Publisher='DC Comics', Skin color='blue-white', Alignment='neutral', Weight=288.0),\n",
       " Row(Id=414, name='Loki', Gender='Male', Eye color='green', Race='Asgardian', Hair color='Black', Height=193.0, Publisher='Marvel Comics', Skin color=None, Alignment='bad', Weight=236.0),\n",
       " Row(Id=415, name='Longshot', Gender='Male', Eye color='blue', Race='Human', Hair color='Blond', Height=188.0, Publisher='Marvel Comics', Skin color=None, Alignment='good', Weight=36.0),\n",
       " Row(Id=416, name='Luke Cage', Gender='Male', Eye color='brown', Race='Human', Hair color='Black', Height=198.0, Publisher='Marvel Comics', Skin color=None, Alignment='good', Weight=191.0),\n",
       " Row(Id=417, name='Luke Campbell', Gender='Male', Eye color=None, Race=None, Hair color=None, Height=-99.0, Publisher='NBC - Heroes', Skin color=None, Alignment='bad', Weight=-99.0),\n",
       " Row(Id=418, name='Luke Skywalker', Gender='Male', Eye color='blue', Race='Human', Hair color='Blond', Height=168.0, Publisher='George Lucas', Skin color=None, Alignment='good', Weight=77.0),\n",
       " Row(Id=419, name='Luna', Gender='Female', Eye color=None, Race='Human', Hair color=None, Height=-99.0, Publisher='Marvel Comics', Skin color=None, Alignment='good', Weight=-99.0),\n",
       " Row(Id=420, name='Lyja', Gender='Female', Eye color='green', Race=None, Hair color='Green', Height=-99.0, Publisher='Marvel Comics', Skin color=None, Alignment='good', Weight=-99.0),\n",
       " Row(Id=421, name='Mach-IV', Gender='Male', Eye color='brown', Race=None, Hair color='Brown', Height=180.0, Publisher='Marvel Comics', Skin color=None, Alignment='bad', Weight=79.0),\n",
       " Row(Id=422, name='Machine Man', Gender=None, Eye color='red', Race=None, Hair color='Black', Height=183.0, Publisher='Marvel Comics', Skin color=None, Alignment='good', Weight=383.0),\n",
       " Row(Id=423, name='Magneto', Gender='Male', Eye color='grey', Race='Mutant', Hair color='White', Height=188.0, Publisher='Marvel Comics', Skin color=None, Alignment='bad', Weight=86.0),\n",
       " Row(Id=424, name='Magog', Gender='Male', Eye color='blue', Race=None, Hair color='Blond', Height=-99.0, Publisher='DC Comics', Skin color=None, Alignment='good', Weight=-99.0),\n",
       " Row(Id=425, name='Magus', Gender='Male', Eye color='black', Race=None, Hair color=None, Height=183.0, Publisher='Marvel Comics', Skin color=None, Alignment='bad', Weight=-99.0),\n",
       " Row(Id=426, name='Man of Miracles', Gender=None, Eye color='blue', Race='God / Eternal', Hair color='Silver', Height=-99.0, Publisher='Image Comics', Skin color=None, Alignment=None, Weight=-99.0),\n",
       " Row(Id=427, name='Man-Bat', Gender='Male', Eye color='brown', Race='Human', Hair color='Brown', Height=-99.0, Publisher='DC Comics', Skin color=None, Alignment='neutral', Weight=-99.0),\n",
       " Row(Id=428, name='Man-Thing', Gender='Male', Eye color='red', Race=None, Hair color='No Hair', Height=213.0, Publisher='Marvel Comics', Skin color='green', Alignment='good', Weight=225.0),\n",
       " Row(Id=429, name='Man-Wolf', Gender='Male', Eye color='brown', Race=None, Hair color='Auburn', Height=188.0, Publisher='Marvel Comics', Skin color=None, Alignment='good', Weight=90.0),\n",
       " Row(Id=430, name='Mandarin', Gender='Male', Eye color='blue', Race='Human', Hair color='White', Height=188.0, Publisher='Marvel Comics', Skin color=None, Alignment='bad', Weight=97.0),\n",
       " Row(Id=431, name='Mantis', Gender='Female', Eye color='green', Race='Human-Kree', Hair color='Black', Height=168.0, Publisher='Marvel Comics', Skin color='green', Alignment='good', Weight=52.0),\n",
       " Row(Id=432, name='Martian Manhunter', Gender='Male', Eye color='red', Race='Martian', Hair color='No Hair', Height=201.0, Publisher='DC Comics', Skin color='green', Alignment='good', Weight=135.0),\n",
       " Row(Id=433, name='Marvel Girl', Gender='Female', Eye color='green', Race=None, Hair color='Red', Height=170.0, Publisher='Marvel Comics', Skin color=None, Alignment='good', Weight=56.0),\n",
       " Row(Id=434, name='Master Brood', Gender='Male', Eye color='blue', Race=None, Hair color='Black', Height=183.0, Publisher='Team Epic TV', Skin color=None, Alignment='good', Weight=81.0),\n",
       " Row(Id=435, name='Master Chief', Gender='Male', Eye color='brown', Race='Human / Altered', Hair color='Brown', Height=213.0, Publisher='Microsoft', Skin color=None, Alignment='good', Weight=-99.0),\n",
       " Row(Id=436, name='Match', Gender='Male', Eye color='black', Race=None, Hair color='Black', Height=-99.0, Publisher='DC Comics', Skin color=None, Alignment='bad', Weight=-99.0),\n",
       " Row(Id=437, name='Matt Parkman', Gender='Male', Eye color=None, Race=None, Hair color=None, Height=-99.0, Publisher='NBC - Heroes', Skin color=None, Alignment='good', Weight=-99.0),\n",
       " Row(Id=438, name='Maverick', Gender='Male', Eye color='blue', Race=None, Hair color='Black', Height=193.0, Publisher='Marvel Comics', Skin color=None, Alignment='good', Weight=110.0),\n",
       " Row(Id=439, name='Maxima', Gender='Female', Eye color='brown', Race=None, Hair color='Red', Height=180.0, Publisher='DC Comics', Skin color=None, Alignment='bad', Weight=72.0),\n",
       " Row(Id=440, name='Maya Herrera', Gender='Female', Eye color=None, Race=None, Hair color=None, Height=-99.0, Publisher='NBC - Heroes', Skin color=None, Alignment='good', Weight=-99.0),\n",
       " Row(Id=441, name='Medusa', Gender='Female', Eye color='green', Race='Inhuman', Hair color='Red', Height=180.0, Publisher='Marvel Comics', Skin color=None, Alignment='good', Weight=59.0),\n",
       " Row(Id=442, name='Meltdown', Gender='Female', Eye color='blue', Race=None, Hair color='Blond', Height=165.0, Publisher='Marvel Comics', Skin color=None, Alignment='good', Weight=54.0),\n",
       " Row(Id=443, name='Mephisto', Gender='Male', Eye color='white', Race=None, Hair color='Black', Height=198.0, Publisher='Marvel Comics', Skin color=None, Alignment='bad', Weight=140.0),\n",
       " Row(Id=444, name='Mera', Gender='Female', Eye color='blue', Race='Atlantean', Hair color='Red', Height=175.0, Publisher='DC Comics', Skin color=None, Alignment='good', Weight=72.0),\n",
       " Row(Id=445, name='Metallo', Gender='Male', Eye color='green', Race='Android', Hair color='Brown', Height=196.0, Publisher='DC Comics', Skin color=None, Alignment='bad', Weight=90.0),\n",
       " Row(Id=446, name='Metamorpho', Gender='Male', Eye color='black', Race=None, Hair color='No Hair', Height=185.0, Publisher='DC Comics', Skin color=None, Alignment='good', Weight=90.0),\n",
       " Row(Id=447, name='Meteorite', Gender='Female', Eye color=None, Race=None, Hair color=None, Height=-99.0, Publisher='Marvel Comics', Skin color=None, Alignment='good', Weight=-99.0),\n",
       " Row(Id=448, name='Metron', Gender='Male', Eye color='blue', Race=None, Hair color='Black', Height=185.0, Publisher='DC Comics', Skin color=None, Alignment='good', Weight=86.0),\n",
       " Row(Id=449, name='Micah Sanders', Gender='Male', Eye color='brown', Race=None, Hair color='Black', Height=-99.0, Publisher='NBC - Heroes', Skin color=None, Alignment='good', Weight=-99.0),\n",
       " Row(Id=450, name='Michelangelo', Gender='Male', Eye color='blue', Race='Mutant', Hair color=None, Height=-99.0, Publisher='IDW Publishing', Skin color='green', Alignment='good', Weight=-99.0),\n",
       " Row(Id=451, name='Micro Lad', Gender='Male', Eye color='grey', Race=None, Hair color='Brown', Height=183.0, Publisher='DC Comics', Skin color=None, Alignment='good', Weight=77.0),\n",
       " Row(Id=452, name='Mimic', Gender='Male', Eye color='brown', Race=None, Hair color='Brown', Height=188.0, Publisher='Marvel Comics', Skin color=None, Alignment='good', Weight=101.0),\n",
       " Row(Id=453, name='Minna Murray', Gender='Female', Eye color=None, Race=None, Hair color=None, Height=-99.0, Publisher='Wildstorm', Skin color=None, Alignment='good', Weight=-99.0),\n",
       " Row(Id=454, name='Misfit', Gender='Female', Eye color='blue', Race=None, Hair color='Red', Height=-99.0, Publisher='DC Comics', Skin color=None, Alignment='good', Weight=-99.0),\n",
       " Row(Id=455, name='Miss Martian', Gender='Female', Eye color='red', Race=None, Hair color='Red', Height=178.0, Publisher='DC Comics', Skin color=None, Alignment='good', Weight=61.0),\n",
       " Row(Id=456, name='Mister Fantastic', Gender='Male', Eye color='brown', Race='Human / Radiation', Hair color='Brown', Height=185.0, Publisher='Marvel Comics', Skin color=None, Alignment='good', Weight=81.0),\n",
       " Row(Id=457, name='Mister Freeze', Gender='Male', Eye color=None, Race='Human', Hair color=None, Height=183.0, Publisher='DC Comics', Skin color=None, Alignment='bad', Weight=86.0),\n",
       " Row(Id=458, name='Mister Knife', Gender='Male', Eye color='blue', Race='Spartoi', Hair color='Brown', Height=-99.0, Publisher='Marvel Comics', Skin color=None, Alignment='bad', Weight=-99.0),\n",
       " Row(Id=459, name='Mister Mxyzptlk', Gender='Male', Eye color=None, Race='God / Eternal', Hair color=None, Height=-99.0, Publisher='DC Comics', Skin color=None, Alignment='bad', Weight=-99.0),\n",
       " Row(Id=460, name='Mister Sinister', Gender='Male', Eye color='red', Race='Human / Altered', Hair color='Black', Height=196.0, Publisher='Marvel Comics', Skin color=None, Alignment='bad', Weight=128.0),\n",
       " Row(Id=461, name='Mister Zsasz', Gender='Male', Eye color='blue', Race='Human', Hair color='Blond', Height=-99.0, Publisher='DC Comics', Skin color=None, Alignment='bad', Weight=-99.0),\n",
       " Row(Id=462, name='Mockingbird', Gender='Female', Eye color='blue', Race='Human', Hair color='Blond', Height=175.0, Publisher='Marvel Comics', Skin color=None, Alignment='good', Weight=61.0),\n",
       " Row(Id=463, name='MODOK', Gender='Male', Eye color='white', Race='Cyborg', Hair color='Brownn', Height=366.0, Publisher='Marvel Comics', Skin color=None, Alignment='bad', Weight=338.0),\n",
       " Row(Id=464, name='Mogo', Gender='Male', Eye color=None, Race='Planet', Hair color=None, Height=-99.0, Publisher='DC Comics', Skin color=None, Alignment='good', Weight=-99.0),\n",
       " Row(Id=465, name='Mohinder Suresh', Gender='Male', Eye color=None, Race=None, Hair color=None, Height=-99.0, Publisher='NBC - Heroes', Skin color=None, Alignment='good', Weight=-99.0),\n",
       " Row(Id=466, name='Moloch', Gender='Male', Eye color=None, Race=None, Hair color=None, Height=-99.0, Publisher='DC Comics', Skin color=None, Alignment='bad', Weight=-99.0),\n",
       " Row(Id=467, name='Molten Man', Gender='Male', Eye color='gold', Race=None, Hair color='Gold', Height=196.0, Publisher='Marvel Comics', Skin color=None, Alignment='bad', Weight=248.0),\n",
       " Row(Id=468, name='Monarch', Gender='Male', Eye color='blue', Race=None, Hair color='White', Height=193.0, Publisher='DC Comics', Skin color=None, Alignment='good', Weight=90.0),\n",
       " Row(Id=469, name='Monica Dawson', Gender='Female', Eye color=None, Race=None, Hair color=None, Height=-99.0, Publisher='NBC - Heroes', Skin color=None, Alignment='good', Weight=-99.0),\n",
       " Row(Id=470, name='Moon Knight', Gender='Male', Eye color='brown', Race='Human', Hair color='Brown', Height=188.0, Publisher='Marvel Comics', Skin color=None, Alignment='good', Weight=101.0),\n",
       " Row(Id=471, name='Moonstone', Gender='Female', Eye color='blue', Race=None, Hair color='Blond', Height=180.0, Publisher='Marvel Comics', Skin color=None, Alignment='bad', Weight=59.0),\n",
       " Row(Id=472, name='Morlun', Gender='Male', Eye color='white / red', Race=None, Hair color='Black', Height=188.0, Publisher='Marvel Comics', Skin color=None, Alignment='bad', Weight=79.0),\n",
       " Row(Id=473, name='Morph', Gender='Male', Eye color='white', Race=None, Hair color='No Hair', Height=178.0, Publisher='Marvel Comics', Skin color=None, Alignment='good', Weight=79.0),\n",
       " Row(Id=474, name='Moses Magnum', Gender='Male', Eye color='brown', Race=None, Hair color='Black', Height=175.0, Publisher='Marvel Comics', Skin color=None, Alignment='bad', Weight=72.0),\n",
       " Row(Id=475, name='Mr Immortal', Gender='Male', Eye color='blue', Race='Mutant', Hair color='Blond', Height=188.0, Publisher='Marvel Comics', Skin color=None, Alignment='good', Weight=70.0),\n",
       " Row(Id=476, name='Mr Incredible', Gender='Male', Eye color='blue', Race='Human', Hair color='Blond', Height=201.0, Publisher='Dark Horse Comics', Skin color=None, Alignment='good', Weight=158.0),\n",
       " Row(Id=477, name='Ms Marvel II', Gender='Female', Eye color='blue', Race=None, Hair color='Red', Height=173.0, Publisher='Marvel Comics', Skin color=None, Alignment='good', Weight=61.0),\n",
       " Row(Id=478, name='Multiple Man', Gender='Male', Eye color='blue', Race=None, Hair color='Brown', Height=180.0, Publisher='Marvel Comics', Skin color=None, Alignment='good', Weight=70.0),\n",
       " Row(Id=479, name='Mysterio', Gender='Male', Eye color='brown', Race='Human', Hair color='No Hair', Height=180.0, Publisher='Marvel Comics', Skin color=None, Alignment='bad', Weight=79.0),\n",
       " Row(Id=480, name='Mystique', Gender='Female', Eye color='yellow (without irises)', Race='Mutant', Hair color='Red / Orange', Height=178.0, Publisher='Marvel Comics', Skin color='blue', Alignment='bad', Weight=54.0),\n",
       " Row(Id=481, name='Namor', Gender='Male', Eye color=None, Race=None, Hair color=None, Height=-99.0, Publisher='Marvel Comics', Skin color=None, Alignment='good', Weight=-99.0),\n",
       " Row(Id=482, name='Namor', Gender='Male', Eye color='grey', Race='Atlantean', Hair color='Black', Height=188.0, Publisher='Marvel Comics', Skin color=None, Alignment='good', Weight=125.0),\n",
       " Row(Id=483, name='Namora', Gender='Female', Eye color='blue', Race=None, Hair color='Blond', Height=180.0, Publisher='Marvel Comics', Skin color=None, Alignment='good', Weight=85.0),\n",
       " Row(Id=484, name='Namorita', Gender='Female', Eye color='blue', Race=None, Hair color='Blond', Height=168.0, Publisher='Marvel Comics', Skin color=None, Alignment='good', Weight=101.0),\n",
       " Row(Id=485, name='Naruto Uzumaki', Gender='Male', Eye color=None, Race='Human', Hair color=None, Height=168.0, Publisher='Shueisha', Skin color=None, Alignment='good', Weight=54.0),\n",
       " Row(Id=486, name='Nathan Petrelli', Gender='Male', Eye color='brown', Race=None, Hair color=None, Height=-99.0, Publisher='NBC - Heroes', Skin color=None, Alignment='good', Weight=-99.0),\n",
       " Row(Id=487, name='Nebula', Gender='Female', Eye color='blue', Race='Luphomoid', Hair color='No Hair', Height=185.0, Publisher='Marvel Comics', Skin color='blue', Alignment='bad', Weight=83.0),\n",
       " Row(Id=488, name='Negasonic Teenage Warhead', Gender='Female', Eye color='black', Race='Mutant', Hair color='Black', Height=-99.0, Publisher='Marvel Comics', Skin color=None, Alignment='good', Weight=-99.0),\n",
       " Row(Id=489, name='Nick Fury', Gender='Male', Eye color='brown', Race='Human', Hair color='Brown / White', Height=185.0, Publisher='Marvel Comics', Skin color=None, Alignment='good', Weight=99.0),\n",
       " Row(Id=490, name='Nightcrawler', Gender='Male', Eye color='yellow', Race=None, Hair color='Indigo', Height=175.0, Publisher='Marvel Comics', Skin color=None, Alignment='good', Weight=88.0),\n",
       " Row(Id=491, name='Nightwing', Gender='Male', Eye color='blue', Race='Human', Hair color='Black', Height=178.0, Publisher='DC Comics', Skin color=None, Alignment='good', Weight=79.0),\n",
       " Row(Id=492, name='Niki Sanders', Gender='Female', Eye color='blue', Race=None, Hair color='Blond', Height=-99.0, Publisher='NBC - Heroes', Skin color=None, Alignment='good', Weight=-99.0),\n",
       " Row(Id=493, name='Nina Theroux', Gender='Female', Eye color=None, Race='Alpha', Hair color=None, Height=-99.0, Publisher='SyFy', Skin color=None, Alignment='good', Weight=-99.0),\n",
       " Row(Id=494, name='Nite Owl II', Gender='Male', Eye color=None, Race=None, Hair color=None, Height=-99.0, Publisher='DC Comics', Skin color=None, Alignment='good', Weight=-99.0),\n",
       " Row(Id=495, name='Northstar', Gender='Male', Eye color='blue', Race=None, Hair color='Black', Height=180.0, Publisher='Marvel Comics', Skin color=None, Alignment='good', Weight=83.0),\n",
       " Row(Id=496, name='Nova', Gender='Male', Eye color='brown', Race='Human', Hair color='Brown', Height=185.0, Publisher='Marvel Comics', Skin color=None, Alignment='good', Weight=86.0),\n",
       " Row(Id=497, name='Nova', Gender='Female', Eye color='white', Race='Human / Cosmic', Hair color='Red', Height=163.0, Publisher='Marvel Comics', Skin color='gold', Alignment='good', Weight=59.0),\n",
       " Row(Id=498, name='Odin', Gender='Male', Eye color='blue', Race='God / Eternal', Hair color='White', Height=206.0, Publisher='Marvel Comics', Skin color=None, Alignment='good', Weight=293.0),\n",
       " Row(Id=499, name='Offspring', Gender='Male', Eye color=None, Race=None, Hair color=None, Height=-99.0, Publisher='DC Comics', Skin color=None, Alignment='good', Weight=-99.0),\n",
       " Row(Id=500, name='Omega Red', Gender='Male', Eye color='red', Race=None, Hair color='Blond', Height=211.0, Publisher='Marvel Comics', Skin color=None, Alignment='bad', Weight=191.0),\n",
       " Row(Id=501, name='Omniscient', Gender='Male', Eye color='brown', Race=None, Hair color='Black', Height=180.0, Publisher='Team Epic TV', Skin color=None, Alignment='good', Weight=65.0),\n",
       " Row(Id=502, name='One Punch Man', Gender='Male', Eye color=None, Race='Human', Hair color='No Hair', Height=175.0, Publisher='Shueisha', Skin color=None, Alignment='good', Weight=69.0),\n",
       " Row(Id=503, name='One-Above-All', Gender=None, Eye color=None, Race='Cosmic Entity', Hair color=None, Height=-99.0, Publisher='Marvel Comics', Skin color=None, Alignment='neutral', Weight=-99.0),\n",
       " Row(Id=504, name='Onslaught', Gender='Male', Eye color='red', Race='Mutant', Hair color='No Hair', Height=305.0, Publisher='Marvel Comics', Skin color=None, Alignment='bad', Weight=405.0),\n",
       " Row(Id=505, name='Oracle', Gender='Female', Eye color='blue', Race='Human', Hair color='Red', Height=178.0, Publisher='DC Comics', Skin color=None, Alignment='good', Weight=59.0),\n",
       " Row(Id=506, name='Osiris', Gender='Male', Eye color='brown', Race=None, Hair color='Brown', Height=-99.0, Publisher='DC Comics', Skin color=None, Alignment='good', Weight=-99.0),\n",
       " Row(Id=507, name='Overtkill', Gender='Male', Eye color=None, Race=None, Hair color=None, Height=-99.0, Publisher='Image Comics', Skin color=None, Alignment='bad', Weight=-99.0),\n",
       " Row(Id=508, name='Ozymandias', Gender='Male', Eye color='blue', Race='Human', Hair color='Blond', Height=-99.0, Publisher='DC Comics', Skin color=None, Alignment='bad', Weight=-99.0),\n",
       " Row(Id=509, name='Parademon', Gender=None, Eye color=None, Race='Parademon', Hair color=None, Height=-99.0, Publisher='DC Comics', Skin color=None, Alignment='bad', Weight=-99.0),\n",
       " Row(Id=510, name='Paul Blart', Gender='Male', Eye color=None, Race='Human', Hair color=None, Height=170.0, Publisher='Sony Pictures', Skin color=None, Alignment='good', Weight=117.0),\n",
       " Row(Id=511, name='Penance', Gender=None, Eye color=None, Race=None, Hair color=None, Height=-99.0, Publisher='Marvel Comics', Skin color=None, Alignment='good', Weight=-99.0),\n",
       " Row(Id=512, name='Penance I', Gender='Female', Eye color=None, Race=None, Hair color=None, Height=-99.0, Publisher='Marvel Comics', Skin color=None, Alignment='good', Weight=-99.0),\n",
       " Row(Id=513, name='Penance II', Gender='Male', Eye color='blue', Race=None, Hair color='Blond', Height=183.0, Publisher='Marvel Comics', Skin color=None, Alignment='good', Weight=89.0),\n",
       " Row(Id=514, name='Penguin', Gender='Male', Eye color='blue', Race='Human', Hair color='Black', Height=157.0, Publisher='DC Comics', Skin color=None, Alignment='bad', Weight=79.0),\n",
       " Row(Id=515, name='Peter Petrelli', Gender='Male', Eye color=None, Race=None, Hair color=None, Height=-99.0, Publisher='NBC - Heroes', Skin color=None, Alignment='good', Weight=-99.0),\n",
       " Row(Id=516, name='Phantom', Gender='Male', Eye color=None, Race=None, Hair color=None, Height=-99.0, Publisher='DC Comics', Skin color=None, Alignment='good', Weight=-99.0),\n",
       " Row(Id=517, name='Phantom Girl', Gender='Female', Eye color='blue', Race=None, Hair color='Black', Height=168.0, Publisher='DC Comics', Skin color=None, Alignment='good', Weight=54.0),\n",
       " Row(Id=518, name='Phoenix', Gender='Female', Eye color='green', Race='Mutant', Hair color='Red', Height=168.0, Publisher='Marvel Comics', Skin color=None, Alignment='good', Weight=52.0),\n",
       " Row(Id=519, name='Plantman', Gender='Male', Eye color='green', Race='Mutant', Hair color='Grey', Height=183.0, Publisher='Marvel Comics', Skin color=None, Alignment='bad', Weight=87.0),\n",
       " Row(Id=520, name='Plastic Lad', Gender='Male', Eye color=None, Race=None, Hair color=None, Height=-99.0, Publisher='DC Comics', Skin color=None, Alignment='good', Weight=-99.0),\n",
       " Row(Id=521, name='Plastic Man', Gender='Male', Eye color='blue', Race='Human', Hair color='Black', Height=185.0, Publisher='DC Comics', Skin color=None, Alignment='good', Weight=80.0),\n",
       " Row(Id=522, name='Plastique', Gender='Female', Eye color='blue', Race=None, Hair color='Red', Height=168.0, Publisher='DC Comics', Skin color=None, Alignment='bad', Weight=55.0),\n",
       " Row(Id=523, name='Poison Ivy', Gender='Female', Eye color='green', Race='Human', Hair color='Red', Height=168.0, Publisher='DC Comics', Skin color='green', Alignment='bad', Weight=50.0),\n",
       " Row(Id=524, name='Polaris', Gender='Female', Eye color='green', Race='Mutant', Hair color='Green', Height=170.0, Publisher='Marvel Comics', Skin color=None, Alignment='good', Weight=52.0),\n",
       " Row(Id=525, name='Power Girl', Gender='Female', Eye color='blue', Race='Kryptonian', Hair color='blond', Height=180.0, Publisher='DC Comics', Skin color=None, Alignment='good', Weight=81.0),\n",
       " Row(Id=526, name='Power Man', Gender='Male', Eye color=None, Race='Mutant', Hair color=None, Height=-99.0, Publisher='Marvel Comics', Skin color=None, Alignment='good', Weight=-99.0),\n",
       " Row(Id=527, name='Predator', Gender='Male', Eye color=None, Race='Yautja', Hair color=None, Height=213.0, Publisher='Dark Horse Comics', Skin color=None, Alignment='bad', Weight=234.0),\n",
       " Row(Id=528, name='Professor X', Gender='Male', Eye color='blue', Race='Mutant', Hair color='No Hair', Height=183.0, Publisher='Marvel Comics', Skin color=None, Alignment='good', Weight=86.0),\n",
       " Row(Id=529, name='Professor Zoom', Gender='Male', Eye color='blue', Race='Human', Hair color='Strawberry Blond', Height=180.0, Publisher='DC Comics', Skin color=None, Alignment='bad', Weight=81.0),\n",
       " Row(Id=530, name='Proto-Goblin', Gender='Male', Eye color='green', Race=None, Hair color='Blond', Height=-99.0, Publisher='Marvel Comics', Skin color=None, Alignment='bad', Weight=-99.0),\n",
       " Row(Id=531, name='Psylocke', Gender='Female', Eye color='blue', Race='Mutant', Hair color='Purple', Height=180.0, Publisher='Marvel Comics', Skin color=None, Alignment='good', Weight=70.0),\n",
       " Row(Id=532, name='Punisher', Gender='Male', Eye color='blue', Race='Human', Hair color='Black', Height=183.0, Publisher='Marvel Comics', Skin color=None, Alignment='good', Weight=90.0),\n",
       " Row(Id=533, name='Purple Man', Gender='Male', Eye color='purple', Race='Human', Hair color='Purple', Height=180.0, Publisher='Marvel Comics', Skin color='purple', Alignment='bad', Weight=74.0),\n",
       " Row(Id=534, name='Pyro', Gender='Male', Eye color='blue', Race=None, Hair color='Blond', Height=178.0, Publisher='Marvel Comics', Skin color=None, Alignment='bad', Weight=68.0),\n",
       " Row(Id=535, name='Q', Gender='Male', Eye color=None, Race='God / Eternal', Hair color=None, Height=-99.0, Publisher='Star Trek', Skin color=None, Alignment=None, Weight=-99.0),\n",
       " Row(Id=536, name='Quantum', Gender='Male', Eye color=None, Race=None, Hair color=None, Height=-99.0, Publisher='HarperCollins', Skin color=None, Alignment='good', Weight=-99.0),\n",
       " Row(Id=537, name='Question', Gender='Male', Eye color='blue', Race='Human', Hair color='Blond', Height=188.0, Publisher='DC Comics', Skin color=None, Alignment='good', Weight=83.0),\n",
       " Row(Id=538, name='Quicksilver', Gender='Male', Eye color='blue', Race='Mutant', Hair color='Silver', Height=183.0, Publisher='Marvel Comics', Skin color=None, Alignment='good', Weight=79.0),\n",
       " Row(Id=539, name='Quill', Gender='Male', Eye color='brown', Race=None, Hair color='Brown', Height=163.0, Publisher='Marvel Comics', Skin color=None, Alignment='good', Weight=56.0),\n",
       " Row(Id=540, name=\"Ra's Al Ghul\", Gender='Male', Eye color='green', Race='Human', Hair color='Grey', Height=193.0, Publisher='DC Comics', Skin color=None, Alignment='bad', Weight=97.0),\n",
       " Row(Id=541, name='Rachel Pirzad', Gender='Female', Eye color=None, Race='Alpha', Hair color=None, Height=-99.0, Publisher='SyFy', Skin color=None, Alignment='good', Weight=-99.0),\n",
       " Row(Id=542, name='Rambo', Gender='Male', Eye color='brown', Race='Human', Hair color='Black', Height=178.0, Publisher=None, Skin color=None, Alignment='good', Weight=83.0),\n",
       " Row(Id=543, name='Raphael', Gender='Male', Eye color=None, Race='Mutant', Hair color='No Hair', Height=-99.0, Publisher='IDW Publishing', Skin color='green', Alignment='good', Weight=-99.0),\n",
       " Row(Id=544, name='Raven', Gender='Female', Eye color='indigo', Race='Human', Hair color='Black', Height=165.0, Publisher='DC Comics', Skin color=None, Alignment='neutral', Weight=50.0),\n",
       " Row(Id=545, name='Ray', Gender='Male', Eye color='green', Race='Human', Hair color='Red', Height=178.0, Publisher='DC Comics', Skin color=None, Alignment='good', Weight=70.0),\n",
       " Row(Id=546, name='Razor-Fist II', Gender='Male', Eye color='blue', Race=None, Hair color='No Hair', Height=191.0, Publisher='Marvel Comics', Skin color=None, Alignment='bad', Weight=117.0),\n",
       " Row(Id=547, name='Red Arrow', Gender='Male', Eye color='green', Race='Human', Hair color='Red', Height=180.0, Publisher='DC Comics', Skin color=None, Alignment='good', Weight=83.0),\n",
       " Row(Id=548, name='Red Hood', Gender='Male', Eye color='blue', Race='Human', Hair color='Black', Height=183.0, Publisher='DC Comics', Skin color=None, Alignment='neutral', Weight=81.0),\n",
       " Row(Id=549, name='Red Hulk', Gender='Male', Eye color='yellow', Race='Human / Radiation', Hair color='Black', Height=213.0, Publisher='Marvel Comics', Skin color='red', Alignment='neutral', Weight=630.0),\n",
       " Row(Id=550, name='Red Mist', Gender='Male', Eye color=None, Race=None, Hair color=None, Height=-99.0, Publisher='Icon Comics', Skin color=None, Alignment='bad', Weight=-99.0),\n",
       " Row(Id=551, name='Red Robin', Gender='Male', Eye color='blue', Race='Human', Hair color='Black', Height=165.0, Publisher='DC Comics', Skin color=None, Alignment='good', Weight=56.0),\n",
       " Row(Id=552, name='Red Skull', Gender='Male', Eye color='blue', Race=None, Hair color='No Hair', Height=188.0, Publisher='Marvel Comics', Skin color=None, Alignment='bad', Weight=108.0),\n",
       " Row(Id=553, name='Red Tornado', Gender='Male', Eye color='green', Race='Android', Hair color='No Hair', Height=185.0, Publisher='DC Comics', Skin color=None, Alignment='good', Weight=146.0),\n",
       " Row(Id=554, name='Redeemer II', Gender='Male', Eye color=None, Race=None, Hair color=None, Height=-99.0, Publisher='Image Comics', Skin color=None, Alignment='bad', Weight=-99.0),\n",
       " Row(Id=555, name='Redeemer III', Gender='Male', Eye color=None, Race=None, Hair color=None, Height=-99.0, Publisher='Image Comics', Skin color=None, Alignment='bad', Weight=-99.0),\n",
       " Row(Id=556, name='Renata Soliz', Gender='Female', Eye color=None, Race=None, Hair color=None, Height=-99.0, Publisher='HarperCollins', Skin color=None, Alignment='good', Weight=-99.0),\n",
       " Row(Id=557, name='Rey', Gender='Female', Eye color='hazel', Race='Human', Hair color='Brown', Height=297.0, Publisher='George Lucas', Skin color=None, Alignment='good', Weight=-99.0),\n",
       " Row(Id=558, name='Rhino', Gender='Male', Eye color='brown', Race='Human / Radiation', Hair color='Brown', Height=196.0, Publisher='Marvel Comics', Skin color=None, Alignment='bad', Weight=320.0),\n",
       " Row(Id=559, name='Rick Flag', Gender='Male', Eye color='blue', Race=None, Hair color='Brown', Height=185.0, Publisher='DC Comics', Skin color=None, Alignment='bad', Weight=85.0),\n",
       " Row(Id=560, name='Riddler', Gender='Male', Eye color=None, Race=None, Hair color=None, Height=-99.0, Publisher='DC Comics', Skin color=None, Alignment='bad', Weight=-99.0),\n",
       " Row(Id=561, name='Rip Hunter', Gender='Male', Eye color='blue', Race='Human', Hair color='Blond', Height=-99.0, Publisher='DC Comics', Skin color=None, Alignment='good', Weight=-99.0),\n",
       " Row(Id=562, name='Ripcord', Gender='Female', Eye color='green', Race=None, Hair color='Black', Height=180.0, Publisher='Marvel Comics', Skin color=None, Alignment='good', Weight=72.0),\n",
       " Row(Id=563, name='Robin', Gender='Male', Eye color='blue', Race='Human', Hair color='Black', Height=178.0, Publisher='DC Comics', Skin color=None, Alignment='good', Weight=79.0),\n",
       " Row(Id=564, name='Robin II', Gender='Male', Eye color='blue', Race='Human', Hair color='Red', Height=183.0, Publisher='DC Comics', Skin color=None, Alignment='good', Weight=101.0),\n",
       " Row(Id=565, name='Robin III', Gender='Male', Eye color='blue', Race='Human', Hair color='Black', Height=165.0, Publisher='DC Comics', Skin color=None, Alignment='good', Weight=56.0),\n",
       " Row(Id=566, name='Robin V', Gender='Male', Eye color='blue', Race='Human', Hair color='Black', Height=137.0, Publisher='DC Comics', Skin color=None, Alignment='good', Weight=38.0),\n",
       " Row(Id=567, name='Robin VI', Gender='Female', Eye color='green', Race='Human', Hair color='Red', Height=-99.0, Publisher='DC Comics', Skin color=None, Alignment='neutral', Weight=-99.0),\n",
       " Row(Id=568, name='Rocket Raccoon', Gender='Male', Eye color='brown', Race='Animal', Hair color='Brown', Height=122.0, Publisher='Marvel Comics', Skin color=None, Alignment='good', Weight=25.0),\n",
       " Row(Id=569, name='Rogue', Gender='Female', Eye color='green', Race=None, Hair color='Brown / White', Height=173.0, Publisher='Marvel Comics', Skin color=None, Alignment='good', Weight=54.0),\n",
       " Row(Id=570, name='Ronin', Gender='Male', Eye color='blue', Race='Human', Hair color='Blond', Height=191.0, Publisher='Marvel Comics', Skin color=None, Alignment='good', Weight=104.0),\n",
       " Row(Id=571, name='Rorschach', Gender='Male', Eye color='blue', Race='Human', Hair color='Red', Height=168.0, Publisher='DC Comics', Skin color=None, Alignment='good', Weight=63.0),\n",
       " Row(Id=572, name='Sabretooth', Gender='Male', Eye color='amber', Race='Mutant', Hair color='Blond', Height=198.0, Publisher='Marvel Comics', Skin color=None, Alignment='bad', Weight=171.0),\n",
       " Row(Id=573, name='Sage', Gender='Female', Eye color='blue', Race=None, Hair color='Black', Height=170.0, Publisher='Marvel Comics', Skin color=None, Alignment='good', Weight=61.0),\n",
       " Row(Id=574, name='Sandman', Gender='Male', Eye color='brown', Race='Human', Hair color='Brown', Height=185.0, Publisher='Marvel Comics', Skin color=None, Alignment='neutral', Weight=203.0),\n",
       " Row(Id=575, name='Sasquatch', Gender='Male', Eye color='red', Race=None, Hair color='Orange', Height=305.0, Publisher='Marvel Comics', Skin color=None, Alignment='good', Weight=900.0),\n",
       " Row(Id=576, name='Sauron', Gender='Male', Eye color=None, Race='Maiar', Hair color=None, Height=279.0, Publisher='J. R. R. Tolkien', Skin color=None, Alignment='bad', Weight=-99.0),\n",
       " Row(Id=577, name='Savage Dragon', Gender='Male', Eye color=None, Race=None, Hair color=None, Height=-99.0, Publisher='Image Comics', Skin color=None, Alignment='good', Weight=-99.0),\n",
       " Row(Id=578, name='Scarecrow', Gender='Male', Eye color='blue', Race='Human', Hair color='Brown', Height=183.0, Publisher='DC Comics', Skin color=None, Alignment='bad', Weight=63.0),\n",
       " Row(Id=579, name='Scarlet Spider', Gender='Male', Eye color='blue', Race='Human', Hair color='Blond', Height=178.0, Publisher='Marvel Comics', Skin color=None, Alignment='good', Weight=74.0),\n",
       " Row(Id=580, name='Scarlet Spider II', Gender='Male', Eye color='brown', Race='Clone', Hair color='Brown', Height=193.0, Publisher='Marvel Comics', Skin color=None, Alignment='good', Weight=113.0),\n",
       " Row(Id=581, name='Scarlet Witch', Gender='Female', Eye color='blue', Race='Mutant', Hair color='Brown', Height=170.0, Publisher='Marvel Comics', Skin color=None, Alignment='bad', Weight=59.0),\n",
       " Row(Id=582, name='Scorpia', Gender='Female', Eye color='green', Race=None, Hair color='Red', Height=-99.0, Publisher='Marvel Comics', Skin color=None, Alignment='bad', Weight=-99.0),\n",
       " Row(Id=583, name='Scorpion', Gender='Male', Eye color='brown', Race='Human', Hair color='Brown', Height=211.0, Publisher='Marvel Comics', Skin color=None, Alignment='bad', Weight=310.0),\n",
       " Row(Id=584, name='Sebastian Shaw', Gender='Male', Eye color=None, Race='Mutant', Hair color=None, Height=-99.0, Publisher='Marvel Comics', Skin color=None, Alignment='bad', Weight=-99.0),\n",
       " Row(Id=585, name='Sentry', Gender='Male', Eye color='blue', Race='Mutant', Hair color='Blond', Height=188.0, Publisher='Marvel Comics', Skin color=None, Alignment='neutral', Weight=87.0),\n",
       " Row(Id=586, name='Shadow King', Gender=None, Eye color='red', Race=None, Hair color=None, Height=185.0, Publisher='Marvel Comics', Skin color=None, Alignment='good', Weight=149.0),\n",
       " Row(Id=587, name='Shadow Lass', Gender='Female', Eye color='black', Race='Talokite', Hair color='Black', Height=173.0, Publisher='DC Comics', Skin color='blue', Alignment='good', Weight=54.0),\n",
       " Row(Id=588, name='Shadowcat', Gender='Female', Eye color='hazel', Race='Mutant', Hair color='Brown', Height=168.0, Publisher='Marvel Comics', Skin color=None, Alignment='good', Weight=50.0),\n",
       " Row(Id=589, name='Shang-Chi', Gender='Male', Eye color='brown', Race='Human', Hair color='Black', Height=178.0, Publisher='Marvel Comics', Skin color=None, Alignment='good', Weight=79.0),\n",
       " Row(Id=590, name='Shatterstar', Gender='Male', Eye color='brown', Race=None, Hair color='Red', Height=191.0, Publisher='Marvel Comics', Skin color=None, Alignment='good', Weight=88.0),\n",
       " Row(Id=591, name='She-Hulk', Gender='Female', Eye color='green', Race='Human', Hair color='Green', Height=201.0, Publisher='Marvel Comics', Skin color=None, Alignment='good', Weight=315.0),\n",
       " Row(Id=592, name='She-Thing', Gender='Female', Eye color='blue', Race='Human / Radiation', Hair color='No Hair', Height=183.0, Publisher='Marvel Comics', Skin color=None, Alignment='good', Weight=153.0),\n",
       " Row(Id=593, name='Shocker', Gender='Male', Eye color='brown', Race='Human', Hair color='Brown', Height=175.0, Publisher='Marvel Comics', Skin color=None, Alignment='bad', Weight=79.0),\n",
       " Row(Id=594, name='Shriek', Gender='Female', Eye color='yellow / blue', Race=None, Hair color='Black', Height=173.0, Publisher='Marvel Comics', Skin color=None, Alignment='good', Weight=52.0),\n",
       " Row(Id=595, name='Shrinking Violet', Gender='Female', Eye color=None, Race=None, Hair color=None, Height=-99.0, Publisher='DC Comics', Skin color=None, Alignment='good', Weight=-99.0),\n",
       " Row(Id=596, name='Sif', Gender='Female', Eye color='blue', Race='Asgardian', Hair color='Black', Height=188.0, Publisher='Marvel Comics', Skin color=None, Alignment='good', Weight=191.0),\n",
       " Row(Id=597, name='Silk', Gender='Female', Eye color='brown', Race='Human', Hair color='Black', Height=-99.0, Publisher='Marvel Comics', Skin color=None, Alignment='good', Weight=-99.0),\n",
       " Row(Id=598, name='Silk Spectre', Gender='Female', Eye color=None, Race=None, Hair color=None, Height=-99.0, Publisher='DC Comics', Skin color=None, Alignment='good', Weight=-99.0),\n",
       " Row(Id=599, name='Silk Spectre II', Gender='Female', Eye color=None, Race=None, Hair color=None, Height=-99.0, Publisher='DC Comics', Skin color=None, Alignment='good', Weight=-99.0),\n",
       " Row(Id=600, name='Silver Surfer', Gender='Male', Eye color='white', Race='Alien', Hair color='No Hair', Height=193.0, Publisher='Marvel Comics', Skin color='silver', Alignment='good', Weight=101.0),\n",
       " Row(Id=601, name='Silverclaw', Gender='Female', Eye color='brown', Race=None, Hair color='Black', Height=157.0, Publisher='Marvel Comics', Skin color=None, Alignment='good', Weight=50.0),\n",
       " Row(Id=602, name='Simon Baz', Gender='Male', Eye color='bown', Race='Human', Hair color='Black', Height=-99.0, Publisher='DC Comics', Skin color=None, Alignment='good', Weight=-99.0),\n",
       " Row(Id=603, name='Sinestro', Gender='Male', Eye color='black', Race='Korugaran', Hair color='Black', Height=201.0, Publisher='DC Comics', Skin color='red', Alignment='neutral', Weight=92.0),\n",
       " Row(Id=604, name='Siren', Gender='Female', Eye color='blue', Race='Atlantean', Hair color='Purple', Height=175.0, Publisher='DC Comics', Skin color=None, Alignment='bad', Weight=72.0),\n",
       " Row(Id=605, name='Siren II', Gender='Female', Eye color='black', Race=None, Hair color=None, Height=-99.0, Publisher='DC Comics', Skin color=None, Alignment='bad', Weight=-99.0),\n",
       " Row(Id=606, name='Siryn', Gender='Female', Eye color='blue', Race=None, Hair color='Strawberry Blond', Height=168.0, Publisher='Marvel Comics', Skin color=None, Alignment='bad', Weight=52.0),\n",
       " Row(Id=607, name='Skaar', Gender='Male', Eye color='green', Race=None, Hair color='Black', Height=198.0, Publisher='Marvel Comics', Skin color=None, Alignment='good', Weight=180.0),\n",
       " Row(Id=608, name='Snake-Eyes', Gender='Male', Eye color=None, Race='Animal', Hair color=None, Height=-99.0, Publisher='Marvel Comics', Skin color=None, Alignment='bad', Weight=-99.0),\n",
       " Row(Id=609, name='Snowbird', Gender='Female', Eye color='white', Race=None, Hair color='Blond', Height=178.0, Publisher='Marvel Comics', Skin color=None, Alignment='good', Weight=49.0),\n",
       " Row(Id=610, name='Sobek', Gender='Male', Eye color='white', Race=None, Hair color='No Hair', Height=-99.0, Publisher='DC Comics', Skin color=None, Alignment='good', Weight=-99.0),\n",
       " Row(Id=611, name='Solomon Grundy', Gender='Male', Eye color='black', Race='Zombie', Hair color='White', Height=279.0, Publisher='DC Comics', Skin color=None, Alignment='bad', Weight=437.0),\n",
       " Row(Id=612, name='Songbird', Gender='Female', Eye color='green', Race=None, Hair color='Red / White', Height=165.0, Publisher='Marvel Comics', Skin color=None, Alignment='good', Weight=65.0),\n",
       " Row(Id=613, name='Space Ghost', Gender='Male', Eye color=None, Race='Human', Hair color=None, Height=188.0, Publisher='DC Comics', Skin color=None, Alignment='good', Weight=113.0),\n",
       " Row(Id=614, name='Spawn', Gender='Male', Eye color='brown', Race='Demon', Hair color='Black', Height=211.0, Publisher='Image Comics', Skin color=None, Alignment='good', Weight=405.0),\n",
       " Row(Id=615, name='Spectre', Gender='Male', Eye color='white', Race='God / Eternal', Hair color='No Hair', Height=-99.0, Publisher='DC Comics', Skin color='white', Alignment='good', Weight=-99.0),\n",
       " Row(Id=616, name='Speedball', Gender='Male', Eye color=None, Race=None, Hair color=None, Height=-99.0, Publisher='Marvel Comics', Skin color=None, Alignment='good', Weight=-99.0),\n",
       " Row(Id=617, name='Speedy', Gender='Male', Eye color=None, Race='Human', Hair color=None, Height=-99.0, Publisher='DC Comics', Skin color=None, Alignment='good', Weight=-99.0),\n",
       " Row(Id=618, name='Speedy', Gender='Female', Eye color='green', Race='Human', Hair color='Brown', Height=-99.0, Publisher='DC Comics', Skin color=None, Alignment='good', Weight=-99.0),\n",
       " Row(Id=619, name='Spider-Carnage', Gender='Male', Eye color=None, Race='Symbiote', Hair color=None, Height=-99.0, Publisher='Marvel Comics', Skin color=None, Alignment='bad', Weight=-99.0),\n",
       " Row(Id=620, name='Spider-Girl', Gender='Female', Eye color='blue', Race='Human', Hair color='Brown', Height=170.0, Publisher='Marvel Comics', Skin color=None, Alignment='good', Weight=54.0),\n",
       " Row(Id=621, name='Spider-Gwen', Gender='Female', Eye color='blue', Race='Human', Hair color='Blond', Height=165.0, Publisher='Marvel Comics', Skin color=None, Alignment='good', Weight=56.0),\n",
       " Row(Id=622, name='Spider-Man', Gender='Male', Eye color='hazel', Race='Human', Hair color='Brown', Height=178.0, Publisher='Marvel Comics', Skin color=None, Alignment='good', Weight=74.0),\n",
       " Row(Id=623, name='Spider-Man', Gender=None, Eye color='red', Race='Human', Hair color='Brown', Height=178.0, Publisher='Marvel Comics', Skin color=None, Alignment='good', Weight=77.0),\n",
       " Row(Id=624, name='Spider-Man', Gender='Male', Eye color='brown', Race='Human', Hair color='Black', Height=157.0, Publisher='Marvel Comics', Skin color=None, Alignment='good', Weight=56.0),\n",
       " Row(Id=625, name='Spider-Woman', Gender='Female', Eye color='green', Race='Human', Hair color='Black', Height=178.0, Publisher='Marvel Comics', Skin color=None, Alignment='good', Weight=59.0),\n",
       " Row(Id=626, name='Spider-Woman II', Gender='Female', Eye color=None, Race=None, Hair color=None, Height=-99.0, Publisher='Marvel Comics', Skin color=None, Alignment='good', Weight=-99.0),\n",
       " Row(Id=627, name='Spider-Woman III', Gender='Female', Eye color='brown', Race=None, Hair color='Brown', Height=173.0, Publisher='Marvel Comics', Skin color=None, Alignment='good', Weight=55.0),\n",
       " Row(Id=628, name='Spider-Woman IV', Gender='Female', Eye color='red', Race=None, Hair color='White', Height=178.0, Publisher='Marvel Comics', Skin color=None, Alignment='bad', Weight=58.0),\n",
       " Row(Id=629, name='Spock', Gender='Male', Eye color='brown', Race='Human-Vulcan', Hair color='Black', Height=185.0, Publisher='Star Trek', Skin color=None, Alignment='good', Weight=81.0),\n",
       " Row(Id=630, name='Spyke', Gender='Male', Eye color='brown', Race='Mutant', Hair color='Blond', Height=183.0, Publisher='Marvel Comics', Skin color=None, Alignment='good', Weight=83.0),\n",
       " Row(Id=631, name='Stacy X', Gender='Female', Eye color=None, Race=None, Hair color=None, Height=-99.0, Publisher='Marvel Comics', Skin color=None, Alignment='good', Weight=-99.0),\n",
       " Row(Id=632, name='Star-Lord', Gender='Male', Eye color='blue', Race='Human-Spartoi', Hair color='Blond', Height=188.0, Publisher='Marvel Comics', Skin color=None, Alignment='good', Weight=79.0),\n",
       " Row(Id=633, name='Stardust', Gender='Male', Eye color=None, Race=None, Hair color=None, Height=-99.0, Publisher='Marvel Comics', Skin color=None, Alignment='good', Weight=-99.0),\n",
       " Row(Id=634, name='Starfire', Gender='Female', Eye color='green', Race='Tamaranean', Hair color='Auburn', Height=193.0, Publisher='DC Comics', Skin color='orange', Alignment='good', Weight=71.0),\n",
       " Row(Id=635, name='Stargirl', Gender='Female', Eye color='blue', Race='Human', Hair color='Blond', Height=165.0, Publisher='DC Comics', Skin color=None, Alignment='good', Weight=62.0),\n",
       " Row(Id=636, name='Static', Gender='Male', Eye color='brown', Race='Mutant', Hair color='Black', Height=170.0, Publisher='DC Comics', Skin color=None, Alignment='good', Weight=63.0),\n",
       " Row(Id=637, name='Steel', Gender='Male', Eye color='brown', Race=None, Hair color='No Hair', Height=201.0, Publisher='DC Comics', Skin color=None, Alignment='good', Weight=131.0),\n",
       " Row(Id=638, name='Stephanie Powell', Gender='Female', Eye color=None, Race=None, Hair color='Blond', Height=-99.0, Publisher='ABC Studios', Skin color=None, Alignment='good', Weight=-99.0),\n",
       " Row(Id=639, name='Steppenwolf', Gender='Male', Eye color='red', Race='New God', Hair color='Black', Height=183.0, Publisher='DC Comics', Skin color='white', Alignment='bad', Weight=91.0),\n",
       " Row(Id=640, name='Storm', Gender='Female', Eye color='blue', Race='Mutant', Hair color='White', Height=180.0, Publisher='Marvel Comics', Skin color=None, Alignment='good', Weight=57.0),\n",
       " Row(Id=641, name='Stormtrooper', Gender='Male', Eye color=None, Race='Human', Hair color=None, Height=183.0, Publisher='George Lucas', Skin color=None, Alignment='bad', Weight=-99.0),\n",
       " Row(Id=642, name='Sunspot', Gender='Male', Eye color='brown', Race='Mutant', Hair color='black', Height=173.0, Publisher='Marvel Comics', Skin color=None, Alignment='good', Weight=77.0),\n",
       " Row(Id=643, name='Superboy', Gender='Male', Eye color='blue', Race=None, Hair color='Black', Height=170.0, Publisher='DC Comics', Skin color=None, Alignment='good', Weight=68.0),\n",
       " Row(Id=644, name='Superboy-Prime', Gender='Male', Eye color='blue', Race='Kryptonian', Hair color='Black / Blue', Height=180.0, Publisher='DC Comics', Skin color=None, Alignment='bad', Weight=77.0),\n",
       " Row(Id=645, name='Supergirl', Gender='Female', Eye color='blue', Race='Kryptonian', Hair color='Blond', Height=165.0, Publisher='DC Comics', Skin color=None, Alignment='good', Weight=54.0),\n",
       " Row(Id=646, name='Superman', Gender='Male', Eye color='blue', Race='Kryptonian', Hair color='Black', Height=191.0, Publisher='DC Comics', Skin color=None, Alignment='good', Weight=101.0),\n",
       " Row(Id=647, name='Swamp Thing', Gender='Male', Eye color='red', Race='God / Eternal', Hair color='No Hair', Height=-99.0, Publisher='DC Comics', Skin color='green', Alignment='bad', Weight=-99.0),\n",
       " Row(Id=648, name='Swarm', Gender='Male', Eye color='yellow', Race='Mutant', Hair color='No Hair', Height=196.0, Publisher='Marvel Comics', Skin color='yellow', Alignment='bad', Weight=47.0),\n",
       " Row(Id=649, name='Sylar', Gender='Male', Eye color=None, Race=None, Hair color=None, Height=-99.0, Publisher='NBC - Heroes', Skin color=None, Alignment='bad', Weight=-99.0),\n",
       " Row(Id=650, name='Synch', Gender='Male', Eye color='brown', Race=None, Hair color='Black', Height=180.0, Publisher='Marvel Comics', Skin color=None, Alignment='good', Weight=74.0),\n",
       " Row(Id=651, name='T-1000', Gender='Male', Eye color=None, Race='Android', Hair color=None, Height=183.0, Publisher='Dark Horse Comics', Skin color='silver', Alignment='bad', Weight=146.0),\n",
       " Row(Id=652, name='T-800', Gender='Male', Eye color='red', Race='Cyborg', Hair color=None, Height=-99.0, Publisher='Dark Horse Comics', Skin color=None, Alignment='bad', Weight=176.0),\n",
       " Row(Id=653, name='T-850', Gender='Male', Eye color='red', Race='Cyborg', Hair color=None, Height=-99.0, Publisher='Dark Horse Comics', Skin color=None, Alignment='bad', Weight=198.0),\n",
       " Row(Id=654, name='T-X', Gender='Female', Eye color=None, Race='Cyborg', Hair color=None, Height=-99.0, Publisher='Dark Horse Comics', Skin color='silver', Alignment='bad', Weight=149.0),\n",
       " Row(Id=655, name='Taskmaster', Gender='Male', Eye color='brown', Race='Human', Hair color='Brown', Height=188.0, Publisher='Marvel Comics', Skin color=None, Alignment='bad', Weight=99.0),\n",
       " Row(Id=656, name='Tempest', Gender='Female', Eye color='brown', Race=None, Hair color='Black', Height=163.0, Publisher='Marvel Comics', Skin color=None, Alignment='good', Weight=54.0),\n",
       " Row(Id=657, name='Thanos', Gender='Male', Eye color='red', Race='Eternal', Hair color='No Hair', Height=201.0, Publisher='Marvel Comics', Skin color='purple', Alignment='bad', Weight=443.0),\n",
       " Row(Id=658, name='The Cape', Gender='Male', Eye color=None, Race=None, Hair color=None, Height=-99.0, Publisher=None, Skin color=None, Alignment='good', Weight=-99.0),\n",
       " Row(Id=659, name='The Comedian', Gender='Male', Eye color='brown', Race='Human', Hair color='Black', Height=188.0, Publisher='DC Comics', Skin color=None, Alignment='neutral', Weight=101.0),\n",
       " Row(Id=660, name='Thing', Gender='Male', Eye color='blue', Race='Human / Radiation', Hair color='No Hair', Height=183.0, Publisher='Marvel Comics', Skin color=None, Alignment='good', Weight=225.0),\n",
       " Row(Id=661, name='Thor', Gender='Male', Eye color='blue', Race='Asgardian', Hair color='Blond', Height=198.0, Publisher='Marvel Comics', Skin color=None, Alignment='good', Weight=288.0),\n",
       " Row(Id=662, name='Thor Girl', Gender='Female', Eye color='blue', Race='Asgardian', Hair color='Blond', Height=175.0, Publisher='Marvel Comics', Skin color=None, Alignment='good', Weight=143.0),\n",
       " Row(Id=663, name='Thunderbird', Gender='Male', Eye color='brown', Race=None, Hair color='Black', Height=185.0, Publisher='Marvel Comics', Skin color=None, Alignment='good', Weight=101.0),\n",
       " Row(Id=664, name='Thunderbird II', Gender='Male', Eye color=None, Race=None, Hair color=None, Height=-99.0, Publisher='Marvel Comics', Skin color=None, Alignment='good', Weight=-99.0),\n",
       " Row(Id=665, name='Thunderbird III', Gender='Male', Eye color='brown', Race=None, Hair color='Black', Height=175.0, Publisher='Marvel Comics', Skin color=None, Alignment='good', Weight=74.0),\n",
       " Row(Id=666, name='Thunderstrike', Gender='Male', Eye color='blue', Race=None, Hair color='Blond', Height=198.0, Publisher='Marvel Comics', Skin color=None, Alignment='good', Weight=288.0),\n",
       " Row(Id=667, name='Thundra', Gender='Female', Eye color='green', Race=None, Hair color='Red', Height=218.0, Publisher='Marvel Comics', Skin color=None, Alignment='good', Weight=158.0),\n",
       " Row(Id=668, name='Tiger Shark', Gender='Male', Eye color='grey', Race='Human', Hair color='No Hair', Height=185.0, Publisher='Marvel Comics', Skin color='grey', Alignment='bad', Weight=203.0),\n",
       " Row(Id=669, name='Tigra', Gender='Female', Eye color='green', Race=None, Hair color='Auburn', Height=178.0, Publisher='Marvel Comics', Skin color=None, Alignment='good', Weight=81.0),\n",
       " Row(Id=670, name='Tinkerer', Gender='Male', Eye color='brown', Race=None, Hair color='White', Height=163.0, Publisher='Marvel Comics', Skin color=None, Alignment='bad', Weight=54.0),\n",
       " Row(Id=671, name='Titan', Gender='Male', Eye color=None, Race=None, Hair color=None, Height=-99.0, Publisher='HarperCollins', Skin color=None, Alignment='good', Weight=-99.0),\n",
       " Row(Id=672, name='Toad', Gender='Male', Eye color='black', Race='Mutant', Hair color='Brown', Height=175.0, Publisher='Marvel Comics', Skin color='green', Alignment='neutral', Weight=76.0),\n",
       " Row(Id=673, name='Toxin', Gender='Male', Eye color='blue', Race='Symbiote', Hair color='Brown', Height=188.0, Publisher='Marvel Comics', Skin color=None, Alignment='good', Weight=97.0),\n",
       " Row(Id=674, name='Toxin', Gender='Male', Eye color='black', Race='Symbiote', Hair color='Blond', Height=191.0, Publisher='Marvel Comics', Skin color=None, Alignment='good', Weight=117.0),\n",
       " Row(Id=675, name='Tracy Strauss', Gender='Female', Eye color=None, Race=None, Hair color=None, Height=-99.0, Publisher='NBC - Heroes', Skin color=None, Alignment='good', Weight=-99.0),\n",
       " Row(Id=676, name='Trickster', Gender='Male', Eye color='blue', Race='Human', Hair color='Blond', Height=183.0, Publisher='DC Comics', Skin color=None, Alignment=None, Weight=81.0),\n",
       " Row(Id=677, name='Trigon', Gender='Male', Eye color='yellow', Race='God / Eternal', Hair color='Black', Height=-99.0, Publisher='DC Comics', Skin color='red', Alignment='bad', Weight=-99.0),\n",
       " Row(Id=678, name='Triplicate Girl', Gender='Female', Eye color='purple', Race=None, Hair color='Brown', Height=168.0, Publisher='DC Comics', Skin color=None, Alignment='good', Weight=59.0),\n",
       " Row(Id=679, name='Triton', Gender='Male', Eye color='green', Race='Inhuman', Hair color='No Hair', Height=188.0, Publisher='Marvel Comics', Skin color='green', Alignment='good', Weight=86.0),\n",
       " Row(Id=680, name='Two-Face', Gender='Male', Eye color=None, Race=None, Hair color=None, Height=183.0, Publisher='DC Comics', Skin color=None, Alignment='bad', Weight=82.0),\n",
       " Row(Id=681, name='Ultragirl', Gender='Female', Eye color='blue', Race=None, Hair color='Blond', Height=168.0, Publisher='Marvel Comics', Skin color=None, Alignment='good', Weight=105.0),\n",
       " Row(Id=682, name='Ultron', Gender='Male', Eye color='red', Race='Android', Hair color=None, Height=206.0, Publisher='Marvel Comics', Skin color='silver', Alignment='bad', Weight=331.0),\n",
       " Row(Id=683, name='Utgard-Loki', Gender='Male', Eye color='blue', Race='Frost Giant', Hair color='White', Height=15.2, Publisher='Marvel Comics', Skin color=None, Alignment='bad', Weight=58.0),\n",
       " Row(Id=684, name='Vagabond', Gender='Female', Eye color='blue', Race=None, Hair color='Strawberry Blond', Height=168.0, Publisher='Marvel Comics', Skin color=None, Alignment='good', Weight=54.0),\n",
       " Row(Id=685, name='Valerie Hart', Gender='Female', Eye color='hazel', Race=None, Hair color='Black', Height=175.0, Publisher='Team Epic TV', Skin color=None, Alignment='good', Weight=56.0),\n",
       " Row(Id=686, name='Valkyrie', Gender='Female', Eye color='blue', Race=None, Hair color='Blond', Height=191.0, Publisher='Marvel Comics', Skin color=None, Alignment='good', Weight=214.0),\n",
       " Row(Id=687, name='Vanisher', Gender='Male', Eye color='green', Race=None, Hair color='No Hair', Height=165.0, Publisher='Marvel Comics', Skin color=None, Alignment='bad', Weight=79.0),\n",
       " Row(Id=688, name='Vegeta', Gender='Male', Eye color=None, Race='Saiyan', Hair color='Black', Height=168.0, Publisher='Shueisha', Skin color=None, Alignment='bad', Weight=73.0),\n",
       " Row(Id=689, name='Venom', Gender='Male', Eye color='blue', Race='Symbiote', Hair color='Strawberry Blond', Height=191.0, Publisher='Marvel Comics', Skin color=None, Alignment='bad', Weight=117.0),\n",
       " Row(Id=690, name='Venom II', Gender='Male', Eye color='brown', Race=None, Hair color='Black', Height=175.0, Publisher='Marvel Comics', Skin color=None, Alignment='bad', Weight=50.0),\n",
       " Row(Id=691, name='Venom III', Gender='Male', Eye color='brown', Race='Symbiote', Hair color='Brown', Height=229.0, Publisher='Marvel Comics', Skin color=None, Alignment='bad', Weight=334.0),\n",
       " Row(Id=692, name='Venompool', Gender='Male', Eye color=None, Race='Symbiote', Hair color=None, Height=226.0, Publisher='Marvel Comics', Skin color=None, Alignment=None, Weight=-99.0),\n",
       " Row(Id=693, name='Vertigo II', Gender='Female', Eye color='blue', Race=None, Hair color='Silver', Height=168.0, Publisher='Marvel Comics', Skin color=None, Alignment='good', Weight=52.0),\n",
       " Row(Id=694, name='Vibe', Gender='Male', Eye color='brown', Race='Human', Hair color='Black', Height=178.0, Publisher='DC Comics', Skin color=None, Alignment='good', Weight=71.0),\n",
       " Row(Id=695, name='Vindicator', Gender='Female', Eye color='green', Race='Human', Hair color='Red', Height=165.0, Publisher='Marvel Comics', Skin color=None, Alignment='good', Weight=54.0),\n",
       " Row(Id=696, name='Vindicator', Gender='Male', Eye color=None, Race=None, Hair color=None, Height=-99.0, Publisher='Marvel Comics', Skin color=None, Alignment='good', Weight=-99.0),\n",
       " Row(Id=697, name='Violator', Gender='Male', Eye color=None, Race=None, Hair color=None, Height=-99.0, Publisher='Image Comics', Skin color=None, Alignment='bad', Weight=-99.0),\n",
       " Row(Id=698, name='Violet Parr', Gender='Female', Eye color='violet', Race='Human', Hair color='Black', Height=137.0, Publisher='Dark Horse Comics', Skin color=None, Alignment='good', Weight=41.0),\n",
       " Row(Id=699, name='Vision', Gender='Male', Eye color='gold', Race='Android', Hair color='No Hair', Height=191.0, Publisher='Marvel Comics', Skin color='red', Alignment='good', Weight=135.0),\n",
       " Row(Id=700, name='Vision II', Gender=None, Eye color='red', Race=None, Hair color='No Hair', Height=191.0, Publisher='Marvel Comics', Skin color=None, Alignment='good', Weight=135.0),\n",
       " Row(Id=701, name='Vixen', Gender='Female', Eye color='amber', Race='Human', Hair color='Black', Height=175.0, Publisher='DC Comics', Skin color=None, Alignment='good', Weight=63.0),\n",
       " Row(Id=702, name='Vulcan', Gender='Male', Eye color='black', Race=None, Hair color='Black', Height=-99.0, Publisher='Marvel Comics', Skin color=None, Alignment='good', Weight=-99.0),\n",
       " Row(Id=703, name='Vulture', Gender='Male', Eye color='brown', Race='Human', Hair color='No Hair', Height=180.0, Publisher='Marvel Comics', Skin color=None, Alignment='bad', Weight=79.0),\n",
       " Row(Id=704, name='Walrus', Gender='Male', Eye color='blue', Race='Human', Hair color='Black', Height=183.0, Publisher='Marvel Comics', Skin color=None, Alignment='bad', Weight=162.0),\n",
       " Row(Id=705, name='War Machine', Gender='Male', Eye color='brown', Race='Human', Hair color='Brown', Height=185.0, Publisher='Marvel Comics', Skin color=None, Alignment='good', Weight=95.0),\n",
       " Row(Id=706, name='Warbird', Gender='Female', Eye color='blue', Race=None, Hair color='Blond', Height=180.0, Publisher='Marvel Comics', Skin color=None, Alignment='good', Weight=54.0),\n",
       " Row(Id=707, name='Warlock', Gender='Male', Eye color='red', Race=None, Hair color='Blond', Height=188.0, Publisher='Marvel Comics', Skin color=None, Alignment='good', Weight=108.0),\n",
       " Row(Id=708, name='Warp', Gender='Male', Eye color='brown', Race=None, Hair color='Black', Height=173.0, Publisher='DC Comics', Skin color=None, Alignment='bad', Weight=67.0),\n",
       " Row(Id=709, name='Warpath', Gender='Male', Eye color='brown', Race='Mutant', Hair color='Black', Height=218.0, Publisher='Marvel Comics', Skin color=None, Alignment='good', Weight=158.0),\n",
       " Row(Id=710, name='Wasp', Gender='Female', Eye color='blue', Race='Human', Hair color='Auburn', Height=163.0, Publisher='Marvel Comics', Skin color=None, Alignment='good', Weight=50.0),\n",
       " Row(Id=711, name='Watcher', Gender='Male', Eye color=None, Race=None, Hair color=None, Height=-99.0, Publisher='Marvel Comics', Skin color=None, Alignment='good', Weight=-99.0),\n",
       " Row(Id=712, name='Weapon XI', Gender='Male', Eye color=None, Race=None, Hair color=None, Height=-99.0, Publisher='Marvel Comics', Skin color=None, Alignment='bad', Weight=-99.0),\n",
       " Row(Id=713, name='White Canary', Gender='Female', Eye color='brown', Race='Human', Hair color='Black', Height=-99.0, Publisher='DC Comics', Skin color=None, Alignment='bad', Weight=-99.0),\n",
       " Row(Id=714, name='White Queen', Gender='Female', Eye color='blue', Race=None, Hair color='Blond', Height=178.0, Publisher='Marvel Comics', Skin color=None, Alignment='good', Weight=65.0),\n",
       " Row(Id=715, name='Wildfire', Gender='Male', Eye color=None, Race=None, Hair color=None, Height=-99.0, Publisher='DC Comics', Skin color=None, Alignment='good', Weight=-99.0),\n",
       " Row(Id=716, name='Winter Soldier', Gender='Male', Eye color='brown', Race='Human', Hair color='Brown', Height=175.0, Publisher='Marvel Comics', Skin color=None, Alignment='good', Weight=117.0),\n",
       " Row(Id=717, name='Wiz Kid', Gender=None, Eye color='brown', Race=None, Hair color='Black', Height=140.0, Publisher='Marvel Comics', Skin color=None, Alignment='good', Weight=39.0),\n",
       " Row(Id=718, name='Wolfsbane', Gender='Female', Eye color='green', Race=None, Hair color='Auburn', Height=366.0, Publisher='Marvel Comics', Skin color=None, Alignment='good', Weight=473.0),\n",
       " Row(Id=719, name='Wolverine', Gender='Male', Eye color='blue', Race='Mutant', Hair color='Black', Height=160.0, Publisher='Marvel Comics', Skin color=None, Alignment='good', Weight=135.0),\n",
       " Row(Id=720, name='Wonder Girl', Gender='Female', Eye color='blue', Race='Demi-God', Hair color='Blond', Height=165.0, Publisher='DC Comics', Skin color=None, Alignment='good', Weight=51.0),\n",
       " Row(Id=721, name='Wonder Man', Gender='Male', Eye color='red', Race=None, Hair color='Black', Height=188.0, Publisher='Marvel Comics', Skin color=None, Alignment='good', Weight=171.0),\n",
       " Row(Id=722, name='Wonder Woman', Gender='Female', Eye color='blue', Race='Amazon', Hair color='Black', Height=183.0, Publisher='DC Comics', Skin color=None, Alignment='good', Weight=74.0),\n",
       " Row(Id=723, name='Wondra', Gender='Female', Eye color=None, Race=None, Hair color=None, Height=-99.0, Publisher='Marvel Comics', Skin color=None, Alignment='good', Weight=-99.0),\n",
       " Row(Id=724, name='Wyatt Wingfoot', Gender='Male', Eye color='brown', Race=None, Hair color='Black', Height=196.0, Publisher='Marvel Comics', Skin color=None, Alignment='good', Weight=117.0),\n",
       " Row(Id=725, name='X-23', Gender='Female', Eye color='green', Race='Mutant / Clone', Hair color='Black', Height=155.0, Publisher='Marvel Comics', Skin color=None, Alignment='good', Weight=50.0),\n",
       " Row(Id=726, name='X-Man', Gender='Male', Eye color='blue', Race=None, Hair color='Brown', Height=175.0, Publisher='Marvel Comics', Skin color=None, Alignment='good', Weight=61.0),\n",
       " Row(Id=727, name='Yellow Claw', Gender='Male', Eye color='blue', Race=None, Hair color='No Hair', Height=188.0, Publisher='Marvel Comics', Skin color=None, Alignment='bad', Weight=95.0),\n",
       " Row(Id=728, name='Yellowjacket', Gender='Male', Eye color='blue', Race='Human', Hair color='Blond', Height=183.0, Publisher='Marvel Comics', Skin color=None, Alignment='good', Weight=83.0),\n",
       " Row(Id=729, name='Yellowjacket II', Gender='Female', Eye color='blue', Race='Human', Hair color='Strawberry Blond', Height=165.0, Publisher='Marvel Comics', Skin color=None, Alignment='good', Weight=52.0),\n",
       " Row(Id=730, name='Ymir', Gender='Male', Eye color='white', Race='Frost Giant', Hair color='No Hair', Height=304.8, Publisher='Marvel Comics', Skin color='white', Alignment='good', Weight=-99.0),\n",
       " Row(Id=731, name='Yoda', Gender='Male', Eye color='brown', Race=\"Yoda's species\", Hair color='White', Height=66.0, Publisher='George Lucas', Skin color='green', Alignment='good', Weight=17.0),\n",
       " Row(Id=732, name='Zatanna', Gender='Female', Eye color='blue', Race='Human', Hair color='Black', Height=170.0, Publisher='DC Comics', Skin color=None, Alignment='good', Weight=57.0),\n",
       " Row(Id=733, name='Zoom', Gender='Male', Eye color='red', Race=None, Hair color='Brown', Height=185.0, Publisher='DC Comics', Skin color=None, Alignment='bad', Weight=81.0)]"
      ]
     },
     "execution_count": 68,
     "metadata": {},
     "output_type": "execute_result"
    }
   ],
   "source": [
    "heros.collect() # BAD!!!1!"
   ]
  },
  {
   "cell_type": "markdown",
   "metadata": {},
   "source": [
    "## Converting to `pandas` using `pyarrow`\n",
    "\n",
    "If we have `pyarrow` installed, we can use the `toPandas` method to collect the data and convert to `pandas`"
   ]
  },
  {
   "cell_type": "markdown",
   "metadata": {},
   "source": [
    "#### Use `limit` to collect the head."
   ]
  },
  {
   "cell_type": "code",
   "execution_count": 70,
   "metadata": {},
   "outputs": [
    {
     "data": {
      "text/html": [
       "<div>\n",
       "<style scoped>\n",
       "    .dataframe tbody tr th:only-of-type {\n",
       "        vertical-align: middle;\n",
       "    }\n",
       "\n",
       "    .dataframe tbody tr th {\n",
       "        vertical-align: top;\n",
       "    }\n",
       "\n",
       "    .dataframe thead th {\n",
       "        text-align: right;\n",
       "    }\n",
       "</style>\n",
       "<table border=\"1\" class=\"dataframe\">\n",
       "  <thead>\n",
       "    <tr style=\"text-align: right;\">\n",
       "      <th></th>\n",
       "      <th>ID</th>\n",
       "      <th>name</th>\n",
       "      <th>Gender</th>\n",
       "      <th>Eye color</th>\n",
       "      <th>Race</th>\n",
       "      <th>Hair color</th>\n",
       "      <th>Height</th>\n",
       "      <th>Publisher</th>\n",
       "      <th>Skin color</th>\n",
       "      <th>Alignment</th>\n",
       "      <th>Weight</th>\n",
       "    </tr>\n",
       "  </thead>\n",
       "  <tbody>\n",
       "    <tr>\n",
       "      <th>0</th>\n",
       "      <td>0</td>\n",
       "      <td>A-Bomb</td>\n",
       "      <td>Male</td>\n",
       "      <td>yellow</td>\n",
       "      <td>Human</td>\n",
       "      <td>No Hair</td>\n",
       "      <td>203</td>\n",
       "      <td>Marvel Comics</td>\n",
       "      <td>-</td>\n",
       "      <td>good</td>\n",
       "      <td>441</td>\n",
       "    </tr>\n",
       "    <tr>\n",
       "      <th>1</th>\n",
       "      <td>1</td>\n",
       "      <td>Abe Sapien</td>\n",
       "      <td>Male</td>\n",
       "      <td>blue</td>\n",
       "      <td>Icthyo Sapien</td>\n",
       "      <td>No Hair</td>\n",
       "      <td>191</td>\n",
       "      <td>Dark Horse Comics</td>\n",
       "      <td>blue</td>\n",
       "      <td>good</td>\n",
       "      <td>65</td>\n",
       "    </tr>\n",
       "    <tr>\n",
       "      <th>2</th>\n",
       "      <td>2</td>\n",
       "      <td>Abin Sur</td>\n",
       "      <td>Male</td>\n",
       "      <td>blue</td>\n",
       "      <td>Ungaran</td>\n",
       "      <td>No Hair</td>\n",
       "      <td>185</td>\n",
       "      <td>DC Comics</td>\n",
       "      <td>red</td>\n",
       "      <td>good</td>\n",
       "      <td>90</td>\n",
       "    </tr>\n",
       "    <tr>\n",
       "      <th>3</th>\n",
       "      <td>3</td>\n",
       "      <td>Abomination</td>\n",
       "      <td>Male</td>\n",
       "      <td>green</td>\n",
       "      <td>Human / Radiation</td>\n",
       "      <td>No Hair</td>\n",
       "      <td>203</td>\n",
       "      <td>Marvel Comics</td>\n",
       "      <td>-</td>\n",
       "      <td>bad</td>\n",
       "      <td>441</td>\n",
       "    </tr>\n",
       "    <tr>\n",
       "      <th>4</th>\n",
       "      <td>4</td>\n",
       "      <td>Abraxas</td>\n",
       "      <td>Male</td>\n",
       "      <td>blue</td>\n",
       "      <td>Cosmic Entity</td>\n",
       "      <td>Black</td>\n",
       "      <td>-99</td>\n",
       "      <td>Marvel Comics</td>\n",
       "      <td>-</td>\n",
       "      <td>bad</td>\n",
       "      <td>-99</td>\n",
       "    </tr>\n",
       "  </tbody>\n",
       "</table>\n",
       "</div>"
      ],
      "text/plain": [
       "  ID         name Gender Eye color               Race Hair color Height  \\\n",
       "0  0       A-Bomb   Male    yellow              Human    No Hair    203   \n",
       "1  1   Abe Sapien   Male      blue      Icthyo Sapien    No Hair    191   \n",
       "2  2     Abin Sur   Male      blue            Ungaran    No Hair    185   \n",
       "3  3  Abomination   Male     green  Human / Radiation    No Hair    203   \n",
       "4  4      Abraxas   Male      blue      Cosmic Entity      Black    -99   \n",
       "\n",
       "           Publisher Skin color Alignment Weight  \n",
       "0      Marvel Comics          -      good    441  \n",
       "1  Dark Horse Comics       blue      good     65  \n",
       "2          DC Comics        red      good     90  \n",
       "3      Marvel Comics          -       bad    441  \n",
       "4      Marvel Comics          -       bad    -99  "
      ]
     },
     "execution_count": 70,
     "metadata": {},
     "output_type": "execute_result"
    }
   ],
   "source": [
    "heroes.limit(5).toPandas() # Good!"
   ]
  },
  {
   "cell_type": "markdown",
   "metadata": {},
   "source": [
    "#### Use `sample` and `toPandas` to get a random sample."
   ]
  },
  {
   "cell_type": "code",
   "execution_count": 71,
   "metadata": {},
   "outputs": [
    {
     "data": {
      "text/html": [
       "<div>\n",
       "<style scoped>\n",
       "    .dataframe tbody tr th:only-of-type {\n",
       "        vertical-align: middle;\n",
       "    }\n",
       "\n",
       "    .dataframe tbody tr th {\n",
       "        vertical-align: top;\n",
       "    }\n",
       "\n",
       "    .dataframe thead th {\n",
       "        text-align: right;\n",
       "    }\n",
       "</style>\n",
       "<table border=\"1\" class=\"dataframe\">\n",
       "  <thead>\n",
       "    <tr style=\"text-align: right;\">\n",
       "      <th></th>\n",
       "      <th>Id</th>\n",
       "      <th>name</th>\n",
       "      <th>Gender</th>\n",
       "      <th>Eye color</th>\n",
       "      <th>Race</th>\n",
       "      <th>Hair color</th>\n",
       "      <th>Height</th>\n",
       "      <th>Publisher</th>\n",
       "      <th>Skin color</th>\n",
       "      <th>Alignment</th>\n",
       "      <th>Weight</th>\n",
       "    </tr>\n",
       "  </thead>\n",
       "  <tbody>\n",
       "    <tr>\n",
       "      <th>0</th>\n",
       "      <td>126</td>\n",
       "      <td>Boba Fett</td>\n",
       "      <td>Male</td>\n",
       "      <td>brown</td>\n",
       "      <td>Human / Clone</td>\n",
       "      <td>Black</td>\n",
       "      <td>183.0</td>\n",
       "      <td>George Lucas</td>\n",
       "      <td>None</td>\n",
       "      <td>bad</td>\n",
       "      <td>-99.0</td>\n",
       "    </tr>\n",
       "    <tr>\n",
       "      <th>1</th>\n",
       "      <td>175</td>\n",
       "      <td>Chuck Norris</td>\n",
       "      <td>Male</td>\n",
       "      <td>None</td>\n",
       "      <td>None</td>\n",
       "      <td>None</td>\n",
       "      <td>178.0</td>\n",
       "      <td>None</td>\n",
       "      <td>None</td>\n",
       "      <td>good</td>\n",
       "      <td>-99.0</td>\n",
       "    </tr>\n",
       "    <tr>\n",
       "      <th>2</th>\n",
       "      <td>199</td>\n",
       "      <td>Daphne Powell</td>\n",
       "      <td>Female</td>\n",
       "      <td>None</td>\n",
       "      <td>None</td>\n",
       "      <td>None</td>\n",
       "      <td>-99.0</td>\n",
       "      <td>ABC Studios</td>\n",
       "      <td>None</td>\n",
       "      <td>good</td>\n",
       "      <td>-99.0</td>\n",
       "    </tr>\n",
       "    <tr>\n",
       "      <th>3</th>\n",
       "      <td>304</td>\n",
       "      <td>Guy Gardner</td>\n",
       "      <td>Male</td>\n",
       "      <td>blue</td>\n",
       "      <td>Human-Vuldarian</td>\n",
       "      <td>Red</td>\n",
       "      <td>188.0</td>\n",
       "      <td>DC Comics</td>\n",
       "      <td>None</td>\n",
       "      <td>good</td>\n",
       "      <td>95.0</td>\n",
       "    </tr>\n",
       "    <tr>\n",
       "      <th>4</th>\n",
       "      <td>317</td>\n",
       "      <td>Hawkwoman II</td>\n",
       "      <td>Female</td>\n",
       "      <td>None</td>\n",
       "      <td>None</td>\n",
       "      <td>None</td>\n",
       "      <td>-99.0</td>\n",
       "      <td>DC Comics</td>\n",
       "      <td>None</td>\n",
       "      <td>good</td>\n",
       "      <td>-99.0</td>\n",
       "    </tr>\n",
       "    <tr>\n",
       "      <th>5</th>\n",
       "      <td>443</td>\n",
       "      <td>Mephisto</td>\n",
       "      <td>Male</td>\n",
       "      <td>white</td>\n",
       "      <td>None</td>\n",
       "      <td>Black</td>\n",
       "      <td>198.0</td>\n",
       "      <td>Marvel Comics</td>\n",
       "      <td>None</td>\n",
       "      <td>bad</td>\n",
       "      <td>140.0</td>\n",
       "    </tr>\n",
       "    <tr>\n",
       "      <th>6</th>\n",
       "      <td>460</td>\n",
       "      <td>Mister Sinister</td>\n",
       "      <td>Male</td>\n",
       "      <td>red</td>\n",
       "      <td>Human / Altered</td>\n",
       "      <td>Black</td>\n",
       "      <td>196.0</td>\n",
       "      <td>Marvel Comics</td>\n",
       "      <td>None</td>\n",
       "      <td>bad</td>\n",
       "      <td>128.0</td>\n",
       "    </tr>\n",
       "    <tr>\n",
       "      <th>7</th>\n",
       "      <td>469</td>\n",
       "      <td>Monica Dawson</td>\n",
       "      <td>Female</td>\n",
       "      <td>None</td>\n",
       "      <td>None</td>\n",
       "      <td>None</td>\n",
       "      <td>-99.0</td>\n",
       "      <td>NBC - Heroes</td>\n",
       "      <td>None</td>\n",
       "      <td>good</td>\n",
       "      <td>-99.0</td>\n",
       "    </tr>\n",
       "    <tr>\n",
       "      <th>8</th>\n",
       "      <td>478</td>\n",
       "      <td>Multiple Man</td>\n",
       "      <td>Male</td>\n",
       "      <td>blue</td>\n",
       "      <td>None</td>\n",
       "      <td>Brown</td>\n",
       "      <td>180.0</td>\n",
       "      <td>Marvel Comics</td>\n",
       "      <td>None</td>\n",
       "      <td>good</td>\n",
       "      <td>70.0</td>\n",
       "    </tr>\n",
       "    <tr>\n",
       "      <th>9</th>\n",
       "      <td>505</td>\n",
       "      <td>Oracle</td>\n",
       "      <td>Female</td>\n",
       "      <td>blue</td>\n",
       "      <td>Human</td>\n",
       "      <td>Red</td>\n",
       "      <td>178.0</td>\n",
       "      <td>DC Comics</td>\n",
       "      <td>None</td>\n",
       "      <td>good</td>\n",
       "      <td>59.0</td>\n",
       "    </tr>\n",
       "    <tr>\n",
       "      <th>10</th>\n",
       "      <td>517</td>\n",
       "      <td>Phantom Girl</td>\n",
       "      <td>Female</td>\n",
       "      <td>blue</td>\n",
       "      <td>None</td>\n",
       "      <td>Black</td>\n",
       "      <td>168.0</td>\n",
       "      <td>DC Comics</td>\n",
       "      <td>None</td>\n",
       "      <td>good</td>\n",
       "      <td>54.0</td>\n",
       "    </tr>\n",
       "    <tr>\n",
       "      <th>11</th>\n",
       "      <td>549</td>\n",
       "      <td>Red Hulk</td>\n",
       "      <td>Male</td>\n",
       "      <td>yellow</td>\n",
       "      <td>Human / Radiation</td>\n",
       "      <td>Black</td>\n",
       "      <td>213.0</td>\n",
       "      <td>Marvel Comics</td>\n",
       "      <td>red</td>\n",
       "      <td>neutral</td>\n",
       "      <td>630.0</td>\n",
       "    </tr>\n",
       "    <tr>\n",
       "      <th>12</th>\n",
       "      <td>586</td>\n",
       "      <td>Shadow King</td>\n",
       "      <td>None</td>\n",
       "      <td>red</td>\n",
       "      <td>None</td>\n",
       "      <td>None</td>\n",
       "      <td>185.0</td>\n",
       "      <td>Marvel Comics</td>\n",
       "      <td>None</td>\n",
       "      <td>good</td>\n",
       "      <td>149.0</td>\n",
       "    </tr>\n",
       "  </tbody>\n",
       "</table>\n",
       "</div>"
      ],
      "text/plain": [
       "     Id             name  Gender Eye color               Race Hair color  \\\n",
       "0   126        Boba Fett    Male     brown      Human / Clone      Black   \n",
       "1   175     Chuck Norris    Male      None               None       None   \n",
       "2   199    Daphne Powell  Female      None               None       None   \n",
       "3   304      Guy Gardner    Male      blue    Human-Vuldarian        Red   \n",
       "4   317     Hawkwoman II  Female      None               None       None   \n",
       "5   443         Mephisto    Male     white               None      Black   \n",
       "6   460  Mister Sinister    Male       red    Human / Altered      Black   \n",
       "7   469    Monica Dawson  Female      None               None       None   \n",
       "8   478     Multiple Man    Male      blue               None      Brown   \n",
       "9   505           Oracle  Female      blue              Human        Red   \n",
       "10  517     Phantom Girl  Female      blue               None      Black   \n",
       "11  549         Red Hulk    Male    yellow  Human / Radiation      Black   \n",
       "12  586      Shadow King    None       red               None       None   \n",
       "\n",
       "    Height      Publisher Skin color Alignment  Weight  \n",
       "0    183.0   George Lucas       None       bad   -99.0  \n",
       "1    178.0           None       None      good   -99.0  \n",
       "2    -99.0    ABC Studios       None      good   -99.0  \n",
       "3    188.0      DC Comics       None      good    95.0  \n",
       "4    -99.0      DC Comics       None      good   -99.0  \n",
       "5    198.0  Marvel Comics       None       bad   140.0  \n",
       "6    196.0  Marvel Comics       None       bad   128.0  \n",
       "7    -99.0   NBC - Heroes       None      good   -99.0  \n",
       "8    180.0  Marvel Comics       None      good    70.0  \n",
       "9    178.0      DC Comics       None      good    59.0  \n",
       "10   168.0      DC Comics       None      good    54.0  \n",
       "11   213.0  Marvel Comics        red   neutral   630.0  \n",
       "12   185.0  Marvel Comics       None      good   149.0  "
      ]
     },
     "execution_count": 71,
     "metadata": {},
     "output_type": "execute_result"
    }
   ],
   "source": [
    "(sample := \n",
    " heros\n",
    " .sample(fraction=0.01)\n",
    ").toPandas()"
   ]
  },
  {
   "cell_type": "markdown",
   "metadata": {},
   "source": [
    "#### Use `toPandas` to collect the whole table (careful...)"
   ]
  },
  {
   "cell_type": "code",
   "execution_count": 73,
   "metadata": {},
   "outputs": [
    {
     "data": {
      "text/html": [
       "<div>\n",
       "<style scoped>\n",
       "    .dataframe tbody tr th:only-of-type {\n",
       "        vertical-align: middle;\n",
       "    }\n",
       "\n",
       "    .dataframe tbody tr th {\n",
       "        vertical-align: top;\n",
       "    }\n",
       "\n",
       "    .dataframe thead th {\n",
       "        text-align: right;\n",
       "    }\n",
       "</style>\n",
       "<table border=\"1\" class=\"dataframe\">\n",
       "  <thead>\n",
       "    <tr style=\"text-align: right;\">\n",
       "      <th></th>\n",
       "      <th>ID</th>\n",
       "      <th>name</th>\n",
       "      <th>Gender</th>\n",
       "      <th>Eye color</th>\n",
       "      <th>Race</th>\n",
       "      <th>Hair color</th>\n",
       "      <th>Height</th>\n",
       "      <th>Publisher</th>\n",
       "      <th>Skin color</th>\n",
       "      <th>Alignment</th>\n",
       "      <th>Weight</th>\n",
       "    </tr>\n",
       "  </thead>\n",
       "  <tbody>\n",
       "    <tr>\n",
       "      <th>0</th>\n",
       "      <td>0</td>\n",
       "      <td>A-Bomb</td>\n",
       "      <td>Male</td>\n",
       "      <td>yellow</td>\n",
       "      <td>Human</td>\n",
       "      <td>No Hair</td>\n",
       "      <td>203</td>\n",
       "      <td>Marvel Comics</td>\n",
       "      <td>-</td>\n",
       "      <td>good</td>\n",
       "      <td>441</td>\n",
       "    </tr>\n",
       "    <tr>\n",
       "      <th>1</th>\n",
       "      <td>1</td>\n",
       "      <td>Abe Sapien</td>\n",
       "      <td>Male</td>\n",
       "      <td>blue</td>\n",
       "      <td>Icthyo Sapien</td>\n",
       "      <td>No Hair</td>\n",
       "      <td>191</td>\n",
       "      <td>Dark Horse Comics</td>\n",
       "      <td>blue</td>\n",
       "      <td>good</td>\n",
       "      <td>65</td>\n",
       "    </tr>\n",
       "    <tr>\n",
       "      <th>2</th>\n",
       "      <td>2</td>\n",
       "      <td>Abin Sur</td>\n",
       "      <td>Male</td>\n",
       "      <td>blue</td>\n",
       "      <td>Ungaran</td>\n",
       "      <td>No Hair</td>\n",
       "      <td>185</td>\n",
       "      <td>DC Comics</td>\n",
       "      <td>red</td>\n",
       "      <td>good</td>\n",
       "      <td>90</td>\n",
       "    </tr>\n",
       "    <tr>\n",
       "      <th>3</th>\n",
       "      <td>3</td>\n",
       "      <td>Abomination</td>\n",
       "      <td>Male</td>\n",
       "      <td>green</td>\n",
       "      <td>Human / Radiation</td>\n",
       "      <td>No Hair</td>\n",
       "      <td>203</td>\n",
       "      <td>Marvel Comics</td>\n",
       "      <td>-</td>\n",
       "      <td>bad</td>\n",
       "      <td>441</td>\n",
       "    </tr>\n",
       "    <tr>\n",
       "      <th>4</th>\n",
       "      <td>4</td>\n",
       "      <td>Abraxas</td>\n",
       "      <td>Male</td>\n",
       "      <td>blue</td>\n",
       "      <td>Cosmic Entity</td>\n",
       "      <td>Black</td>\n",
       "      <td>-99</td>\n",
       "      <td>Marvel Comics</td>\n",
       "      <td>-</td>\n",
       "      <td>bad</td>\n",
       "      <td>-99</td>\n",
       "    </tr>\n",
       "    <tr>\n",
       "      <th>...</th>\n",
       "      <td>...</td>\n",
       "      <td>...</td>\n",
       "      <td>...</td>\n",
       "      <td>...</td>\n",
       "      <td>...</td>\n",
       "      <td>...</td>\n",
       "      <td>...</td>\n",
       "      <td>...</td>\n",
       "      <td>...</td>\n",
       "      <td>...</td>\n",
       "      <td>...</td>\n",
       "    </tr>\n",
       "    <tr>\n",
       "      <th>729</th>\n",
       "      <td>729</td>\n",
       "      <td>Yellowjacket II</td>\n",
       "      <td>Female</td>\n",
       "      <td>blue</td>\n",
       "      <td>Human</td>\n",
       "      <td>Strawberry Blond</td>\n",
       "      <td>165</td>\n",
       "      <td>Marvel Comics</td>\n",
       "      <td>-</td>\n",
       "      <td>good</td>\n",
       "      <td>52</td>\n",
       "    </tr>\n",
       "    <tr>\n",
       "      <th>730</th>\n",
       "      <td>730</td>\n",
       "      <td>Ymir</td>\n",
       "      <td>Male</td>\n",
       "      <td>white</td>\n",
       "      <td>Frost Giant</td>\n",
       "      <td>No Hair</td>\n",
       "      <td>304.8</td>\n",
       "      <td>Marvel Comics</td>\n",
       "      <td>white</td>\n",
       "      <td>good</td>\n",
       "      <td>-99</td>\n",
       "    </tr>\n",
       "    <tr>\n",
       "      <th>731</th>\n",
       "      <td>731</td>\n",
       "      <td>Yoda</td>\n",
       "      <td>Male</td>\n",
       "      <td>brown</td>\n",
       "      <td>Yoda's species</td>\n",
       "      <td>White</td>\n",
       "      <td>66</td>\n",
       "      <td>George Lucas</td>\n",
       "      <td>green</td>\n",
       "      <td>good</td>\n",
       "      <td>17</td>\n",
       "    </tr>\n",
       "    <tr>\n",
       "      <th>732</th>\n",
       "      <td>732</td>\n",
       "      <td>Zatanna</td>\n",
       "      <td>Female</td>\n",
       "      <td>blue</td>\n",
       "      <td>Human</td>\n",
       "      <td>Black</td>\n",
       "      <td>170</td>\n",
       "      <td>DC Comics</td>\n",
       "      <td>-</td>\n",
       "      <td>good</td>\n",
       "      <td>57</td>\n",
       "    </tr>\n",
       "    <tr>\n",
       "      <th>733</th>\n",
       "      <td>733</td>\n",
       "      <td>Zoom</td>\n",
       "      <td>Male</td>\n",
       "      <td>red</td>\n",
       "      <td>-</td>\n",
       "      <td>Brown</td>\n",
       "      <td>185</td>\n",
       "      <td>DC Comics</td>\n",
       "      <td>-</td>\n",
       "      <td>bad</td>\n",
       "      <td>81</td>\n",
       "    </tr>\n",
       "  </tbody>\n",
       "</table>\n",
       "<p>734 rows × 11 columns</p>\n",
       "</div>"
      ],
      "text/plain": [
       "      ID             name  Gender Eye color               Race  \\\n",
       "0      0           A-Bomb    Male    yellow              Human   \n",
       "1      1       Abe Sapien    Male      blue      Icthyo Sapien   \n",
       "2      2         Abin Sur    Male      blue            Ungaran   \n",
       "3      3      Abomination    Male     green  Human / Radiation   \n",
       "4      4          Abraxas    Male      blue      Cosmic Entity   \n",
       "..   ...              ...     ...       ...                ...   \n",
       "729  729  Yellowjacket II  Female      blue              Human   \n",
       "730  730             Ymir    Male     white        Frost Giant   \n",
       "731  731             Yoda    Male     brown     Yoda's species   \n",
       "732  732          Zatanna  Female      blue              Human   \n",
       "733  733             Zoom    Male       red                  -   \n",
       "\n",
       "           Hair color Height          Publisher Skin color Alignment Weight  \n",
       "0             No Hair    203      Marvel Comics          -      good    441  \n",
       "1             No Hair    191  Dark Horse Comics       blue      good     65  \n",
       "2             No Hair    185          DC Comics        red      good     90  \n",
       "3             No Hair    203      Marvel Comics          -       bad    441  \n",
       "4               Black    -99      Marvel Comics          -       bad    -99  \n",
       "..                ...    ...                ...        ...       ...    ...  \n",
       "729  Strawberry Blond    165      Marvel Comics          -      good     52  \n",
       "730           No Hair  304.8      Marvel Comics      white      good    -99  \n",
       "731             White     66       George Lucas      green      good     17  \n",
       "732             Black    170          DC Comics          -      good     57  \n",
       "733             Brown    185          DC Comics          -       bad     81  \n",
       "\n",
       "[734 rows x 11 columns]"
      ]
     },
     "execution_count": 73,
     "metadata": {},
     "output_type": "execute_result"
    }
   ],
   "source": [
    "heroes.toPandas()"
   ]
  },
  {
   "cell_type": "markdown",
   "metadata": {
    "id": "zndd6lmLRy3H"
   },
   "source": [
    "## Houston, we have a problem! (Did you notice?)\n",
    "\n",
    "<img src=\"https://github.com/wsu-stat489/module5_intro_to_pyspark/blob/main/img/pyspark_missing_values.png?raw=1\" width=400>"
   ]
  },
  {
   "cell_type": "markdown",
   "metadata": {
    "id": "rCqrpp4aRy3I"
   },
   "source": [
    "### Specifying a `nullValue`"
   ]
  },
  {
   "cell_type": "code",
   "execution_count": 74,
   "metadata": {
    "colab": {
     "base_uri": "https://localhost:8080/",
     "height": 204
    },
    "id": "043y77KwRy3J",
    "outputId": "7df9356e-1b88-4bdf-c8ae-2983607c2a75"
   },
   "outputs": [
    {
     "data": {
      "text/html": [
       "<div>\n",
       "<style scoped>\n",
       "    .dataframe tbody tr th:only-of-type {\n",
       "        vertical-align: middle;\n",
       "    }\n",
       "\n",
       "    .dataframe tbody tr th {\n",
       "        vertical-align: top;\n",
       "    }\n",
       "\n",
       "    .dataframe thead th {\n",
       "        text-align: right;\n",
       "    }\n",
       "</style>\n",
       "<table border=\"1\" class=\"dataframe\">\n",
       "  <thead>\n",
       "    <tr style=\"text-align: right;\">\n",
       "      <th></th>\n",
       "      <th>ID</th>\n",
       "      <th>name</th>\n",
       "      <th>Gender</th>\n",
       "      <th>Eye color</th>\n",
       "      <th>Race</th>\n",
       "      <th>Hair color</th>\n",
       "      <th>Height</th>\n",
       "      <th>Publisher</th>\n",
       "      <th>Skin color</th>\n",
       "      <th>Alignment</th>\n",
       "      <th>Weight</th>\n",
       "    </tr>\n",
       "  </thead>\n",
       "  <tbody>\n",
       "    <tr>\n",
       "      <th>0</th>\n",
       "      <td>0</td>\n",
       "      <td>A-Bomb</td>\n",
       "      <td>Male</td>\n",
       "      <td>yellow</td>\n",
       "      <td>Human</td>\n",
       "      <td>No Hair</td>\n",
       "      <td>203</td>\n",
       "      <td>Marvel Comics</td>\n",
       "      <td>None</td>\n",
       "      <td>good</td>\n",
       "      <td>441</td>\n",
       "    </tr>\n",
       "    <tr>\n",
       "      <th>1</th>\n",
       "      <td>1</td>\n",
       "      <td>Abe Sapien</td>\n",
       "      <td>Male</td>\n",
       "      <td>blue</td>\n",
       "      <td>Icthyo Sapien</td>\n",
       "      <td>No Hair</td>\n",
       "      <td>191</td>\n",
       "      <td>Dark Horse Comics</td>\n",
       "      <td>blue</td>\n",
       "      <td>good</td>\n",
       "      <td>65</td>\n",
       "    </tr>\n",
       "    <tr>\n",
       "      <th>2</th>\n",
       "      <td>2</td>\n",
       "      <td>Abin Sur</td>\n",
       "      <td>Male</td>\n",
       "      <td>blue</td>\n",
       "      <td>Ungaran</td>\n",
       "      <td>No Hair</td>\n",
       "      <td>185</td>\n",
       "      <td>DC Comics</td>\n",
       "      <td>red</td>\n",
       "      <td>good</td>\n",
       "      <td>90</td>\n",
       "    </tr>\n",
       "    <tr>\n",
       "      <th>3</th>\n",
       "      <td>3</td>\n",
       "      <td>Abomination</td>\n",
       "      <td>Male</td>\n",
       "      <td>green</td>\n",
       "      <td>Human / Radiation</td>\n",
       "      <td>No Hair</td>\n",
       "      <td>203</td>\n",
       "      <td>Marvel Comics</td>\n",
       "      <td>None</td>\n",
       "      <td>bad</td>\n",
       "      <td>441</td>\n",
       "    </tr>\n",
       "    <tr>\n",
       "      <th>4</th>\n",
       "      <td>4</td>\n",
       "      <td>Abraxas</td>\n",
       "      <td>Male</td>\n",
       "      <td>blue</td>\n",
       "      <td>Cosmic Entity</td>\n",
       "      <td>Black</td>\n",
       "      <td>-99</td>\n",
       "      <td>Marvel Comics</td>\n",
       "      <td>None</td>\n",
       "      <td>bad</td>\n",
       "      <td>-99</td>\n",
       "    </tr>\n",
       "  </tbody>\n",
       "</table>\n",
       "</div>"
      ],
      "text/plain": [
       "  ID         name Gender Eye color               Race Hair color Height  \\\n",
       "0  0       A-Bomb   Male    yellow              Human    No Hair    203   \n",
       "1  1   Abe Sapien   Male      blue      Icthyo Sapien    No Hair    191   \n",
       "2  2     Abin Sur   Male      blue            Ungaran    No Hair    185   \n",
       "3  3  Abomination   Male     green  Human / Radiation    No Hair    203   \n",
       "4  4      Abraxas   Male      blue      Cosmic Entity      Black    -99   \n",
       "\n",
       "           Publisher Skin color Alignment Weight  \n",
       "0      Marvel Comics       None      good    441  \n",
       "1  Dark Horse Comics       blue      good     65  \n",
       "2          DC Comics        red      good     90  \n",
       "3      Marvel Comics       None       bad    441  \n",
       "4      Marvel Comics       None       bad    -99  "
      ]
     },
     "execution_count": 74,
     "metadata": {},
     "output_type": "execute_result"
    }
   ],
   "source": [
    "(heros := \n",
    " spark.read.csv('./data/heroes_information.csv', header=True, nullValue='-')\n",
    ").limit(5).toPandas()"
   ]
  },
  {
   "cell_type": "markdown",
   "metadata": {
    "id": "bt-HmftzRy3K"
   },
   "source": [
    "### Did you notice?\n",
    "\n",
    "<img src=\"https://github.com/wsu-stat489/module5_intro_to_pyspark/blob/main/img/pyspark_default_types.png?raw=1\" width=400>\n",
    "\n",
    "Default type is a string"
   ]
  },
  {
   "cell_type": "markdown",
   "metadata": {
    "id": "wqF2ZmQTRy3L"
   },
   "source": [
    "### Letting `spark` guess the types\n",
    "\n",
    "Set `inferScheme=True` "
   ]
  },
  {
   "cell_type": "code",
   "execution_count": 75,
   "metadata": {
    "colab": {
     "base_uri": "https://localhost:8080/"
    },
    "id": "L0n7j00LRy3L",
    "outputId": "a19118c7-db70-4854-82d7-e93624639ff0"
   },
   "outputs": [
    {
     "data": {
      "text/plain": [
       "DataFrame[ID: int, name: string, Gender: string, Eye color: string, Race: string, Hair color: string, Height: double, Publisher: string, Skin color: string, Alignment: string, Weight: int]"
      ]
     },
     "execution_count": 75,
     "metadata": {},
     "output_type": "execute_result"
    }
   ],
   "source": [
    "(heros := \n",
    " spark.read.csv('./data/heroes_information.csv', header=True, inferSchema=True, nullValue='-')\n",
    ")"
   ]
  },
  {
   "cell_type": "markdown",
   "metadata": {
    "id": "77ULZOaHRy3L"
   },
   "source": [
    "## Checking the column types after `inferScheme`\n",
    "\n",
    "In this case, `spark` guessed correctly"
   ]
  },
  {
   "cell_type": "code",
   "execution_count": 76,
   "metadata": {
    "colab": {
     "base_uri": "https://localhost:8080/"
    },
    "id": "W_U8DQmzRy3M",
    "outputId": "59702167-afff-471d-a6f6-9537e8097a0b"
   },
   "outputs": [
    {
     "name": "stdout",
     "output_type": "stream",
     "text": [
      "root\n",
      " |-- ID: integer (nullable = true)\n",
      " |-- name: string (nullable = true)\n",
      " |-- Gender: string (nullable = true)\n",
      " |-- Eye color: string (nullable = true)\n",
      " |-- Race: string (nullable = true)\n",
      " |-- Hair color: string (nullable = true)\n",
      " |-- Height: double (nullable = true)\n",
      " |-- Publisher: string (nullable = true)\n",
      " |-- Skin color: string (nullable = true)\n",
      " |-- Alignment: string (nullable = true)\n",
      " |-- Weight: integer (nullable = true)\n",
      "\n"
     ]
    }
   ],
   "source": [
    "heros.printSchema()"
   ]
  },
  {
   "cell_type": "markdown",
   "metadata": {
    "id": "Fkheoz2-Ry3M"
   },
   "source": [
    "## Inspecting the content - `limit(5).toPandas()`"
   ]
  },
  {
   "cell_type": "code",
   "execution_count": 77,
   "metadata": {
    "colab": {
     "base_uri": "https://localhost:8080/"
    },
    "id": "RpX44QYnRy3M",
    "outputId": "24b31847-b756-4e3c-8965-bedd2aafb1ce"
   },
   "outputs": [
    {
     "data": {
      "text/html": [
       "<div>\n",
       "<style scoped>\n",
       "    .dataframe tbody tr th:only-of-type {\n",
       "        vertical-align: middle;\n",
       "    }\n",
       "\n",
       "    .dataframe tbody tr th {\n",
       "        vertical-align: top;\n",
       "    }\n",
       "\n",
       "    .dataframe thead th {\n",
       "        text-align: right;\n",
       "    }\n",
       "</style>\n",
       "<table border=\"1\" class=\"dataframe\">\n",
       "  <thead>\n",
       "    <tr style=\"text-align: right;\">\n",
       "      <th></th>\n",
       "      <th>ID</th>\n",
       "      <th>name</th>\n",
       "      <th>Gender</th>\n",
       "      <th>Eye color</th>\n",
       "      <th>Race</th>\n",
       "      <th>Hair color</th>\n",
       "      <th>Height</th>\n",
       "      <th>Publisher</th>\n",
       "      <th>Skin color</th>\n",
       "      <th>Alignment</th>\n",
       "      <th>Weight</th>\n",
       "    </tr>\n",
       "  </thead>\n",
       "  <tbody>\n",
       "    <tr>\n",
       "      <th>0</th>\n",
       "      <td>0</td>\n",
       "      <td>A-Bomb</td>\n",
       "      <td>Male</td>\n",
       "      <td>yellow</td>\n",
       "      <td>Human</td>\n",
       "      <td>No Hair</td>\n",
       "      <td>203.0</td>\n",
       "      <td>Marvel Comics</td>\n",
       "      <td>None</td>\n",
       "      <td>good</td>\n",
       "      <td>441</td>\n",
       "    </tr>\n",
       "    <tr>\n",
       "      <th>1</th>\n",
       "      <td>1</td>\n",
       "      <td>Abe Sapien</td>\n",
       "      <td>Male</td>\n",
       "      <td>blue</td>\n",
       "      <td>Icthyo Sapien</td>\n",
       "      <td>No Hair</td>\n",
       "      <td>191.0</td>\n",
       "      <td>Dark Horse Comics</td>\n",
       "      <td>blue</td>\n",
       "      <td>good</td>\n",
       "      <td>65</td>\n",
       "    </tr>\n",
       "    <tr>\n",
       "      <th>2</th>\n",
       "      <td>2</td>\n",
       "      <td>Abin Sur</td>\n",
       "      <td>Male</td>\n",
       "      <td>blue</td>\n",
       "      <td>Ungaran</td>\n",
       "      <td>No Hair</td>\n",
       "      <td>185.0</td>\n",
       "      <td>DC Comics</td>\n",
       "      <td>red</td>\n",
       "      <td>good</td>\n",
       "      <td>90</td>\n",
       "    </tr>\n",
       "    <tr>\n",
       "      <th>3</th>\n",
       "      <td>3</td>\n",
       "      <td>Abomination</td>\n",
       "      <td>Male</td>\n",
       "      <td>green</td>\n",
       "      <td>Human / Radiation</td>\n",
       "      <td>No Hair</td>\n",
       "      <td>203.0</td>\n",
       "      <td>Marvel Comics</td>\n",
       "      <td>None</td>\n",
       "      <td>bad</td>\n",
       "      <td>441</td>\n",
       "    </tr>\n",
       "    <tr>\n",
       "      <th>4</th>\n",
       "      <td>4</td>\n",
       "      <td>Abraxas</td>\n",
       "      <td>Male</td>\n",
       "      <td>blue</td>\n",
       "      <td>Cosmic Entity</td>\n",
       "      <td>Black</td>\n",
       "      <td>-99.0</td>\n",
       "      <td>Marvel Comics</td>\n",
       "      <td>None</td>\n",
       "      <td>bad</td>\n",
       "      <td>-99</td>\n",
       "    </tr>\n",
       "  </tbody>\n",
       "</table>\n",
       "</div>"
      ],
      "text/plain": [
       "   ID         name Gender Eye color               Race Hair color  Height  \\\n",
       "0   0       A-Bomb   Male    yellow              Human    No Hair   203.0   \n",
       "1   1   Abe Sapien   Male      blue      Icthyo Sapien    No Hair   191.0   \n",
       "2   2     Abin Sur   Male      blue            Ungaran    No Hair   185.0   \n",
       "3   3  Abomination   Male     green  Human / Radiation    No Hair   203.0   \n",
       "4   4      Abraxas   Male      blue      Cosmic Entity      Black   -99.0   \n",
       "\n",
       "           Publisher Skin color Alignment  Weight  \n",
       "0      Marvel Comics       None      good     441  \n",
       "1  Dark Horse Comics       blue      good      65  \n",
       "2          DC Comics        red      good      90  \n",
       "3      Marvel Comics       None       bad     441  \n",
       "4      Marvel Comics       None       bad     -99  "
      ]
     },
     "execution_count": 77,
     "metadata": {},
     "output_type": "execute_result"
    }
   ],
   "source": [
    "heros.limit(5).toPandas()"
   ]
  },
  {
   "cell_type": "markdown",
   "metadata": {
    "id": "AN6uO88SRy3N"
   },
   "source": [
    "## Explicit `schema` specification\n",
    "\n",
    "Format is `add(name, type, nullable?)`"
   ]
  },
  {
   "cell_type": "code",
   "execution_count": 81,
   "metadata": {
    "colab": {
     "base_uri": "https://localhost:8080/"
    },
    "id": "iKU5rzjfRy3N",
    "outputId": "fbed303c-9314-4a71-e63b-ba44f485926a"
   },
   "outputs": [
    {
     "data": {
      "text/html": [
       "<div>\n",
       "<style scoped>\n",
       "    .dataframe tbody tr th:only-of-type {\n",
       "        vertical-align: middle;\n",
       "    }\n",
       "\n",
       "    .dataframe tbody tr th {\n",
       "        vertical-align: top;\n",
       "    }\n",
       "\n",
       "    .dataframe thead th {\n",
       "        text-align: right;\n",
       "    }\n",
       "</style>\n",
       "<table border=\"1\" class=\"dataframe\">\n",
       "  <thead>\n",
       "    <tr style=\"text-align: right;\">\n",
       "      <th></th>\n",
       "      <th>Id</th>\n",
       "      <th>name</th>\n",
       "      <th>Gender</th>\n",
       "      <th>Eye color</th>\n",
       "      <th>Race</th>\n",
       "      <th>Hair color</th>\n",
       "      <th>Height</th>\n",
       "      <th>Publisher</th>\n",
       "      <th>Skin color</th>\n",
       "      <th>Alignment</th>\n",
       "      <th>Weight</th>\n",
       "    </tr>\n",
       "  </thead>\n",
       "  <tbody>\n",
       "    <tr>\n",
       "      <th>0</th>\n",
       "      <td>0</td>\n",
       "      <td>A-Bomb</td>\n",
       "      <td>Male</td>\n",
       "      <td>yellow</td>\n",
       "      <td>Human</td>\n",
       "      <td>No Hair</td>\n",
       "      <td>203.0</td>\n",
       "      <td>Marvel Comics</td>\n",
       "      <td>None</td>\n",
       "      <td>good</td>\n",
       "      <td>441.0</td>\n",
       "    </tr>\n",
       "    <tr>\n",
       "      <th>1</th>\n",
       "      <td>1</td>\n",
       "      <td>Abe Sapien</td>\n",
       "      <td>Male</td>\n",
       "      <td>blue</td>\n",
       "      <td>Icthyo Sapien</td>\n",
       "      <td>No Hair</td>\n",
       "      <td>191.0</td>\n",
       "      <td>Dark Horse Comics</td>\n",
       "      <td>blue</td>\n",
       "      <td>good</td>\n",
       "      <td>65.0</td>\n",
       "    </tr>\n",
       "    <tr>\n",
       "      <th>2</th>\n",
       "      <td>2</td>\n",
       "      <td>Abin Sur</td>\n",
       "      <td>Male</td>\n",
       "      <td>blue</td>\n",
       "      <td>Ungaran</td>\n",
       "      <td>No Hair</td>\n",
       "      <td>185.0</td>\n",
       "      <td>DC Comics</td>\n",
       "      <td>red</td>\n",
       "      <td>good</td>\n",
       "      <td>90.0</td>\n",
       "    </tr>\n",
       "    <tr>\n",
       "      <th>3</th>\n",
       "      <td>3</td>\n",
       "      <td>Abomination</td>\n",
       "      <td>Male</td>\n",
       "      <td>green</td>\n",
       "      <td>Human / Radiation</td>\n",
       "      <td>No Hair</td>\n",
       "      <td>203.0</td>\n",
       "      <td>Marvel Comics</td>\n",
       "      <td>None</td>\n",
       "      <td>bad</td>\n",
       "      <td>441.0</td>\n",
       "    </tr>\n",
       "    <tr>\n",
       "      <th>4</th>\n",
       "      <td>4</td>\n",
       "      <td>Abraxas</td>\n",
       "      <td>Male</td>\n",
       "      <td>blue</td>\n",
       "      <td>Cosmic Entity</td>\n",
       "      <td>Black</td>\n",
       "      <td>-99.0</td>\n",
       "      <td>Marvel Comics</td>\n",
       "      <td>None</td>\n",
       "      <td>bad</td>\n",
       "      <td>-99.0</td>\n",
       "    </tr>\n",
       "  </tbody>\n",
       "</table>\n",
       "</div>"
      ],
      "text/plain": [
       "   Id         name Gender Eye color               Race Hair color  Height  \\\n",
       "0   0       A-Bomb   Male    yellow              Human    No Hair   203.0   \n",
       "1   1   Abe Sapien   Male      blue      Icthyo Sapien    No Hair   191.0   \n",
       "2   2     Abin Sur   Male      blue            Ungaran    No Hair   185.0   \n",
       "3   3  Abomination   Male     green  Human / Radiation    No Hair   203.0   \n",
       "4   4      Abraxas   Male      blue      Cosmic Entity      Black   -99.0   \n",
       "\n",
       "           Publisher Skin color Alignment  Weight  \n",
       "0      Marvel Comics       None      good   441.0  \n",
       "1  Dark Horse Comics       blue      good    65.0  \n",
       "2          DC Comics        red      good    90.0  \n",
       "3      Marvel Comics       None       bad   441.0  \n",
       "4      Marvel Comics       None       bad   -99.0  "
      ]
     },
     "execution_count": 81,
     "metadata": {},
     "output_type": "execute_result"
    }
   ],
   "source": [
    "from pyspark.sql.types import StructType\n",
    "from pyspark.sql.types import DoubleType, StringType, IntegerType\n",
    "\n",
    "hero_schema = (StructType()\n",
    "  .add('Id', IntegerType(), False)\n",
    "  .add('name', StringType(), True)\n",
    "  .add('Gender', StringType(), True)\n",
    "  .add('Eye color', StringType(), True)\n",
    "  .add('Race', StringType(), True)\n",
    "  .add('Hair color', StringType(), True)\n",
    "  .add('Height', DoubleType(), True)\n",
    "  .add('Publisher', StringType(), True)\n",
    "  .add('Skin color', StringType(), True)\n",
    "  .add('Alignment', StringType(), True)\n",
    "  .add('Weight', DoubleType(), True))\n",
    "\n",
    "(heros := \n",
    " spark.read.csv('./data/heroes_information.csv', header=True, schema=hero_schema, nullValue='-')\n",
    ").limit(5).toPandas()"
   ]
  },
  {
   "cell_type": "markdown",
   "metadata": {
    "id": "8tYN8gakRy3O"
   },
   "source": [
    "## `pyspark.sql` queries are like `SQL` queries"
   ]
  },
  {
   "cell_type": "markdown",
   "metadata": {
    "id": "zOIpIXD3Ry3P"
   },
   "source": [
    "#### Filter, group, and aggregate (categorical)"
   ]
  },
  {
   "cell_type": "code",
   "execution_count": 82,
   "metadata": {
    "colab": {
     "base_uri": "https://localhost:8080/",
     "height": 204
    },
    "id": "E9_8IAAVRy3P",
    "outputId": "26a8069c-4006-4eba-821e-7f39168f062b"
   },
   "outputs": [
    {
     "data": {
      "text/html": [
       "<div>\n",
       "<style scoped>\n",
       "    .dataframe tbody tr th:only-of-type {\n",
       "        vertical-align: middle;\n",
       "    }\n",
       "\n",
       "    .dataframe tbody tr th {\n",
       "        vertical-align: top;\n",
       "    }\n",
       "\n",
       "    .dataframe thead th {\n",
       "        text-align: right;\n",
       "    }\n",
       "</style>\n",
       "<table border=\"1\" class=\"dataframe\">\n",
       "  <thead>\n",
       "    <tr style=\"text-align: right;\">\n",
       "      <th></th>\n",
       "      <th>Eye color</th>\n",
       "      <th>count</th>\n",
       "    </tr>\n",
       "  </thead>\n",
       "  <tbody>\n",
       "    <tr>\n",
       "      <th>0</th>\n",
       "      <td>grey</td>\n",
       "      <td>6</td>\n",
       "    </tr>\n",
       "    <tr>\n",
       "      <th>1</th>\n",
       "      <td>green</td>\n",
       "      <td>30</td>\n",
       "    </tr>\n",
       "    <tr>\n",
       "      <th>2</th>\n",
       "      <td>yellow</td>\n",
       "      <td>16</td>\n",
       "    </tr>\n",
       "    <tr>\n",
       "      <th>3</th>\n",
       "      <td>bown</td>\n",
       "      <td>1</td>\n",
       "    </tr>\n",
       "    <tr>\n",
       "      <th>4</th>\n",
       "      <td>None</td>\n",
       "      <td>121</td>\n",
       "    </tr>\n",
       "  </tbody>\n",
       "</table>\n",
       "</div>"
      ],
      "text/plain": [
       "  Eye color  count\n",
       "0      grey      6\n",
       "1     green     30\n",
       "2    yellow     16\n",
       "3      bown      1\n",
       "4      None    121"
      ]
     },
     "execution_count": 82,
     "metadata": {},
     "output_type": "execute_result"
    }
   ],
   "source": [
    "(heros\n",
    ".where(col('Gender') == 'Male')\n",
    ".groupby('Eye color')\n",
    ".count()\n",
    ".limit(5)\n",
    ").toPandas()"
   ]
  },
  {
   "cell_type": "markdown",
   "metadata": {
    "id": "_A-XJLCaRy3P"
   },
   "source": [
    "#### Group by multiple and aggregate (categorical)"
   ]
  },
  {
   "cell_type": "code",
   "execution_count": 83,
   "metadata": {},
   "outputs": [
    {
     "data": {
      "text/html": [
       "<div>\n",
       "<style scoped>\n",
       "    .dataframe tbody tr th:only-of-type {\n",
       "        vertical-align: middle;\n",
       "    }\n",
       "\n",
       "    .dataframe tbody tr th {\n",
       "        vertical-align: top;\n",
       "    }\n",
       "\n",
       "    .dataframe thead th {\n",
       "        text-align: right;\n",
       "    }\n",
       "</style>\n",
       "<table border=\"1\" class=\"dataframe\">\n",
       "  <thead>\n",
       "    <tr style=\"text-align: right;\">\n",
       "      <th></th>\n",
       "      <th>Eye color</th>\n",
       "      <th>Gender</th>\n",
       "      <th>count</th>\n",
       "    </tr>\n",
       "  </thead>\n",
       "  <tbody>\n",
       "    <tr>\n",
       "      <th>0</th>\n",
       "      <td>yellow (without irises)</td>\n",
       "      <td>None</td>\n",
       "      <td>1</td>\n",
       "    </tr>\n",
       "    <tr>\n",
       "      <th>1</th>\n",
       "      <td>green</td>\n",
       "      <td>Male</td>\n",
       "      <td>30</td>\n",
       "    </tr>\n",
       "    <tr>\n",
       "      <th>2</th>\n",
       "      <td>violet</td>\n",
       "      <td>Female</td>\n",
       "      <td>2</td>\n",
       "    </tr>\n",
       "    <tr>\n",
       "      <th>3</th>\n",
       "      <td>hazel</td>\n",
       "      <td>Female</td>\n",
       "      <td>3</td>\n",
       "    </tr>\n",
       "    <tr>\n",
       "      <th>4</th>\n",
       "      <td>blue</td>\n",
       "      <td>Male</td>\n",
       "      <td>143</td>\n",
       "    </tr>\n",
       "  </tbody>\n",
       "</table>\n",
       "</div>"
      ],
      "text/plain": [
       "                 Eye color  Gender  count\n",
       "0  yellow (without irises)    None      1\n",
       "1                    green    Male     30\n",
       "2                   violet  Female      2\n",
       "3                    hazel  Female      3\n",
       "4                     blue    Male    143"
      ]
     },
     "execution_count": 83,
     "metadata": {},
     "output_type": "execute_result"
    }
   ],
   "source": [
    "(heros\n",
    " .groupby('Eye color', 'Gender')\n",
    " .count()\n",
    " .limit(5)\n",
    ").toPandas()"
   ]
  },
  {
   "cell_type": "markdown",
   "metadata": {
    "id": "ajOYRVqQRy3Q"
   },
   "source": [
    "## <font color=\"red\"> Exercise 4.2 </font>\n",
    "\n",
    "First, define a `schema` and read in `./data/super_hero_powers.csv`, then perform `pyspark.sql` queries to answer each of the following questions.\n",
    "\n",
    "1. How many heroes have both Super Strength and Super Speed?\n",
    "2. How many heroes have names that start with the word *Black*\n",
    "3. Are heroes with Agility more likely to have Stealth?\n",
    "4. What fraction of all heroes that can fly also have Super Strength?\n",
    "5. Consider heroes that have names that contain `\"girl\"`, `\"boy\"`, `\"woman\"`, or `\"man\"`.  Compute the following ratio\n",
    "\n",
    "$$\\frac{N(\\text{boy or man})}{N(\\text{girl or woman}}$$\n",
    "\n",
    "**Hint:** You will need to use some combination of `where`, `group_by`, and `count` for each part."
   ]
  },
  {
   "cell_type": "code",
   "execution_count": 49,
   "metadata": {},
   "outputs": [
    {
     "name": "stdout",
     "output_type": "stream",
     "text": [
      "-rwx------@  1 bn8210wy  staff      46276 Nov  4 08:04 \u001b[31mheroes_information.csv\u001b[m\u001b[m\n",
      "-rw-------@  1 bn8210wy  staff     672305 Oct 18  2022 super_hero_powers.csv\n"
     ]
    }
   ],
   "source": [
    "%%bash\n",
    "\n",
    "ls -alG data | grep hero"
   ]
  },
  {
   "cell_type": "code",
   "execution_count": 50,
   "metadata": {
    "id": "LnmzuneIRy3O"
   },
   "outputs": [],
   "source": [
    "from pyspark.sql.types import StructType\n",
    "from pyspark.sql.types import BooleanType, StringType \n",
    "\n",
    "# Your code here"
   ]
  },
  {
   "cell_type": "code",
   "execution_count": 31,
   "metadata": {
    "id": "2ugIMUfSRy3Q"
   },
   "outputs": [],
   "source": [
    "# Your code here"
   ]
  },
  {
   "cell_type": "markdown",
   "metadata": {
    "id": "GdXTzICWRy3Q"
   },
   "source": [
    "# Appendix"
   ]
  },
  {
   "cell_type": "markdown",
   "metadata": {
    "id": "J_00BgsBRy2z"
   },
   "source": [
    "## Creating a `Row` of data\n",
    "\n",
    "* Use the `Row` class\n",
    "* Pass data using keywords\n",
    "    * key == column name\n",
    "    * value == cell value"
   ]
  },
  {
   "cell_type": "code",
   "execution_count": 62,
   "metadata": {
    "colab": {
     "base_uri": "https://localhost:8080/"
    },
    "id": "nYA3aFPZRy2z",
    "outputId": "d23b0d11-980e-4bdb-92a8-319f7d701b37"
   },
   "outputs": [
    {
     "data": {
      "text/plain": [
       "Row(id='123456', name='Computer Science')"
      ]
     },
     "execution_count": 62,
     "metadata": {},
     "output_type": "execute_result"
    }
   ],
   "source": [
    "department1 = Row(id='123456', name='Computer Science')\n",
    "department1"
   ]
  },
  {
   "cell_type": "markdown",
   "metadata": {
    "id": "v2IUtKK2Ry20"
   },
   "source": [
    "## Unpacking a `Row` dictionary\n",
    "\n",
    "* Data is in a row dictionary\n",
    "* Unpack keywords using `**`"
   ]
  },
  {
   "cell_type": "code",
   "execution_count": 63,
   "metadata": {
    "colab": {
     "base_uri": "https://localhost:8080/"
    },
    "id": "Sh10MUdoRy20",
    "outputId": "b05e9d73-dd63-4d00-eb3a-4b54b488ce9c",
    "scrolled": true
   },
   "outputs": [
    {
     "data": {
      "text/plain": [
       "Row(id='789012', name='Mechanical Engineering')"
      ]
     },
     "execution_count": 63,
     "metadata": {},
     "output_type": "execute_result"
    }
   ],
   "source": [
    "dept2_info = {'id':'789012', 'name':'Mechanical Engineering'}\n",
    "department2 = Row(**dept2_info)\n",
    "department2"
   ]
  },
  {
   "cell_type": "markdown",
   "metadata": {
    "id": "3rgaAdSMRy21"
   },
   "source": [
    "## Unpacking a list of row dictionaries"
   ]
  },
  {
   "cell_type": "code",
   "execution_count": 64,
   "metadata": {
    "colab": {
     "base_uri": "https://localhost:8080/"
    },
    "id": "8zphHlUuRy22",
    "outputId": "92d5a800-49f9-4fe4-aa45-4425f3a032e9",
    "scrolled": true
   },
   "outputs": [
    {
     "data": {
      "text/plain": [
       "[Row(id=123456, name='Computer Science'),\n",
       " Row(id=789012, name='Mechanical Engineering'),\n",
       " Row(id=345678, name='Theater and Drama'),\n",
       " Row(id=901234, name='Indoor Recreation')]"
      ]
     },
     "execution_count": 64,
     "metadata": {},
     "output_type": "execute_result"
    }
   ],
   "source": [
    "dept_info = [{'id':123456, 'name':'Computer Science'},\n",
    "             {'id':789012, 'name':'Mechanical Engineering'},\n",
    "             {'id':345678, 'name':'Theater and Drama'},\n",
    "             {'id':901234, 'name':'Indoor Recreation'}]\n",
    "\n",
    "dept_rows = [Row(**r) for r in dept_info]\n",
    "dept_rows"
   ]
  },
  {
   "cell_type": "markdown",
   "metadata": {
    "id": "qfuTevyXRy23"
   },
   "source": [
    "## Access `Row` content with column attributes"
   ]
  },
  {
   "cell_type": "code",
   "execution_count": 65,
   "metadata": {
    "colab": {
     "base_uri": "https://localhost:8080/"
    },
    "id": "hmfDZh-_Ry23",
    "outputId": "afecf886-2df7-4dbd-bf0b-eea540f547ba"
   },
   "outputs": [
    {
     "data": {
      "text/plain": [
       "[123456, 789012, 345678, 901234]"
      ]
     },
     "execution_count": 65,
     "metadata": {},
     "output_type": "execute_result"
    }
   ],
   "source": [
    "[dept.id for dept in dept_rows]"
   ]
  },
  {
   "cell_type": "code",
   "execution_count": 66,
   "metadata": {
    "colab": {
     "base_uri": "https://localhost:8080/"
    },
    "id": "udaaiTSfRy24",
    "outputId": "54b3168b-d4e7-47cd-b977-3d399182a3c8",
    "scrolled": true
   },
   "outputs": [
    {
     "data": {
      "text/plain": [
       "['Computer Science',\n",
       " 'Mechanical Engineering',\n",
       " 'Theater and Drama',\n",
       " 'Indoor Recreation']"
      ]
     },
     "execution_count": 66,
     "metadata": {},
     "output_type": "execute_result"
    }
   ],
   "source": [
    "[dept.name for dept in dept_rows]"
   ]
  },
  {
   "cell_type": "markdown",
   "metadata": {
    "id": "DqRGmJk4Ry25"
   },
   "source": [
    "## Creating a `pyspark.DataFrame`\n",
    "\n",
    "* A `DataFrame` is a collection of `Row`s\n",
    "* Create with spark.createDataFrame\n",
    "* Need to have a "
   ]
  },
  {
   "cell_type": "code",
   "execution_count": 67,
   "metadata": {
    "colab": {
     "base_uri": "https://localhost:8080/"
    },
    "id": "2h-qJ8rbRy25",
    "outputId": "5d53526b-c4f1-4b20-c355-849b0af38d34"
   },
   "outputs": [
    {
     "ename": "ConnectionRefusedError",
     "evalue": "[Errno 61] Connection refused",
     "output_type": "error",
     "traceback": [
      "\u001b[0;31m---------------------------------------------------------------------------\u001b[0m",
      "\u001b[0;31mBrokenPipeError\u001b[0m                           Traceback (most recent call last)",
      "File \u001b[0;32m/opt/anaconda3/envs/Pyspark/lib/python3.12/site-packages/py4j/clientserver.py:503\u001b[0m, in \u001b[0;36mClientServerConnection.send_command\u001b[0;34m(self, command)\u001b[0m\n\u001b[1;32m    502\u001b[0m \u001b[38;5;28;01mtry\u001b[39;00m:\n\u001b[0;32m--> 503\u001b[0m     \u001b[38;5;28;43mself\u001b[39;49m\u001b[38;5;241;43m.\u001b[39;49m\u001b[43msocket\u001b[49m\u001b[38;5;241;43m.\u001b[39;49m\u001b[43msendall\u001b[49m\u001b[43m(\u001b[49m\u001b[43mcommand\u001b[49m\u001b[38;5;241;43m.\u001b[39;49m\u001b[43mencode\u001b[49m\u001b[43m(\u001b[49m\u001b[38;5;124;43m\"\u001b[39;49m\u001b[38;5;124;43mutf-8\u001b[39;49m\u001b[38;5;124;43m\"\u001b[39;49m\u001b[43m)\u001b[49m\u001b[43m)\u001b[49m\n\u001b[1;32m    504\u001b[0m \u001b[38;5;28;01mexcept\u001b[39;00m \u001b[38;5;167;01mException\u001b[39;00m \u001b[38;5;28;01mas\u001b[39;00m e:\n",
      "\u001b[0;31mBrokenPipeError\u001b[0m: [Errno 32] Broken pipe",
      "\nDuring handling of the above exception, another exception occurred:\n",
      "\u001b[0;31mPy4JNetworkError\u001b[0m                          Traceback (most recent call last)",
      "File \u001b[0;32m/opt/anaconda3/envs/Pyspark/lib/python3.12/site-packages/py4j/java_gateway.py:1038\u001b[0m, in \u001b[0;36mGatewayClient.send_command\u001b[0;34m(self, command, retry, binary)\u001b[0m\n\u001b[1;32m   1037\u001b[0m \u001b[38;5;28;01mtry\u001b[39;00m:\n\u001b[0;32m-> 1038\u001b[0m     response \u001b[38;5;241m=\u001b[39m \u001b[43mconnection\u001b[49m\u001b[38;5;241;43m.\u001b[39;49m\u001b[43msend_command\u001b[49m\u001b[43m(\u001b[49m\u001b[43mcommand\u001b[49m\u001b[43m)\u001b[49m\n\u001b[1;32m   1039\u001b[0m     \u001b[38;5;28;01mif\u001b[39;00m binary:\n",
      "File \u001b[0;32m/opt/anaconda3/envs/Pyspark/lib/python3.12/site-packages/py4j/clientserver.py:506\u001b[0m, in \u001b[0;36mClientServerConnection.send_command\u001b[0;34m(self, command)\u001b[0m\n\u001b[1;32m    505\u001b[0m     logger\u001b[38;5;241m.\u001b[39minfo(\u001b[38;5;124m\"\u001b[39m\u001b[38;5;124mError while sending or receiving.\u001b[39m\u001b[38;5;124m\"\u001b[39m, exc_info\u001b[38;5;241m=\u001b[39m\u001b[38;5;28;01mTrue\u001b[39;00m)\n\u001b[0;32m--> 506\u001b[0m     \u001b[38;5;28;01mraise\u001b[39;00m Py4JNetworkError(\n\u001b[1;32m    507\u001b[0m         \u001b[38;5;124m\"\u001b[39m\u001b[38;5;124mError while sending\u001b[39m\u001b[38;5;124m\"\u001b[39m, e, proto\u001b[38;5;241m.\u001b[39mERROR_ON_SEND)\n\u001b[1;32m    509\u001b[0m \u001b[38;5;28;01mtry\u001b[39;00m:\n",
      "\u001b[0;31mPy4JNetworkError\u001b[0m: Error while sending",
      "\nDuring handling of the above exception, another exception occurred:\n",
      "\u001b[0;31mConnectionRefusedError\u001b[0m                    Traceback (most recent call last)",
      "Cell \u001b[0;32mIn[67], line 1\u001b[0m\n\u001b[0;32m----> 1\u001b[0m df \u001b[38;5;241m=\u001b[39m \u001b[43mspark\u001b[49m\u001b[38;5;241;43m.\u001b[39;49m\u001b[43mcreateDataFrame\u001b[49m\u001b[43m(\u001b[49m\u001b[43mdept_rows\u001b[49m\u001b[43m)\u001b[49m\n\u001b[1;32m      2\u001b[0m df\n",
      "File \u001b[0;32m/opt/anaconda3/envs/Pyspark/lib/python3.12/site-packages/pyspark/sql/session.py:1383\u001b[0m, in \u001b[0;36mSparkSession.createDataFrame\u001b[0;34m(self, data, schema, samplingRatio, verifySchema)\u001b[0m\n\u001b[1;32m   1381\u001b[0m SparkSession\u001b[38;5;241m.\u001b[39m_activeSession \u001b[38;5;241m=\u001b[39m \u001b[38;5;28mself\u001b[39m\n\u001b[1;32m   1382\u001b[0m \u001b[38;5;28;01massert\u001b[39;00m \u001b[38;5;28mself\u001b[39m\u001b[38;5;241m.\u001b[39m_jvm \u001b[38;5;129;01mis\u001b[39;00m \u001b[38;5;129;01mnot\u001b[39;00m \u001b[38;5;28;01mNone\u001b[39;00m\n\u001b[0;32m-> 1383\u001b[0m \u001b[38;5;28;43mself\u001b[39;49m\u001b[38;5;241;43m.\u001b[39;49m\u001b[43m_jvm\u001b[49m\u001b[38;5;241;43m.\u001b[39;49m\u001b[43mSparkSession\u001b[49m\u001b[38;5;241m.\u001b[39msetActiveSession(\u001b[38;5;28mself\u001b[39m\u001b[38;5;241m.\u001b[39m_jsparkSession)\n\u001b[1;32m   1384\u001b[0m \u001b[38;5;28;01mif\u001b[39;00m \u001b[38;5;28misinstance\u001b[39m(data, DataFrame):\n\u001b[1;32m   1385\u001b[0m     \u001b[38;5;28;01mraise\u001b[39;00m PySparkTypeError(\n\u001b[1;32m   1386\u001b[0m         error_class\u001b[38;5;241m=\u001b[39m\u001b[38;5;124m\"\u001b[39m\u001b[38;5;124mSHOULD_NOT_DATAFRAME\u001b[39m\u001b[38;5;124m\"\u001b[39m,\n\u001b[1;32m   1387\u001b[0m         message_parameters\u001b[38;5;241m=\u001b[39m{\u001b[38;5;124m\"\u001b[39m\u001b[38;5;124marg_name\u001b[39m\u001b[38;5;124m\"\u001b[39m: \u001b[38;5;124m\"\u001b[39m\u001b[38;5;124mdata\u001b[39m\u001b[38;5;124m\"\u001b[39m},\n\u001b[1;32m   1388\u001b[0m     )\n",
      "File \u001b[0;32m/opt/anaconda3/envs/Pyspark/lib/python3.12/site-packages/py4j/java_gateway.py:1712\u001b[0m, in \u001b[0;36mJVMView.__getattr__\u001b[0;34m(self, name)\u001b[0m\n\u001b[1;32m   1709\u001b[0m \u001b[38;5;28;01mif\u001b[39;00m name \u001b[38;5;241m==\u001b[39m UserHelpAutoCompletion\u001b[38;5;241m.\u001b[39mKEY:\n\u001b[1;32m   1710\u001b[0m     \u001b[38;5;28;01mreturn\u001b[39;00m UserHelpAutoCompletion()\n\u001b[0;32m-> 1712\u001b[0m answer \u001b[38;5;241m=\u001b[39m \u001b[38;5;28;43mself\u001b[39;49m\u001b[38;5;241;43m.\u001b[39;49m\u001b[43m_gateway_client\u001b[49m\u001b[38;5;241;43m.\u001b[39;49m\u001b[43msend_command\u001b[49m\u001b[43m(\u001b[49m\n\u001b[1;32m   1713\u001b[0m \u001b[43m    \u001b[49m\u001b[43mproto\u001b[49m\u001b[38;5;241;43m.\u001b[39;49m\u001b[43mREFLECTION_COMMAND_NAME\u001b[49m\u001b[43m \u001b[49m\u001b[38;5;241;43m+\u001b[39;49m\n\u001b[1;32m   1714\u001b[0m \u001b[43m    \u001b[49m\u001b[43mproto\u001b[49m\u001b[38;5;241;43m.\u001b[39;49m\u001b[43mREFL_GET_UNKNOWN_SUB_COMMAND_NAME\u001b[49m\u001b[43m \u001b[49m\u001b[38;5;241;43m+\u001b[39;49m\u001b[43m \u001b[49m\u001b[43mname\u001b[49m\u001b[43m \u001b[49m\u001b[38;5;241;43m+\u001b[39;49m\u001b[43m \u001b[49m\u001b[38;5;124;43m\"\u001b[39;49m\u001b[38;5;130;43;01m\\n\u001b[39;49;00m\u001b[38;5;124;43m\"\u001b[39;49m\u001b[43m \u001b[49m\u001b[38;5;241;43m+\u001b[39;49m\u001b[43m \u001b[49m\u001b[38;5;28;43mself\u001b[39;49m\u001b[38;5;241;43m.\u001b[39;49m\u001b[43m_id\u001b[49m\u001b[43m \u001b[49m\u001b[38;5;241;43m+\u001b[39;49m\n\u001b[1;32m   1715\u001b[0m \u001b[43m    \u001b[49m\u001b[38;5;124;43m\"\u001b[39;49m\u001b[38;5;130;43;01m\\n\u001b[39;49;00m\u001b[38;5;124;43m\"\u001b[39;49m\u001b[43m \u001b[49m\u001b[38;5;241;43m+\u001b[39;49m\u001b[43m \u001b[49m\u001b[43mproto\u001b[49m\u001b[38;5;241;43m.\u001b[39;49m\u001b[43mEND_COMMAND_PART\u001b[49m\u001b[43m)\u001b[49m\n\u001b[1;32m   1716\u001b[0m \u001b[38;5;28;01mif\u001b[39;00m answer \u001b[38;5;241m==\u001b[39m proto\u001b[38;5;241m.\u001b[39mSUCCESS_PACKAGE:\n\u001b[1;32m   1717\u001b[0m     \u001b[38;5;28;01mreturn\u001b[39;00m JavaPackage(name, \u001b[38;5;28mself\u001b[39m\u001b[38;5;241m.\u001b[39m_gateway_client, jvm_id\u001b[38;5;241m=\u001b[39m\u001b[38;5;28mself\u001b[39m\u001b[38;5;241m.\u001b[39m_id)\n",
      "File \u001b[0;32m/opt/anaconda3/envs/Pyspark/lib/python3.12/site-packages/py4j/java_gateway.py:1053\u001b[0m, in \u001b[0;36mGatewayClient.send_command\u001b[0;34m(self, command, retry, binary)\u001b[0m\n\u001b[1;32m   1051\u001b[0m \u001b[38;5;28;01mif\u001b[39;00m \u001b[38;5;28mself\u001b[39m\u001b[38;5;241m.\u001b[39m_should_retry(retry, connection, pne):\n\u001b[1;32m   1052\u001b[0m     logging\u001b[38;5;241m.\u001b[39minfo(\u001b[38;5;124m\"\u001b[39m\u001b[38;5;124mException while sending command.\u001b[39m\u001b[38;5;124m\"\u001b[39m, exc_info\u001b[38;5;241m=\u001b[39m\u001b[38;5;28;01mTrue\u001b[39;00m)\n\u001b[0;32m-> 1053\u001b[0m     response \u001b[38;5;241m=\u001b[39m \u001b[38;5;28;43mself\u001b[39;49m\u001b[38;5;241;43m.\u001b[39;49m\u001b[43msend_command\u001b[49m\u001b[43m(\u001b[49m\u001b[43mcommand\u001b[49m\u001b[43m,\u001b[49m\u001b[43m \u001b[49m\u001b[43mbinary\u001b[49m\u001b[38;5;241;43m=\u001b[39;49m\u001b[43mbinary\u001b[49m\u001b[43m)\u001b[49m\n\u001b[1;32m   1054\u001b[0m \u001b[38;5;28;01melse\u001b[39;00m:\n\u001b[1;32m   1055\u001b[0m     logging\u001b[38;5;241m.\u001b[39mexception(\n\u001b[1;32m   1056\u001b[0m         \u001b[38;5;124m\"\u001b[39m\u001b[38;5;124mException while sending command.\u001b[39m\u001b[38;5;124m\"\u001b[39m)\n",
      "File \u001b[0;32m/opt/anaconda3/envs/Pyspark/lib/python3.12/site-packages/py4j/java_gateway.py:1036\u001b[0m, in \u001b[0;36mGatewayClient.send_command\u001b[0;34m(self, command, retry, binary)\u001b[0m\n\u001b[1;32m   1015\u001b[0m \u001b[38;5;28;01mdef\u001b[39;00m \u001b[38;5;21msend_command\u001b[39m(\u001b[38;5;28mself\u001b[39m, command, retry\u001b[38;5;241m=\u001b[39m\u001b[38;5;28;01mTrue\u001b[39;00m, binary\u001b[38;5;241m=\u001b[39m\u001b[38;5;28;01mFalse\u001b[39;00m):\n\u001b[1;32m   1016\u001b[0m \u001b[38;5;250m    \u001b[39m\u001b[38;5;124;03m\"\"\"Sends a command to the JVM. This method is not intended to be\u001b[39;00m\n\u001b[1;32m   1017\u001b[0m \u001b[38;5;124;03m       called directly by Py4J users. It is usually called by\u001b[39;00m\n\u001b[1;32m   1018\u001b[0m \u001b[38;5;124;03m       :class:`JavaMember` instances.\u001b[39;00m\n\u001b[0;32m   (...)\u001b[0m\n\u001b[1;32m   1034\u001b[0m \u001b[38;5;124;03m     if `binary` is `True`.\u001b[39;00m\n\u001b[1;32m   1035\u001b[0m \u001b[38;5;124;03m    \"\"\"\u001b[39;00m\n\u001b[0;32m-> 1036\u001b[0m     connection \u001b[38;5;241m=\u001b[39m \u001b[38;5;28;43mself\u001b[39;49m\u001b[38;5;241;43m.\u001b[39;49m\u001b[43m_get_connection\u001b[49m\u001b[43m(\u001b[49m\u001b[43m)\u001b[49m\n\u001b[1;32m   1037\u001b[0m     \u001b[38;5;28;01mtry\u001b[39;00m:\n\u001b[1;32m   1038\u001b[0m         response \u001b[38;5;241m=\u001b[39m connection\u001b[38;5;241m.\u001b[39msend_command(command)\n",
      "File \u001b[0;32m/opt/anaconda3/envs/Pyspark/lib/python3.12/site-packages/py4j/clientserver.py:284\u001b[0m, in \u001b[0;36mJavaClient._get_connection\u001b[0;34m(self)\u001b[0m\n\u001b[1;32m    281\u001b[0m     \u001b[38;5;28;01mpass\u001b[39;00m\n\u001b[1;32m    283\u001b[0m \u001b[38;5;28;01mif\u001b[39;00m connection \u001b[38;5;129;01mis\u001b[39;00m \u001b[38;5;28;01mNone\u001b[39;00m \u001b[38;5;129;01mor\u001b[39;00m connection\u001b[38;5;241m.\u001b[39msocket \u001b[38;5;129;01mis\u001b[39;00m \u001b[38;5;28;01mNone\u001b[39;00m:\n\u001b[0;32m--> 284\u001b[0m     connection \u001b[38;5;241m=\u001b[39m \u001b[38;5;28;43mself\u001b[39;49m\u001b[38;5;241;43m.\u001b[39;49m\u001b[43m_create_new_connection\u001b[49m\u001b[43m(\u001b[49m\u001b[43m)\u001b[49m\n\u001b[1;32m    285\u001b[0m \u001b[38;5;28;01mreturn\u001b[39;00m connection\n",
      "File \u001b[0;32m/opt/anaconda3/envs/Pyspark/lib/python3.12/site-packages/py4j/clientserver.py:291\u001b[0m, in \u001b[0;36mJavaClient._create_new_connection\u001b[0;34m(self)\u001b[0m\n\u001b[1;32m    287\u001b[0m \u001b[38;5;28;01mdef\u001b[39;00m \u001b[38;5;21m_create_new_connection\u001b[39m(\u001b[38;5;28mself\u001b[39m):\n\u001b[1;32m    288\u001b[0m     connection \u001b[38;5;241m=\u001b[39m ClientServerConnection(\n\u001b[1;32m    289\u001b[0m         \u001b[38;5;28mself\u001b[39m\u001b[38;5;241m.\u001b[39mjava_parameters, \u001b[38;5;28mself\u001b[39m\u001b[38;5;241m.\u001b[39mpython_parameters,\n\u001b[1;32m    290\u001b[0m         \u001b[38;5;28mself\u001b[39m\u001b[38;5;241m.\u001b[39mgateway_property, \u001b[38;5;28mself\u001b[39m)\n\u001b[0;32m--> 291\u001b[0m     \u001b[43mconnection\u001b[49m\u001b[38;5;241;43m.\u001b[39;49m\u001b[43mconnect_to_java_server\u001b[49m\u001b[43m(\u001b[49m\u001b[43m)\u001b[49m\n\u001b[1;32m    292\u001b[0m     \u001b[38;5;28mself\u001b[39m\u001b[38;5;241m.\u001b[39mset_thread_connection(connection)\n\u001b[1;32m    293\u001b[0m     \u001b[38;5;28;01mreturn\u001b[39;00m connection\n",
      "File \u001b[0;32m/opt/anaconda3/envs/Pyspark/lib/python3.12/site-packages/py4j/clientserver.py:438\u001b[0m, in \u001b[0;36mClientServerConnection.connect_to_java_server\u001b[0;34m(self)\u001b[0m\n\u001b[1;32m    435\u001b[0m \u001b[38;5;28;01mif\u001b[39;00m \u001b[38;5;28mself\u001b[39m\u001b[38;5;241m.\u001b[39mssl_context:\n\u001b[1;32m    436\u001b[0m     \u001b[38;5;28mself\u001b[39m\u001b[38;5;241m.\u001b[39msocket \u001b[38;5;241m=\u001b[39m \u001b[38;5;28mself\u001b[39m\u001b[38;5;241m.\u001b[39mssl_context\u001b[38;5;241m.\u001b[39mwrap_socket(\n\u001b[1;32m    437\u001b[0m         \u001b[38;5;28mself\u001b[39m\u001b[38;5;241m.\u001b[39msocket, server_hostname\u001b[38;5;241m=\u001b[39m\u001b[38;5;28mself\u001b[39m\u001b[38;5;241m.\u001b[39mjava_address)\n\u001b[0;32m--> 438\u001b[0m \u001b[38;5;28;43mself\u001b[39;49m\u001b[38;5;241;43m.\u001b[39;49m\u001b[43msocket\u001b[49m\u001b[38;5;241;43m.\u001b[39;49m\u001b[43mconnect\u001b[49m\u001b[43m(\u001b[49m\u001b[43m(\u001b[49m\u001b[38;5;28;43mself\u001b[39;49m\u001b[38;5;241;43m.\u001b[39;49m\u001b[43mjava_address\u001b[49m\u001b[43m,\u001b[49m\u001b[43m \u001b[49m\u001b[38;5;28;43mself\u001b[39;49m\u001b[38;5;241;43m.\u001b[39;49m\u001b[43mjava_port\u001b[49m\u001b[43m)\u001b[49m\u001b[43m)\u001b[49m\n\u001b[1;32m    439\u001b[0m \u001b[38;5;28mself\u001b[39m\u001b[38;5;241m.\u001b[39mstream \u001b[38;5;241m=\u001b[39m \u001b[38;5;28mself\u001b[39m\u001b[38;5;241m.\u001b[39msocket\u001b[38;5;241m.\u001b[39mmakefile(\u001b[38;5;124m\"\u001b[39m\u001b[38;5;124mrb\u001b[39m\u001b[38;5;124m\"\u001b[39m)\n\u001b[1;32m    440\u001b[0m \u001b[38;5;28mself\u001b[39m\u001b[38;5;241m.\u001b[39mis_connected \u001b[38;5;241m=\u001b[39m \u001b[38;5;28;01mTrue\u001b[39;00m\n",
      "\u001b[0;31mConnectionRefusedError\u001b[0m: [Errno 61] Connection refused"
     ]
    }
   ],
   "source": [
    "df = spark.createDataFrame(dept_rows)\n",
    "df"
   ]
  },
  {
   "cell_type": "markdown",
   "metadata": {
    "id": "GdXTzICWRy3Q"
   },
   "source": [
    "## Creating rows from list of data"
   ]
  },
  {
   "cell_type": "markdown",
   "metadata": {
    "id": "Hu-N03ygRy3R"
   },
   "source": [
    "## Creating a Row class\n",
    "\n",
    "* Pass `Row` the columns names\n",
    "* Creates a specialized `Row` class"
   ]
  },
  {
   "cell_type": "code",
   "execution_count": 68,
   "metadata": {
    "colab": {
     "base_uri": "https://localhost:8080/"
    },
    "id": "1ZO3CiYYRy3R",
    "outputId": "97ac94a4-1cf4-4bff-9152-1ac38dfc7fad"
   },
   "outputs": [
    {
     "data": {
      "text/plain": [
       "<Row('firstName', 'lastName', 'email', 'salary')>"
      ]
     },
     "execution_count": 68,
     "metadata": {},
     "output_type": "execute_result"
    }
   ],
   "source": [
    "Employee = Row(\"firstName\", \"lastName\", \"email\", \"salary\")\n",
    "Employee"
   ]
  },
  {
   "cell_type": "markdown",
   "metadata": {
    "id": "MrAAWT4nRy3S"
   },
   "source": [
    "## Creating a `Employee` instance\n",
    "\n",
    "* Pass the data to `Employee` to make a row\n",
    "* Order matters ... use the same order as names"
   ]
  },
  {
   "cell_type": "code",
   "execution_count": 42,
   "metadata": {
    "colab": {
     "base_uri": "https://localhost:8080/"
    },
    "id": "auFhqmbNRy3S",
    "outputId": "69e0ffbe-5c3e-421e-8701-7d3150de1968"
   },
   "outputs": [
    {
     "data": {
      "text/plain": [
       "Row(firstName='michael', lastName='armbrust', email='no-reply@berkeley.edu', salary=100000)"
      ]
     },
     "execution_count": 42,
     "metadata": {},
     "output_type": "execute_result"
    }
   ],
   "source": [
    "Employee = Row(\"firstName\", \"lastName\", \"email\", \"salary\")\n",
    "employee1 = Employee('michael', 'armbrust', 'no-reply@berkeley.edu', 100000)\n",
    "employee1"
   ]
  },
  {
   "cell_type": "markdown",
   "metadata": {
    "id": "t-3Q8QpZRy3S"
   },
   "source": [
    "## Unpacking a data list\n",
    "\n",
    "* Suppose the data is in a list/tuple.\n",
    "* Use sequence unpacking with `*`"
   ]
  },
  {
   "cell_type": "code",
   "execution_count": 43,
   "metadata": {
    "colab": {
     "base_uri": "https://localhost:8080/"
    },
    "id": "PJv1aQpRRy3T",
    "outputId": "4a45810f-e83f-4bdb-cbf5-1766a154165f"
   },
   "outputs": [
    {
     "data": {
      "text/plain": [
       "('xiangrui', 'meng', 'no-reply@stanford.edu', 120000)"
      ]
     },
     "execution_count": 43,
     "metadata": {},
     "output_type": "execute_result"
    }
   ],
   "source": [
    "empl2_info = ('xiangrui', 'meng', 'no-reply@stanford.edu', 120000)\n",
    "empl2_info"
   ]
  },
  {
   "cell_type": "code",
   "execution_count": 44,
   "metadata": {
    "colab": {
     "base_uri": "https://localhost:8080/"
    },
    "id": "4dRAOZ-CRy3T",
    "outputId": "89b53a0f-b753-4f3f-ec0f-27b0fe9528da"
   },
   "outputs": [
    {
     "data": {
      "text/plain": [
       "Row(firstName='xiangrui', lastName='meng', email='no-reply@stanford.edu', salary=120000)"
      ]
     },
     "execution_count": 44,
     "metadata": {},
     "output_type": "execute_result"
    }
   ],
   "source": [
    "employee2 = Employee(*empl2_info)\n",
    "employee2"
   ]
  },
  {
   "cell_type": "markdown",
   "metadata": {
    "id": "igGducXvRy3T"
   },
   "source": [
    "## Unpacking "
   ]
  },
  {
   "cell_type": "code",
   "execution_count": 45,
   "metadata": {
    "colab": {
     "base_uri": "https://localhost:8080/"
    },
    "id": "g64SPRukRy3U",
    "outputId": "1d46f0ac-ada3-496d-d572-7864a4826a41"
   },
   "outputs": [
    {
     "data": {
      "text/plain": [
       "[Row(firstName='michael', lastName='armbrust', email='no-reply@berkeley.edu', salary=100000),\n",
       " Row(firstName='xiangrui', lastName='meng', email='no-reply@stanford.edu', salary=120000),\n",
       " Row(firstName='matei', lastName=None, email='no-reply@waterloo.edu', salary=140000),\n",
       " Row(firstName=None, lastName='wendell', email='no-reply@berkeley.edu', salary=160000)]"
      ]
     },
     "execution_count": 45,
     "metadata": {},
     "output_type": "execute_result"
    }
   ],
   "source": [
    "# Create the Employees\n",
    "Employee = Row(\"firstName\", \"lastName\", \"email\", \"salary\")\n",
    "employees = [('michael', 'armbrust', 'no-reply@berkeley.edu', 100000),\n",
    "             ('xiangrui', 'meng', 'no-reply@stanford.edu', 120000),\n",
    "             ('matei', None, 'no-reply@waterloo.edu', 140000),\n",
    "             (None, 'wendell', 'no-reply@berkeley.edu', 160000)]\n",
    "emp_rows = [Employee(*r) for r in employees]\n",
    "emp_rows"
   ]
  }
 ],
 "metadata": {
  "celltoolbar": "Slideshow",
  "colab": {
   "provenance": []
  },
  "kernelspec": {
   "display_name": "Python 3 (ipykernel)",
   "language": "python",
   "name": "python3"
  },
  "language_info": {
   "codemirror_mode": {
    "name": "ipython",
    "version": 3
   },
   "file_extension": ".py",
   "mimetype": "text/x-python",
   "name": "python",
   "nbconvert_exporter": "python",
   "pygments_lexer": "ipython3",
   "version": "3.12.7"
  },
  "varInspector": {
   "cols": {
    "lenName": 16,
    "lenType": 16,
    "lenVar": 40
   },
   "kernels_config": {
    "python": {
     "delete_cmd_postfix": "",
     "delete_cmd_prefix": "del ",
     "library": "var_list.py",
     "varRefreshCmd": "print(var_dic_list())"
    },
    "r": {
     "delete_cmd_postfix": ") ",
     "delete_cmd_prefix": "rm(",
     "library": "var_list.r",
     "varRefreshCmd": "cat(var_dic_list()) "
    }
   },
   "types_to_exclude": [
    "module",
    "function",
    "builtin_function_or_method",
    "instance",
    "_Feature"
   ],
   "window_display": false
  }
 },
 "nbformat": 4,
 "nbformat_minor": 4
}
